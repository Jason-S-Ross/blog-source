{
 "cells": [
  {
   "cell_type": "markdown",
   "metadata": {},
   "source": [
    "Trunks didn't know he was about to learn about directed acyclic graphs when he went back in time to save Goku."
   ]
  },
  {
   "cell_type": "markdown",
   "metadata": {},
   "source": [
    "Let's start a timeline of events."
   ]
  },
  {
   "cell_type": "code",
   "execution_count": 1,
   "metadata": {},
   "outputs": [
    {
     "name": "stdout",
     "output_type": "stream",
     "text": [
      "Initialized empty Git repository in /home/jason/Projects/blog/content/Goku/.git/\n",
      "Switched to a new branch 'FutureTrunks'\n"
     ]
    }
   ],
   "source": [
    "rm -vrdf  !(\"Goku.ipynb\") > /dev/null\n",
    "rm -rdf .git .gitignore > /dev/null\n",
    "git init\n",
    "git config --local user.name \"Jason Ross\"\n",
    "git config --local user.email \"jasonross1024@gmail.com\"\n",
    "git checkout -b \"FutureTrunks\"\n",
    "echo \".ipynb_checkpoints/\" >> .gitignore\n",
    "echo \"*.ipynb\" >> .gitignore\n",
    "git add .gitignore"
   ]
  },
  {
   "cell_type": "code",
   "execution_count": 2,
   "metadata": {},
   "outputs": [
    {
     "name": "stdout",
     "output_type": "stream",
     "text": [
      "* \u001b[33mcommit f8635332d23c774dcf24e8296e41a75e9e01d68a\u001b[m\u001b[33m (\u001b[m\u001b[1;36mHEAD -> \u001b[m\u001b[1;32mFutureTrunks\u001b[m\u001b[33m)\u001b[m\n",
      "\u001b[31m|\u001b[m Author: Jason Ross <jasonross1024@gmail.com>\n",
      "\u001b[31m|\u001b[m Date:   Sun Jan 1 16:17:07 2017 -0800\n",
      "\u001b[31m|\u001b[m \n",
      "\u001b[31m|\u001b[m     Bulma reveals that she has developed a time machine. Can Trunks use it to change history, save Goku, and prevent this tragedy from ever happening?\n",
      "\u001b[31m|\u001b[m \n",
      "* \u001b[33mcommit 7bf5838c3171dba6b2c1404fc0d5d57ec5711bd2\u001b[m\n",
      "\u001b[31m|\u001b[m Author: Jason Ross <jasonross1024@gmail.com>\n",
      "\u001b[31m|\u001b[m Date:   Wed Jan 1 16:17:07 2014 -0800\n",
      "\u001b[31m|\u001b[m \n",
      "\u001b[31m|\u001b[m     Gohan sacrifices himself to save Trunks. Driven by anger and grief, Trunks finally finds the strength to transform into a Super Sayian\n",
      "\u001b[31m|\u001b[m \n",
      "* \u001b[33mcommit c529ff2bfe0602000c68755bf355375b4aec0b98\u001b[m\n",
      "\u001b[31m|\u001b[m Author: Jason Ross <jasonross1024@gmail.com>\n",
      "\u001b[31m|\u001b[m Date:   Thu Jan 1 16:17:06 2004 -0800\n",
      "\u001b[31m|\u001b[m \n",
      "\u001b[31m|\u001b[m     The Z fighters are defeated one by one, leaving only Trunks, Gohan, and Bulma\n",
      "\u001b[31m|\u001b[m \n",
      "* \u001b[33mcommit bff019a352ff998f324d530f4b1706e7e04be4f2\u001b[m\n",
      "\u001b[31m|\u001b[m Author: Jason Ross <jasonross1024@gmail.com>\n",
      "\u001b[31m|\u001b[m Date:   Wed Jan 1 16:17:06 2003 -0800\n",
      "\u001b[31m|\u001b[m \n",
      "\u001b[31m|\u001b[m     Androids 17 and 18 emerge from Dr. Gero's secret lab\n",
      "\u001b[31m|\u001b[m \n",
      "* \u001b[33mcommit 817e54b8b5adde8a2cde144c427a6f7f6eb00ab2\u001b[m\n",
      "\u001b[31m|\u001b[m Author: Jason Ross <jasonross1024@gmail.com>\n",
      "\u001b[31m|\u001b[m Date:   Fri Nov 1 16:17:06 2002 -0800\n",
      "\u001b[31m|\u001b[m \n",
      "\u001b[31m|\u001b[m     Goku succumbs to the heart virus\n",
      "\u001b[31m|\u001b[m \n",
      "* \u001b[33mcommit ec33ffd515a4d8cc50b96f6db051ab3146beceba\u001b[m\n",
      "\u001b[31m|\u001b[m Author: Jason Ross <jasonross1024@gmail.com>\n",
      "\u001b[31m|\u001b[m Date:   Tue Oct 1 17:17:06 2002 -0700\n",
      "\u001b[31m|\u001b[m \n",
      "\u001b[31m|\u001b[m     Goku contracts a deadly heart virus\n",
      "\u001b[31m|\u001b[m \n",
      "* \u001b[33mcommit b10e01a90f27ab1f3175733be6ec855583bdccf5\u001b[m\n",
      "\u001b[31m|\u001b[m Author: Jason Ross <jasonross1024@gmail.com>\n",
      "\u001b[31m|\u001b[m Date:   Tue Jan 1 16:17:06 2002 -0800\n",
      "\u001b[31m|\u001b[m \n",
      "\u001b[31m|\u001b[m     Trunks is born\n",
      "\u001b[31m|\u001b[m \n",
      "* \u001b[33mcommit 8344a2bccb06a3b64f6cac1dfe2ad5b2fa24d8bb\u001b[m\n",
      "\u001b[31m|\u001b[m Author: Jason Ross <jasonross1024@gmail.com>\n",
      "\u001b[31m|\u001b[m Date:   Sat Jan 1 09:50:00 2000 -0800\n",
      "\u001b[31m|\u001b[m \n",
      "\u001b[31m|\u001b[m     Goku defeats Frieza and his father once and for all\n",
      "\u001b[31m|\u001b[m \n",
      "* \u001b[33mcommit 8788a48ae7310323793fbd25b3dd52ec030cfd14\u001b[m\n",
      "\u001b[31m|\u001b[m Author: Jason Ross <jasonross1024@gmail.com>\n",
      "\u001b[31m|\u001b[m Date:   Sat Jan 1 09:45:00 2000 -0800\n",
      "\u001b[31m|\u001b[m \n",
      "\u001b[31m|\u001b[m     Goku dispatches Frieza's minions with ease\n",
      "\u001b[31m|\u001b[m \n",
      "* \u001b[33mcommit 6f1feb1c3cb3e4edd6bdbdd917b6410b1ac976a7\u001b[m\n",
      "\u001b[31m|\u001b[m Author: Jason Ross <jasonross1024@gmail.com>\n",
      "\u001b[31m|\u001b[m Date:   Sat Jan 1 09:40:00 2000 -0800\n",
      "\u001b[31m|\u001b[m \n",
      "\u001b[31m|\u001b[m     Goku arrives using instant transmission\n",
      "\u001b[31m|\u001b[m \n",
      "* \u001b[33mcommit 60e31961ce87099d67162e2a72b4e6e9e4b855ab\u001b[m\n",
      "\u001b[31m|\u001b[m Author: Jason Ross <jasonross1024@gmail.com>\n",
      "\u001b[31m|\u001b[m Date:   Sat Jan 1 09:35:00 2000 -0800\n",
      "\u001b[31m|\u001b[m \n",
      "\u001b[31m|\u001b[m     Frieza's minions emerge and begin to battle\n",
      "\u001b[31m|\u001b[m \n",
      "* \u001b[33mcommit 7f7a6b050f477085c4775c9c9ee75990efdf4e33\u001b[m\n",
      "\u001b[31m|\u001b[m Author: Jason Ross <jasonross1024@gmail.com>\n",
      "\u001b[31m|\u001b[m Date:   Sat Jan 1 09:30:00 2000 -0800\n",
      "\u001b[31m|\u001b[m \n",
      "\u001b[31m|\u001b[m     Frieza and King Cold arrive\n",
      "\u001b[31m|\u001b[m \n",
      "* \u001b[33mcommit 83c94bc562c5586597159fbd52796b055e7475ff\u001b[m\n",
      "  Author: Jason Ross <jasonross1024@gmail.com>\n",
      "  Date:   Sat Jan 1 09:00:00 2000 -0800\n",
      "  \n",
      "      The Z fighters prepare for battle with the evil Freiza and his father King Cold\n"
     ]
    }
   ],
   "source": [
    "touch vegeta krillin gohan piccolo bulma\n",
    "git add vegeta krillin gohan piccolo bulma\n",
    "git commit --quiet -m \\\n",
    "\"The Z fighters prepare for battle with the evil Freiza and his father King Cold\" \\\n",
    "--date 2000-01-01T09:00:00\n",
    "\n",
    "touch frieza king-cold \n",
    "git add frieza king-cold\n",
    "git commit --quiet -m \"Frieza and King Cold arrive\" --date 2000-01-01T09:30\n",
    "\n",
    "touch minions\n",
    "git add minions\n",
    "git commit --quiet -m \"Frieza's minions emerge and begin to battle\" --date 2000-01-01T09:35\n",
    "\n",
    "touch goku\n",
    "git add goku\n",
    "git commit --quiet -m \"Goku arrives using instant transmission\" --date 2000-01-01T09:40\n",
    "\n",
    "git rm minions > /dev/null\n",
    "git commit --quiet -m \"Goku dispatches Frieza's minions with ease\" --date 2000-01-01T09:45\n",
    "\n",
    "git rm frieza king-cold > /dev/null\n",
    "git commit --quiet -m \"Goku defeats Frieza and his father once and for all\" --date 2000-01-01T09:50\n",
    "\n",
    "touch trunks\n",
    "git add trunks\n",
    "git commit --quiet -m \"Trunks is born\" --date 2002-01-01\n",
    "\n",
    "touch heart-virus\n",
    "git add heart-virus\n",
    "git commit --quiet -m \"Goku contracts a deadly heart virus\" --date 2002-10-01\n",
    "\n",
    "git rm goku > /dev/null\n",
    "git commit --quiet -m \"Goku succumbs to the heart virus\" --date 2002-11-01\n",
    "\n",
    "touch android17 android18\n",
    "git add android17 android18\n",
    "git commit --quiet -m \"Androids 17 and 18 emerge from Dr. Gero's secret lab\" --date 2003-01-01\n",
    "\n",
    "git rm piccolo krillin vegeta > /dev/null\n",
    "git commit --quiet -m \\\n",
    "\"The Z fighters are defeated one by one, leaving only Trunks, Gohan, and Bulma\" --date 2004-01-01\n",
    "\n",
    "git rm gohan > /dev/null\n",
    "git commit --quiet -m \\\n",
    "\"Gohan sacrifices himself to save Trunks. \\\n",
    "Driven by anger and grief, Trunks finally finds the strength to transform into a Super Sayian\" \\\n",
    "--date 2014-01-01\n",
    "\n",
    "touch time-machine medicine\n",
    "git add time-machine medicine\n",
    "git commit --quiet -m \\\n",
    "\"Bulma reveals that she has developed a time machine. \\\n",
    "Can Trunks use it to change history, save Goku, and prevent this tragedy from ever happening?\" \\\n",
    "--date 2017-01-01 > /dev/null\n",
    "\n",
    "git log --graph --decorate"
   ]
  },
  {
   "cell_type": "code",
   "execution_count": null,
   "metadata": {},
   "outputs": [],
   "source": [
    "git reset --hard HEAD@{11}"
   ]
  },
  {
   "cell_type": "code",
   "execution_count": 5,
   "metadata": {},
   "outputs": [
    {
     "name": "stdout",
     "output_type": "stream",
     "text": [
      "* \u001b[33mcommit 5f4ec932c26070a5a90ab40db4eaef0834b84bfd\u001b[m\u001b[33m (\u001b[m\u001b[1;36mHEAD -> \u001b[m\u001b[1;32mFutureTrunks\u001b[m\u001b[33m)\u001b[m\n",
      "\u001b[31m|\u001b[m Author: Jason Ross <jasonross1024@gmail.com>\n",
      "\u001b[31m|\u001b[m \n",
      "\u001b[31m|\u001b[m     Frieza and King Cold arrive\n",
      "\u001b[31m|\u001b[m \n",
      "* \u001b[33mcommit fa2af93832f96b432c706c6a733ceaf4e7fcaf6e\u001b[m\n",
      "  Author: Jason Ross <jasonross1024@gmail.com>\n",
      "  \n",
      "      The Z fighters prepare for battle with the evil Freiza and his father King Cold\n"
     ]
    }
   ],
   "source": [
    "git log --graph --decorate --pretty=short"
   ]
  },
  {
   "cell_type": "code",
   "execution_count": 6,
   "metadata": {},
   "outputs": [
    {
     "name": "stdout",
     "output_type": "stream",
     "text": [
      "* \u001b[33mcommit f4297174648706d347e8e27e7ceaa5b793d2db36\u001b[m\n",
      "\u001b[31m|\u001b[m Author: Jason Ross <jasonross1024@gmail.com>\n",
      "\u001b[31m|\u001b[m \n",
      "\u001b[31m|\u001b[m     Bulma reveals that she has developed a time machine. Can Trunks use it to change history, save Goku, and prevent this tragedy from ever happening?\n",
      "\u001b[31m|\u001b[m \n",
      "* \u001b[33mcommit 029e20747c69f80488a9376aabfa8a3f97035ad9\u001b[m\n",
      "\u001b[31m|\u001b[m Author: Jason Ross <jasonross1024@gmail.com>\n",
      "\u001b[31m|\u001b[m \n",
      "\u001b[31m|\u001b[m     Gohan sacrifices himself to save Trunks. Driven by anger and grief, Trunks finally finds the strength to transform into a Super Sayian\n",
      "\u001b[31m|\u001b[m \n",
      "* \u001b[33mcommit cc8df797da902945a2b32218fb205d58afc7e5ef\u001b[m\n",
      "\u001b[31m|\u001b[m Author: Jason Ross <jasonross1024@gmail.com>\n",
      "\u001b[31m|\u001b[m \n",
      "\u001b[31m|\u001b[m     The Z fighters are defeated one by one, leaving only Trunks, Gohan, and Bulma\n",
      "\u001b[31m|\u001b[m \n",
      "* \u001b[33mcommit 7075eff4736352dcd18c3b964b274f8580ee50b7\u001b[m\n",
      "\u001b[31m|\u001b[m Author: Jason Ross <jasonross1024@gmail.com>\n",
      "\u001b[31m|\u001b[m \n",
      "\u001b[31m|\u001b[m     Androids 17 and 18 emerge from Dr. Gero's secret lab\n",
      "\u001b[31m|\u001b[m \n",
      "* \u001b[33mcommit 4814ad235f45c765eff6c8311e97f59a7c09456a\u001b[m\n",
      "\u001b[31m|\u001b[m Author: Jason Ross <jasonross1024@gmail.com>\n",
      "\u001b[31m|\u001b[m \n",
      "\u001b[31m|\u001b[m     Goku succumbs to the heart virus\n",
      "\u001b[31m|\u001b[m \n",
      "* \u001b[33mcommit bd815396a8a932cff57f77ea6d95d6fb848044c1\u001b[m\n",
      "\u001b[31m|\u001b[m Author: Jason Ross <jasonross1024@gmail.com>\n",
      "\u001b[31m|\u001b[m \n",
      "\u001b[31m|\u001b[m     Goku contracts a deadly heart virus\n",
      "\u001b[31m|\u001b[m \n",
      "* \u001b[33mcommit afabc681a425e72e1bf46656cda02c3949d52e20\u001b[m\n",
      "\u001b[31m|\u001b[m Author: Jason Ross <jasonross1024@gmail.com>\n",
      "\u001b[31m|\u001b[m \n",
      "\u001b[31m|\u001b[m     Trunks is born\n",
      "\u001b[31m|\u001b[m \n",
      "* \u001b[33mcommit e1be851cf01b49418f45a376471221b5ad47af41\u001b[m\n",
      "\u001b[31m|\u001b[m Author: Jason Ross <jasonross1024@gmail.com>\n",
      "\u001b[31m|\u001b[m \n",
      "\u001b[31m|\u001b[m     Goku defeats Frieza and his father once and for all\n",
      "\u001b[31m|\u001b[m \n",
      "* \u001b[33mcommit 4eb6373f71bae1088098ec2d52c10bf03bb9736d\u001b[m\n",
      "\u001b[31m|\u001b[m Author: Jason Ross <jasonross1024@gmail.com>\n",
      "\u001b[31m|\u001b[m \n",
      "\u001b[31m|\u001b[m     Goku dispatches Frieza's minions with ease\n",
      "\u001b[31m|\u001b[m \n",
      "* \u001b[33mcommit 2df157715421b012394b9613907f309f90fd7dbf\u001b[m\n",
      "\u001b[31m|\u001b[m Author: Jason Ross <jasonross1024@gmail.com>\n",
      "\u001b[31m|\u001b[m \n",
      "\u001b[31m|\u001b[m     Goku arrives using instant transmission\n",
      "\u001b[31m|\u001b[m \n",
      "* \u001b[33mcommit 2937337f2ba3dfe73c9de746fad67d30b91ed2ba\u001b[m\n",
      "\u001b[31m|\u001b[m Author: Jason Ross <jasonross1024@gmail.com>\n",
      "\u001b[31m|\u001b[m \n",
      "\u001b[31m|\u001b[m     Frieza's minions emerge and begin to battle\n",
      "\u001b[31m|\u001b[m \n",
      "* \u001b[33mcommit 5f4ec932c26070a5a90ab40db4eaef0834b84bfd\u001b[m\u001b[33m (\u001b[m\u001b[1;36mHEAD -> \u001b[m\u001b[1;32mFutureTrunks\u001b[m\u001b[33m)\u001b[m\n",
      "\u001b[31m|\u001b[m Author: Jason Ross <jasonross1024@gmail.com>\n",
      "\u001b[31m|\u001b[m \n",
      "\u001b[31m|\u001b[m     Frieza and King Cold arrive\n",
      "\u001b[31m|\u001b[m \n",
      "* \u001b[33mcommit fa2af93832f96b432c706c6a733ceaf4e7fcaf6e\u001b[m\n",
      "  Author: Jason Ross <jasonross1024@gmail.com>\n",
      "  \n",
      "      The Z fighters prepare for battle with the evil Freiza and his father King Cold\n"
     ]
    }
   ],
   "source": [
    "git log --graph --decorate --pretty=short --reflog"
   ]
  },
  {
   "cell_type": "code",
   "execution_count": 7,
   "metadata": {},
   "outputs": [
    {
     "name": "stdout",
     "output_type": "stream",
     "text": [
      "On branch FutureTrunks\n",
      "Changes to be committed:\n",
      "  (use \"git reset HEAD <file>...\" to unstage)\n",
      "\n",
      "\t\u001b[32mnew file:   future-trunks\u001b[m\n",
      "\t\u001b[32mnew file:   medicine\u001b[m\n",
      "\t\u001b[32mnew file:   time-machine\u001b[m\n",
      "\n"
     ]
    }
   ],
   "source": [
    "git checkout HEAD@{1} -- trunks medicine time-machine\n",
    "git mv trunks future-trunks\n",
    "git status"
   ]
  },
  {
   "cell_type": "code",
   "execution_count": 8,
   "metadata": {},
   "outputs": [
    {
     "name": "stdout",
     "output_type": "stream",
     "text": [
      "[FutureTrunks afc1324] Future Trunks arrives in a time machine to the astonishment of the Z fighters\n",
      " Date: Sat Jan 1 09:33:00 2000 -0800\n",
      " 3 files changed, 0 insertions(+), 0 deletions(-)\n",
      " create mode 100644 future-trunks\n",
      " create mode 100644 medicine\n",
      " create mode 100644 time-machine\n"
     ]
    }
   ],
   "source": [
    "git add future-trunks medicine time-machine\n",
    "git commit \\\n",
    "-m \"Future Trunks arrives in a time machine to the astonishment of the Z fighters\" \\\n",
    "--date 2000-01-01T09:33\n"
   ]
  },
  {
   "cell_type": "code",
   "execution_count": 9,
   "metadata": {},
   "outputs": [
    {
     "name": "stdout",
     "output_type": "stream",
     "text": [
      "[FutureTrunks 20cec3e] Frieza's minions emerge and begin to battle\n",
      " Date: Sat Jan 1 09:35:00 2000 -0800\n",
      " 1 file changed, 0 insertions(+), 0 deletions(-)\n",
      " create mode 100644 minions\n"
     ]
    }
   ],
   "source": [
    "git cherry-pick HEAD@{12}"
   ]
  },
  {
   "cell_type": "code",
   "execution_count": 10,
   "metadata": {},
   "outputs": [
    {
     "name": "stdout",
     "output_type": "stream",
     "text": [
      "rm 'minions'\n",
      "[FutureTrunks 93ecb89] Trunks handily dispatches the minions of Frieza\n",
      " Date: Sat Jan 1 09:36:00 2000 -0800\n",
      " 1 file changed, 0 insertions(+), 0 deletions(-)\n",
      " delete mode 100644 minions\n"
     ]
    }
   ],
   "source": [
    "git rm minions\n",
    "git commit -m \"Trunks handily dispatches the minions of Frieza\" --date 2000-01-01T09:36:00"
   ]
  },
  {
   "cell_type": "code",
   "execution_count": 11,
   "metadata": {},
   "outputs": [
    {
     "name": "stdout",
     "output_type": "stream",
     "text": [
      "rm 'frieza'\n",
      "rm 'king-cold'\n",
      "[FutureTrunks 9cde498] Future Trunks defeats the evil Frieza and King Cold easily\n",
      " Date: Sat Jan 1 09:37:00 2000 -0800\n",
      " 2 files changed, 0 insertions(+), 0 deletions(-)\n",
      " delete mode 100644 frieza\n",
      " delete mode 100644 king-cold\n"
     ]
    }
   ],
   "source": [
    "git rm frieza king-cold\n",
    "git commit -m \"Future Trunks defeats the evil Frieza and King Cold easily\" --date 2000-01-01T09:37:00"
   ]
  },
  {
   "cell_type": "code",
   "execution_count": 12,
   "metadata": {},
   "outputs": [
    {
     "name": "stdout",
     "output_type": "stream",
     "text": [
      "[FutureTrunks b4a4e4f] Goku arrives using instant transmission\n",
      " Date: Sat Jan 1 09:40:00 2000 -0800\n",
      " 1 file changed, 0 insertions(+), 0 deletions(-)\n",
      " create mode 100644 goku\n",
      "On branch FutureTrunks\n",
      "nothing to commit, working tree clean\n"
     ]
    }
   ],
   "source": [
    "git cherry-pick HEAD@{14}\n",
    "git status"
   ]
  },
  {
   "cell_type": "code",
   "execution_count": 13,
   "metadata": {},
   "outputs": [
    {
     "name": "stdout",
     "output_type": "stream",
     "text": [
      "[FutureTrunks 6582cd6] Trunks is born\n",
      " Date: Tue Jan 1 14:47:08 2002 -0800\n",
      " 1 file changed, 0 insertions(+), 0 deletions(-)\n",
      " create mode 100644 trunks\n"
     ]
    }
   ],
   "source": [
    "git cherry-pick HEAD@{12}"
   ]
  },
  {
   "cell_type": "code",
   "execution_count": 14,
   "metadata": {},
   "outputs": [
    {
     "name": "stdout",
     "output_type": "stream",
     "text": [
      "[FutureTrunks ded585b] Androids 17 and 18 emerge from Dr. Gero's secret lab\n",
      " Date: Wed Jan 1 14:47:09 2003 -0800\n",
      " 2 files changed, 0 insertions(+), 0 deletions(-)\n",
      " create mode 100644 android17\n",
      " create mode 100644 android18\n"
     ]
    }
   ],
   "source": [
    "git cherry-pick HEAD@{10}"
   ]
  },
  {
   "cell_type": "code",
   "execution_count": 15,
   "metadata": {},
   "outputs": [
    {
     "name": "stdout",
     "output_type": "stream",
     "text": [
      "[FutureTrunks f6c23c4] Cell arrives in a time machine and begins to wreak havoc\n",
      " Date: Sat Mar 1 14:47:12 2003 -0800\n",
      " 2 files changed, 0 insertions(+), 0 deletions(-)\n",
      " create mode 100644 cell\n",
      " create mode 100644 cell-time-machine\n"
     ]
    }
   ],
   "source": [
    "touch cell cell-time-machine\n",
    "git add cell cell-time-machine\n",
    "git commit -m \"Cell arrives in a time machine and begins to wreak havoc\" --date=2003-03-01"
   ]
  },
  {
   "cell_type": "code",
   "execution_count": 16,
   "metadata": {},
   "outputs": [
    {
     "name": "stdout",
     "output_type": "stream",
     "text": [
      "rm 'cell'\n",
      "rm 'goku'\n",
      "[FutureTrunks 0c02d85] Cell is defeated\n",
      " Date: Mon Dec 1 14:47:12 2003 -0800\n",
      " 2 files changed, 0 insertions(+), 0 deletions(-)\n",
      " delete mode 100644 cell\n",
      " delete mode 100644 goku\n"
     ]
    }
   ],
   "source": [
    "git rm cell goku\n",
    "git commit -m \"Cell is defeated\" --date=2003-12-01"
   ]
  },
  {
   "cell_type": "code",
   "execution_count": 17,
   "metadata": {},
   "outputs": [],
   "source": [
    "git branch \"Standard\""
   ]
  },
  {
   "cell_type": "code",
   "execution_count": 19,
   "metadata": {},
   "outputs": [
    {
     "name": "stdout",
     "output_type": "stream",
     "text": [
      "HEAD is now at f429717 Bulma reveals that she has developed a time machine. Can Trunks use it to change history, save Goku, and prevent this tragedy from ever happening?\n"
     ]
    }
   ],
   "source": [
    "git reset --hard HEAD@{11}"
   ]
  },
  {
   "cell_type": "code",
   "execution_count": 20,
   "metadata": {},
   "outputs": [
    {
     "name": "stdout",
     "output_type": "stream",
     "text": [
      "rm 'android17'\n",
      "rm 'android18'\n",
      "[FutureTrunks fa395f8] Trunks returns to the future. With his new experience and self-confidence, he is able to defeat the androids.\n",
      " Date: Mon Jan 2 14:47:53 2017 -0800\n",
      " 2 files changed, 0 insertions(+), 0 deletions(-)\n",
      " delete mode 100644 android17\n",
      " delete mode 100644 android18\n"
     ]
    }
   ],
   "source": [
    "git rm android17 android18\n",
    "git commit -m \"Trunks returns to the future. With his new experience and self-confidence, he is able to defeat the androids.\" --date=2017-01-02"
   ]
  },
  {
   "cell_type": "code",
   "execution_count": 21,
   "metadata": {},
   "outputs": [
    {
     "name": "stdout",
     "output_type": "stream",
     "text": [
      "* \u001b[33mcommit fa395f820a9d11a307f682c57b9cdd72c92debde\u001b[m\u001b[33m (\u001b[m\u001b[1;36mHEAD -> \u001b[m\u001b[1;32mFutureTrunks\u001b[m\u001b[33m)\u001b[m\n",
      "\u001b[31m|\u001b[m Author: Jason Ross <jasonross1024@gmail.com>\n",
      "\u001b[31m|\u001b[m Date:   Mon Jan 2 14:47:53 2017 -0800\n",
      "\u001b[31m|\u001b[m \n",
      "\u001b[31m|\u001b[m     Trunks returns to the future. With his new experience and self-confidence, he is able to defeat the androids.\n",
      "\u001b[31m|\u001b[m \n",
      "* \u001b[33mcommit f4297174648706d347e8e27e7ceaa5b793d2db36\u001b[m\n",
      "\u001b[31m|\u001b[m Author: Jason Ross <jasonross1024@gmail.com>\n",
      "\u001b[31m|\u001b[m Date:   Sun Jan 1 14:47:10 2017 -0800\n",
      "\u001b[31m|\u001b[m \n",
      "\u001b[31m|\u001b[m     Bulma reveals that she has developed a time machine. Can Trunks use it to change history, save Goku, and prevent this tragedy from ever happening?\n",
      "\u001b[31m|\u001b[m \n",
      "* \u001b[33mcommit 029e20747c69f80488a9376aabfa8a3f97035ad9\u001b[m\n",
      "\u001b[31m|\u001b[m Author: Jason Ross <jasonross1024@gmail.com>\n",
      "\u001b[31m|\u001b[m Date:   Wed Jan 1 14:47:10 2014 -0800\n",
      "\u001b[31m|\u001b[m \n",
      "\u001b[31m|\u001b[m     Gohan sacrifices himself to save Trunks. Driven by anger and grief, Trunks finally finds the strength to transform into a Super Sayian\n",
      "\u001b[31m|\u001b[m \n",
      "* \u001b[33mcommit cc8df797da902945a2b32218fb205d58afc7e5ef\u001b[m\n",
      "\u001b[31m|\u001b[m Author: Jason Ross <jasonross1024@gmail.com>\n",
      "\u001b[31m|\u001b[m Date:   Thu Jan 1 14:47:09 2004 -0800\n",
      "\u001b[31m|\u001b[m \n",
      "\u001b[31m|\u001b[m     The Z fighters are defeated one by one, leaving only Trunks, Gohan, and Bulma\n",
      "\u001b[31m|\u001b[m   \n",
      "\u001b[31m|\u001b[m * \u001b[33mcommit 0c02d85d5caac6e53ac1eccfd397d4d1d846b79e\u001b[m\u001b[33m (\u001b[m\u001b[1;32mStandard\u001b[m\u001b[33m)\u001b[m\n",
      "\u001b[31m|\u001b[m \u001b[32m|\u001b[m Author: Jason Ross <jasonross1024@gmail.com>\n",
      "\u001b[31m|\u001b[m \u001b[32m|\u001b[m Date:   Mon Dec 1 14:47:12 2003 -0800\n",
      "\u001b[31m|\u001b[m \u001b[32m|\u001b[m \n",
      "\u001b[31m|\u001b[m \u001b[32m|\u001b[m     Cell is defeated\n",
      "\u001b[31m|\u001b[m \u001b[32m|\u001b[m \n",
      "\u001b[31m|\u001b[m * \u001b[33mcommit f6c23c430770e1f9736868e73603b8920248b304\u001b[m\n",
      "\u001b[31m|\u001b[m \u001b[32m|\u001b[m Author: Jason Ross <jasonross1024@gmail.com>\n",
      "\u001b[31m|\u001b[m \u001b[32m|\u001b[m Date:   Sat Mar 1 14:47:12 2003 -0800\n",
      "\u001b[31m|\u001b[m \u001b[32m|\u001b[m \n",
      "\u001b[31m|\u001b[m \u001b[32m|\u001b[m     Cell arrives in a time machine and begins to wreak havoc\n",
      "\u001b[31m|\u001b[m \u001b[32m|\u001b[m \n",
      "* \u001b[32m|\u001b[m \u001b[33mcommit 7075eff4736352dcd18c3b964b274f8580ee50b7\u001b[m\n",
      "\u001b[32m|\u001b[m \u001b[32m|\u001b[m Author: Jason Ross <jasonross1024@gmail.com>\n",
      "\u001b[32m|\u001b[m \u001b[32m|\u001b[m Date:   Wed Jan 1 14:47:09 2003 -0800\n",
      "\u001b[32m|\u001b[m \u001b[32m|\u001b[m \n",
      "\u001b[32m|\u001b[m \u001b[32m|\u001b[m     Androids 17 and 18 emerge from Dr. Gero's secret lab\n",
      "\u001b[32m|\u001b[m \u001b[32m|\u001b[m \n",
      "\u001b[32m|\u001b[m * \u001b[33mcommit ded585b94da69892d39bbc730f65eb3947e1bd9c\u001b[m\n",
      "\u001b[32m|\u001b[m \u001b[32m|\u001b[m Author: Jason Ross <jasonross1024@gmail.com>\n",
      "\u001b[32m|\u001b[m \u001b[32m|\u001b[m Date:   Wed Jan 1 14:47:09 2003 -0800\n",
      "\u001b[32m|\u001b[m \u001b[32m|\u001b[m \n",
      "\u001b[32m|\u001b[m \u001b[32m|\u001b[m     Androids 17 and 18 emerge from Dr. Gero's secret lab\n",
      "\u001b[32m|\u001b[m \u001b[32m|\u001b[m \n",
      "* \u001b[32m|\u001b[m \u001b[33mcommit 4814ad235f45c765eff6c8311e97f59a7c09456a\u001b[m\n",
      "\u001b[32m|\u001b[m \u001b[32m|\u001b[m Author: Jason Ross <jasonross1024@gmail.com>\n",
      "\u001b[32m|\u001b[m \u001b[32m|\u001b[m Date:   Fri Nov 1 14:47:09 2002 -0800\n",
      "\u001b[32m|\u001b[m \u001b[32m|\u001b[m \n",
      "\u001b[32m|\u001b[m \u001b[32m|\u001b[m     Goku succumbs to the heart virus\n",
      "\u001b[32m|\u001b[m \u001b[32m|\u001b[m \n",
      "* \u001b[32m|\u001b[m \u001b[33mcommit bd815396a8a932cff57f77ea6d95d6fb848044c1\u001b[m\n",
      "\u001b[32m|\u001b[m \u001b[32m|\u001b[m Author: Jason Ross <jasonross1024@gmail.com>\n",
      "\u001b[32m|\u001b[m \u001b[32m|\u001b[m Date:   Tue Oct 1 15:47:09 2002 -0700\n",
      "\u001b[32m|\u001b[m \u001b[32m|\u001b[m \n",
      "\u001b[32m|\u001b[m \u001b[32m|\u001b[m     Goku contracts a deadly heart virus\n",
      "\u001b[32m|\u001b[m \u001b[32m|\u001b[m \n",
      "\u001b[32m|\u001b[m * \u001b[33mcommit 6582cd64d877778cf0b72f1f1edfa18b6e4681b6\u001b[m\n",
      "\u001b[32m|\u001b[m \u001b[32m|\u001b[m Author: Jason Ross <jasonross1024@gmail.com>\n",
      "\u001b[32m|\u001b[m \u001b[32m|\u001b[m Date:   Tue Jan 1 14:47:08 2002 -0800\n",
      "\u001b[32m|\u001b[m \u001b[32m|\u001b[m \n",
      "\u001b[32m|\u001b[m \u001b[32m|\u001b[m     Trunks is born\n",
      "\u001b[32m|\u001b[m \u001b[32m|\u001b[m \n",
      "* \u001b[32m|\u001b[m \u001b[33mcommit afabc681a425e72e1bf46656cda02c3949d52e20\u001b[m\n",
      "\u001b[32m|\u001b[m \u001b[32m|\u001b[m Author: Jason Ross <jasonross1024@gmail.com>\n",
      "\u001b[32m|\u001b[m \u001b[32m|\u001b[m Date:   Tue Jan 1 14:47:08 2002 -0800\n",
      "\u001b[32m|\u001b[m \u001b[32m|\u001b[m \n",
      "\u001b[32m|\u001b[m \u001b[32m|\u001b[m     Trunks is born\n",
      "\u001b[32m|\u001b[m \u001b[32m|\u001b[m \n",
      "* \u001b[32m|\u001b[m \u001b[33mcommit e1be851cf01b49418f45a376471221b5ad47af41\u001b[m\n",
      "\u001b[32m|\u001b[m \u001b[32m|\u001b[m Author: Jason Ross <jasonross1024@gmail.com>\n",
      "\u001b[32m|\u001b[m \u001b[32m|\u001b[m Date:   Sat Jan 1 09:50:00 2000 -0800\n",
      "\u001b[32m|\u001b[m \u001b[32m|\u001b[m \n",
      "\u001b[32m|\u001b[m \u001b[32m|\u001b[m     Goku defeats Frieza and his father once and for all\n",
      "\u001b[32m|\u001b[m \u001b[32m|\u001b[m \n",
      "* \u001b[32m|\u001b[m \u001b[33mcommit 4eb6373f71bae1088098ec2d52c10bf03bb9736d\u001b[m\n",
      "\u001b[32m|\u001b[m \u001b[32m|\u001b[m Author: Jason Ross <jasonross1024@gmail.com>\n",
      "\u001b[32m|\u001b[m \u001b[32m|\u001b[m Date:   Sat Jan 1 09:45:00 2000 -0800\n",
      "\u001b[32m|\u001b[m \u001b[32m|\u001b[m \n",
      "\u001b[32m|\u001b[m \u001b[32m|\u001b[m     Goku dispatches Frieza's minions with ease\n",
      "\u001b[32m|\u001b[m \u001b[32m|\u001b[m \n",
      "\u001b[32m|\u001b[m * \u001b[33mcommit b4a4e4f397f991561e531c2c8394e73eea46d7a8\u001b[m\n",
      "\u001b[32m|\u001b[m \u001b[32m|\u001b[m Author: Jason Ross <jasonross1024@gmail.com>\n",
      "\u001b[32m|\u001b[m \u001b[32m|\u001b[m Date:   Sat Jan 1 09:40:00 2000 -0800\n",
      "\u001b[32m|\u001b[m \u001b[32m|\u001b[m \n",
      "\u001b[32m|\u001b[m \u001b[32m|\u001b[m     Goku arrives using instant transmission\n",
      "\u001b[32m|\u001b[m \u001b[32m|\u001b[m \n",
      "* \u001b[32m|\u001b[m \u001b[33mcommit 2df157715421b012394b9613907f309f90fd7dbf\u001b[m\n",
      "\u001b[32m|\u001b[m \u001b[32m|\u001b[m Author: Jason Ross <jasonross1024@gmail.com>\n",
      "\u001b[32m|\u001b[m \u001b[32m|\u001b[m Date:   Sat Jan 1 09:40:00 2000 -0800\n",
      "\u001b[32m|\u001b[m \u001b[32m|\u001b[m \n",
      "\u001b[32m|\u001b[m \u001b[32m|\u001b[m     Goku arrives using instant transmission\n",
      "\u001b[32m|\u001b[m \u001b[32m|\u001b[m \n",
      "\u001b[32m|\u001b[m * \u001b[33mcommit 9cde498126c41ad33d57142504771c2f62afd1b5\u001b[m\n",
      "\u001b[32m|\u001b[m \u001b[32m|\u001b[m Author: Jason Ross <jasonross1024@gmail.com>\n",
      "\u001b[32m|\u001b[m \u001b[32m|\u001b[m Date:   Sat Jan 1 09:37:00 2000 -0800\n",
      "\u001b[32m|\u001b[m \u001b[32m|\u001b[m \n",
      "\u001b[32m|\u001b[m \u001b[32m|\u001b[m     Future Trunks defeats the evil Frieza and King Cold easily\n",
      "\u001b[32m|\u001b[m \u001b[32m|\u001b[m \n",
      "\u001b[32m|\u001b[m * \u001b[33mcommit 93ecb893cba9d534b8c7b9cdb796e2284874da25\u001b[m\n",
      "\u001b[32m|\u001b[m \u001b[32m|\u001b[m Author: Jason Ross <jasonross1024@gmail.com>\n",
      "\u001b[32m|\u001b[m \u001b[32m|\u001b[m Date:   Sat Jan 1 09:36:00 2000 -0800\n",
      "\u001b[32m|\u001b[m \u001b[32m|\u001b[m \n",
      "\u001b[32m|\u001b[m \u001b[32m|\u001b[m     Trunks handily dispatches the minions of Frieza\n",
      "\u001b[32m|\u001b[m \u001b[32m|\u001b[m \n",
      "* \u001b[32m|\u001b[m \u001b[33mcommit 2937337f2ba3dfe73c9de746fad67d30b91ed2ba\u001b[m\n",
      "\u001b[32m|\u001b[m \u001b[32m|\u001b[m Author: Jason Ross <jasonross1024@gmail.com>\n",
      "\u001b[32m|\u001b[m \u001b[32m|\u001b[m Date:   Sat Jan 1 09:35:00 2000 -0800\n",
      "\u001b[32m|\u001b[m \u001b[32m|\u001b[m \n",
      "\u001b[32m|\u001b[m \u001b[32m|\u001b[m     Frieza's minions emerge and begin to battle\n",
      "\u001b[32m|\u001b[m \u001b[32m|\u001b[m \n",
      "\u001b[32m|\u001b[m * \u001b[33mcommit 20cec3eb8a6a58fe71edbc53eb46b805ddcfa237\u001b[m\n",
      "\u001b[32m|\u001b[m \u001b[32m|\u001b[m Author: Jason Ross <jasonross1024@gmail.com>\n",
      "\u001b[32m|\u001b[m \u001b[32m|\u001b[m Date:   Sat Jan 1 09:35:00 2000 -0800\n",
      "\u001b[32m|\u001b[m \u001b[32m|\u001b[m \n",
      "\u001b[32m|\u001b[m \u001b[32m|\u001b[m     Frieza's minions emerge and begin to battle\n",
      "\u001b[32m|\u001b[m \u001b[32m|\u001b[m \n",
      "\u001b[32m|\u001b[m * \u001b[33mcommit afc132498d3ad203b101f07d0a758b126073c797\u001b[m\n",
      "\u001b[32m|\u001b[m\u001b[32m/\u001b[m  Author: Jason Ross <jasonross1024@gmail.com>\n",
      "\u001b[32m|\u001b[m   Date:   Sat Jan 1 09:33:00 2000 -0800\n",
      "\u001b[32m|\u001b[m   \n",
      "\u001b[32m|\u001b[m       Future Trunks arrives in a time machine to the astonishment of the Z fighters\n",
      "\u001b[32m|\u001b[m \n",
      "* \u001b[33mcommit 5f4ec932c26070a5a90ab40db4eaef0834b84bfd\u001b[m\n",
      "\u001b[32m|\u001b[m Author: Jason Ross <jasonross1024@gmail.com>\n",
      "\u001b[32m|\u001b[m Date:   Sat Jan 1 09:30:00 2000 -0800\n",
      "\u001b[32m|\u001b[m \n",
      "\u001b[32m|\u001b[m     Frieza and King Cold arrive\n",
      "\u001b[32m|\u001b[m \n",
      "* \u001b[33mcommit fa2af93832f96b432c706c6a733ceaf4e7fcaf6e\u001b[m\n",
      "  Author: Jason Ross <jasonross1024@gmail.com>\n",
      "  Date:   Sat Jan 1 09:00:00 2000 -0800\n",
      "  \n",
      "      The Z fighters prepare for battle with the evil Freiza and his father King Cold\n"
     ]
    }
   ],
   "source": [
    "git log --graph --reflog --decorate --author-date-order"
   ]
  },
  {
   "cell_type": "code",
   "execution_count": null,
   "metadata": {},
   "outputs": [],
   "source": []
  }
 ],
 "metadata": {
  "kernelspec": {
   "display_name": "Bash [conda env:pelican]",
   "language": "bash",
   "name": "conda-env-pelican-bash"
  },
  "language_info": {
   "codemirror_mode": "shell",
   "file_extension": ".sh",
   "mimetype": "text/x-sh",
   "name": "bash"
  },
  "pelican": {
   "authors": "Jason Ross",
   "categories": [
    "Version Control"
   ],
   "category": "Version Control",
   "date": "2019-02-02",
   "slug": "gokublog",
   "summary": "The trunks travels back in time to do a git-rebase on his timeline, but discovers that he is now in a detached head state",
   "tags": "music python numpy",
   "title": "How I learned about git rebase by watching Dragon Ball Z"
  }
 },
 "nbformat": 4,
 "nbformat_minor": 4
}
