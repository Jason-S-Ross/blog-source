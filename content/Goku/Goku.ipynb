{
 "cells": [
  {
   "cell_type": "markdown",
   "metadata": {},
   "source": [
    "Trunks didn't know he was about to learn about directed acyclic graphs when he went back in time to save Goku."
   ]
  },
  {
   "cell_type": "markdown",
   "metadata": {},
   "source": [
    "Let's start a timeline of events."
   ]
  },
  {
   "cell_type": "code",
   "execution_count": 1,
   "metadata": {},
   "outputs": [
    {
     "name": "stdout",
     "output_type": "stream",
     "text": [
      "Initialized empty Git repository in /home/jason/Projects/blog/content/Goku/.git/\n",
      "Switched to a new branch 'FutureTrunks'\n"
     ]
    }
   ],
   "source": [
    "rm -vrdf  !(\"Goku.ipynb\") > /dev/null\n",
    "rm -rdf .git .gitignore > /dev/null\n",
    "git init\n",
    "git config --local user.name \"Jason Ross\"\n",
    "git config --local user.email \"jasonross1024@gmail.com\"\n",
    "git checkout -b \"FutureTrunks\"\n",
    "echo \".ipynb_checkpoints/\" >> .gitignore\n",
    "echo \"*.ipynb\" >> .gitignore\n",
    "git add .gitignore\n"
   ]
  },
  {
   "cell_type": "code",
   "execution_count": 2,
   "metadata": {},
   "outputs": [
    {
     "name": "stdout",
     "output_type": "stream",
     "text": [
      "* \u001b[33mcommit 9c3ba059f0f03b78d3a4fcaf68af02f16b48bd82\u001b[m\u001b[33m (\u001b[m\u001b[1;36mHEAD -> \u001b[m\u001b[1;32mFutureTrunks\u001b[m\u001b[33m, \u001b[m\u001b[1;33mtag: Jump-Back\u001b[m\u001b[33m)\u001b[m\n",
      "\u001b[31m|\u001b[m Author: Jason Ross <jasonross1024@gmail.com>\n",
      "\u001b[31m|\u001b[m Date:   Sun Jan 1 17:14:07 2017 -0800\n",
      "\u001b[31m|\u001b[m \n",
      "\u001b[31m|\u001b[m     The time machine\n",
      "\u001b[31m|\u001b[m     \n",
      "\u001b[31m|\u001b[m     Bulma reveals that she has developed a time machine. Can Trunks use it to\n",
      "\u001b[31m|\u001b[m     change history, save Goku, and prevent this tragedy from ever happening?\n",
      "\u001b[31m|\u001b[m \n",
      "* \u001b[33mcommit bfdfaa5c6310086ba5fab9e4ef2a75185439ba8b\u001b[m\n",
      "\u001b[31m|\u001b[m Author: Jason Ross <jasonross1024@gmail.com>\n",
      "\u001b[31m|\u001b[m Date:   Wed Jan 1 17:14:07 2014 -0800\n",
      "\u001b[31m|\u001b[m \n",
      "\u001b[31m|\u001b[m     Gohans Sacrifice\n",
      "\u001b[31m|\u001b[m     \n",
      "\u001b[31m|\u001b[m     Gohan sacrifices himself to save Trunks. Driven by anger and grief, Trunks\n",
      "\u001b[31m|\u001b[m     finally finds the strength to transform into a Super Sayian\n",
      "\u001b[31m|\u001b[m \n",
      "* \u001b[33mcommit 15be833371eeb7c5b3ac8aac64ca7939aa483b08\u001b[m\n",
      "\u001b[31m|\u001b[m Author: Jason Ross <jasonross1024@gmail.com>\n",
      "\u001b[31m|\u001b[m Date:   Thu Jan 1 17:14:06 2004 -0800\n",
      "\u001b[31m|\u001b[m \n",
      "\u001b[31m|\u001b[m     Defeat!\n",
      "\u001b[31m|\u001b[m     \n",
      "\u001b[31m|\u001b[m     The Z fighters are defeated one by one, leaving only Trunks, Gohan, and Bulma\n",
      "\u001b[31m|\u001b[m \n",
      "* \u001b[33mcommit 46c27370b6f41ac3e40801b94e618323a3dc298d\u001b[m\n",
      "\u001b[31m|\u001b[m Author: Jason Ross <jasonross1024@gmail.com>\n",
      "\u001b[31m|\u001b[m Date:   Wed Jan 1 17:14:06 2003 -0800\n",
      "\u001b[31m|\u001b[m \n",
      "\u001b[31m|\u001b[m     Androids 17 and 18 emerge from Dr. Gero's secret lab\n",
      "\u001b[31m|\u001b[m \n",
      "* \u001b[33mcommit 120cc572a75456ad6d44cecfc82ca8533d542c84\u001b[m\n",
      "\u001b[31m|\u001b[m Author: Jason Ross <jasonross1024@gmail.com>\n",
      "\u001b[31m|\u001b[m Date:   Fri Nov 1 17:14:06 2002 -0800\n",
      "\u001b[31m|\u001b[m \n",
      "\u001b[31m|\u001b[m     Goku succumbs to the heart virus\n",
      "\u001b[31m|\u001b[m \n",
      "* \u001b[33mcommit cdde5ac66d00e84dee76fdd55b1d029aad0d5835\u001b[m\n",
      "\u001b[31m|\u001b[m Author: Jason Ross <jasonross1024@gmail.com>\n",
      "\u001b[31m|\u001b[m Date:   Tue Oct 1 18:14:05 2002 -0700\n",
      "\u001b[31m|\u001b[m \n",
      "\u001b[31m|\u001b[m     Goku contracts a deadly heart virus\n",
      "\u001b[31m|\u001b[m \n",
      "* \u001b[33mcommit bfb2eaa39649807f87845fd220eb5a8e85c94963\u001b[m\n",
      "\u001b[31m|\u001b[m Author: Jason Ross <jasonross1024@gmail.com>\n",
      "\u001b[31m|\u001b[m Date:   Tue Jan 1 17:14:05 2002 -0800\n",
      "\u001b[31m|\u001b[m \n",
      "\u001b[31m|\u001b[m     Trunks is born\n",
      "\u001b[31m|\u001b[m \n",
      "* \u001b[33mcommit 294608054e16b0f7fa1b12f7abaed8c50e5f9399\u001b[m\n",
      "\u001b[31m|\u001b[m Author: Jason Ross <jasonross1024@gmail.com>\n",
      "\u001b[31m|\u001b[m Date:   Sat Jan 1 09:50:00 2000 -0800\n",
      "\u001b[31m|\u001b[m \n",
      "\u001b[31m|\u001b[m     Goku defeats Frieza and his father once and for all\n",
      "\u001b[31m|\u001b[m \n",
      "* \u001b[33mcommit 7c3d9c80ebcd40757cfd634cf5ca8e4d6263da3d\u001b[m\n",
      "\u001b[31m|\u001b[m Author: Jason Ross <jasonross1024@gmail.com>\n",
      "\u001b[31m|\u001b[m Date:   Sat Jan 1 09:45:00 2000 -0800\n",
      "\u001b[31m|\u001b[m \n",
      "\u001b[31m|\u001b[m     Goku dispatches Frieza's minions with ease\n",
      "\u001b[31m|\u001b[m \n",
      "* \u001b[33mcommit 67430a33c83aa7d0f89fb052764392c2149193f6\u001b[m\n",
      "\u001b[31m|\u001b[m Author: Jason Ross <jasonross1024@gmail.com>\n",
      "\u001b[31m|\u001b[m Date:   Sat Jan 1 09:40:00 2000 -0800\n",
      "\u001b[31m|\u001b[m \n",
      "\u001b[31m|\u001b[m     Goku arrives using instant transmission\n",
      "\u001b[31m|\u001b[m \n",
      "* \u001b[33mcommit 0d3823f7abda7511f8569ac1c226bd3351fd396e\u001b[m\n",
      "\u001b[31m|\u001b[m Author: Jason Ross <jasonross1024@gmail.com>\n",
      "\u001b[31m|\u001b[m Date:   Sat Jan 1 09:35:00 2000 -0800\n",
      "\u001b[31m|\u001b[m \n",
      "\u001b[31m|\u001b[m     Frieza's minions emerge and the battle begins\n",
      "\u001b[31m|\u001b[m \n",
      "* \u001b[33mcommit 6057870e7a8e59ef1108abb52488dd442863c9b2\u001b[m\n",
      "\u001b[31m|\u001b[m Author: Jason Ross <jasonross1024@gmail.com>\n",
      "\u001b[31m|\u001b[m Date:   Sat Jan 1 09:30:00 2000 -0800\n",
      "\u001b[31m|\u001b[m \n",
      "\u001b[31m|\u001b[m     Frieza and King Cold arrive\n",
      "\u001b[31m|\u001b[m \n",
      "* \u001b[33mcommit bf5f31ee9f007d7eeddd05673d1924498140702b\u001b[m\u001b[33m (\u001b[m\u001b[1;33mtag: Battle-Begins\u001b[m\u001b[33m)\u001b[m\n",
      "  Author: Jason Ross <jasonross1024@gmail.com>\n",
      "  Date:   Sat Jan 1 09:00:00 2000 -0800\n",
      "  \n",
      "      The Z fighters prepare for battle with the evil Freiza and King Cold\n"
     ]
    }
   ],
   "source": [
    "touch vegeta krillin gohan piccolo bulma\n",
    "git add vegeta krillin gohan piccolo bulma\n",
    "git commit --quiet -m \\\n",
    "\"The Z fighters prepare for battle with the evil Freiza and King Cold\" \\\n",
    "--date 2000-01-01T09:00:00\n",
    "git tag \"Battle-Begins\"\n",
    "\n",
    "touch frieza king-cold \n",
    "git add frieza king-cold\n",
    "git commit --quiet -m \"Frieza and King Cold arrive\" --date 2000-01-01T09:30\n",
    "\n",
    "\n",
    "touch minions\n",
    "git add minions\n",
    "git commit --quiet -m \"Frieza's minions emerge and the battle begins\" \\\n",
    "--date 2000-01-01T09:35\n",
    "\n",
    "touch goku\n",
    "git add goku\n",
    "git commit --quiet -m \"Goku arrives using instant transmission\" \\\n",
    "--date 2000-01-01T09:40\n",
    "\n",
    "git rm minions > /dev/null\n",
    "git commit --quiet -m \"Goku dispatches Frieza's minions with ease\" \\\n",
    "--date 2000-01-01T09:45\n",
    "\n",
    "git rm frieza king-cold > /dev/null\n",
    "git commit --quiet -m \"Goku defeats Frieza and his father once and for all\" \\\n",
    "--date 2000-01-01T09:50\n",
    "\n",
    "touch trunks\n",
    "git add trunks\n",
    "git commit --quiet -m \"Trunks is born\" --date 2002-01-01\n",
    "\n",
    "touch heart-virus\n",
    "git add heart-virus\n",
    "git commit --quiet -m \"Goku contracts a deadly heart virus\" --date 2002-10-01\n",
    "\n",
    "git rm goku > /dev/null\n",
    "git commit --quiet -m \"Goku succumbs to the heart virus\" --date 2002-11-01\n",
    "\n",
    "touch android17 android18\n",
    "git add android17 android18\n",
    "git commit --quiet -m \"Androids 17 and 18 emerge from Dr. Gero's secret lab\" \\\n",
    "--date 2003-01-01\n",
    "\n",
    "git rm piccolo krillin vegeta > /dev/null\n",
    "git commit --quiet -m 'Defeat!\n",
    "\n",
    "The Z fighters are defeated one by one, leaving only Trunks, Gohan, and Bulma' \\\n",
    "--date 2004-01-01\n",
    "\n",
    "git rm gohan > /dev/null\n",
    "git commit --quiet -m 'Gohans Sacrifice\n",
    "\n",
    "Gohan sacrifices himself to save Trunks. Driven by anger and grief, Trunks \n",
    "finally finds the strength to transform into a Super Sayian' \\\n",
    "--date 2014-01-01\n",
    "\n",
    "touch time-machine medicine\n",
    "git add time-machine medicine\n",
    "git commit --quiet -m 'The time machine\n",
    "\n",
    "Bulma reveals that she has developed a time machine. Can Trunks use it to \n",
    "change history, save Goku, and prevent this tragedy from ever happening?' \\\n",
    "--date 2017-01-01 > /dev/null\n",
    "\n",
    "git tag \"Jump-Back\"\n",
    "git log --graph --decorate"
   ]
  },
  {
   "cell_type": "code",
   "execution_count": 3,
   "metadata": {},
   "outputs": [
    {
     "name": "stdout",
     "output_type": "stream",
     "text": [
      "Stopped at 6057870...  Frieza and King Cold arrive\n",
      "You can amend the commit now, with\n",
      "\n",
      "  git commit --amend \n",
      "\n",
      "Once you are satisfied with your changes, run\n",
      "\n",
      "  git rebase --continue\n",
      "edit 0d3823f7abda7511f8569ac1c226bd3351fd396e Frieza's minions emerge and the battle begins\n",
      "edit 67430a33c83aa7d0f89fb052764392c2149193f6 Goku arrives using instant transmission\n",
      "edit 7c3d9c80ebcd40757cfd634cf5ca8e4d6263da3d Goku dispatches Frieza's minions with ease\n",
      "edit 294608054e16b0f7fa1b12f7abaed8c50e5f9399 Goku defeats Frieza and his father once and for all\n",
      "edit bfb2eaa39649807f87845fd220eb5a8e85c94963 Trunks is born\n",
      "edit cdde5ac66d00e84dee76fdd55b1d029aad0d5835 Goku contracts a deadly heart virus\n",
      "edit 120cc572a75456ad6d44cecfc82ca8533d542c84 Goku succumbs to the heart virus\n",
      "edit 46c27370b6f41ac3e40801b94e618323a3dc298d Androids 17 and 18 emerge from Dr. Gero's secret lab\n",
      "edit 15be833371eeb7c5b3ac8aac64ca7939aa483b08 Defeat!\n",
      "edit bfdfaa5c6310086ba5fab9e4ef2a75185439ba8b Gohans Sacrifice\n",
      "edit 9c3ba059f0f03b78d3a4fcaf68af02f16b48bd82 The time machine\n",
      "\n",
      "# Rebase bf5f31e..9c3ba05 onto bf5f31e (12 commands)\n",
      "#\n",
      "# Commands:\n",
      "# p, pick = use commit\n",
      "# r, reword = use commit, but edit the commit message\n",
      "# e, edit = use commit, but stop for amending\n",
      "# s, squash = use commit, but meld into previous commit\n",
      "# f, fixup = like \"squash\", but discard this commit's log message\n",
      "# x, exec = run command (the rest of the line) using shell\n",
      "# d, drop = remove commit\n",
      "#\n",
      "# These lines can be re-ordered; they are executed from top to bottom.\n",
      "#\n",
      "# If you remove a line here THAT COMMIT WILL BE LOST.\n",
      "#\n",
      "# However, if you remove everything, the rebase will be aborted.\n",
      "#\n",
      "# Note that empty commits are commented out\n"
     ]
    }
   ],
   "source": [
    "GIT_SEQUENCE_EDITOR=\"sed -i -re 's/^pick /e /'\" git rebase -i Battle-Begins\n",
    "cat .git/rebase-merge/git-rebase-todo"
   ]
  },
  {
   "cell_type": "code",
   "execution_count": 4,
   "metadata": {},
   "outputs": [
    {
     "name": "stdout",
     "output_type": "stream",
     "text": [
      "edit 0d3823f7abda7511f8569ac1c226bd3351fd396e Frieza's minions emerge and the battle begins\n",
      "edit 67430a33c83aa7d0f89fb052764392c2149193f6 Goku arrives using instant transmission\n",
      "drop 7c3d9c80ebcd40757cfd634cf5ca8e4d6263da3d Goku dispatches Frieza's minions with ease\n",
      "drop 294608054e16b0f7fa1b12f7abaed8c50e5f9399 Goku defeats Frieza and his father once and for all\n",
      "edit bfb2eaa39649807f87845fd220eb5a8e85c94963 Trunks is born\n",
      "drop cdde5ac66d00e84dee76fdd55b1d029aad0d5835 Goku contracts a deadly heart virus\n",
      "drop 120cc572a75456ad6d44cecfc82ca8533d542c84 Goku succumbs to the heart virus\n",
      "edit 46c27370b6f41ac3e40801b94e618323a3dc298d Androids 17 and 18 emerge from Dr. Gero's secret lab\n",
      "drop 15be833371eeb7c5b3ac8aac64ca7939aa483b08 Defeat!\n",
      "drop bfdfaa5c6310086ba5fab9e4ef2a75185439ba8b Gohans Sacrifice\n",
      "drop 9c3ba059f0f03b78d3a4fcaf68af02f16b48bd82 The time machine\n",
      "\n",
      "# Rebase bf5f31e..9c3ba05 onto bf5f31e (12 commands)\n",
      "#\n",
      "# Commands:\n",
      "# p, pick = use commit\n",
      "# r, reword = use commit, but edit the commit message\n",
      "# e, edit = use commit, but stop for amending\n",
      "# s, squash = use commit, but meld into previous commit\n",
      "# f, fixup = like \"squash\", but discard this commit's log message\n",
      "# x, exec = run command (the rest of the line) using shell\n",
      "# d, drop = remove commit\n",
      "#\n",
      "# These lines can be re-ordered; they are executed from top to bottom.\n",
      "#\n",
      "# If you remove a line here THAT COMMIT WILL BE LOST.\n",
      "#\n",
      "# However, if you remove everything, the rebase will be aborted.\n",
      "#\n",
      "# Note that empty commits are commented out\n"
     ]
    }
   ],
   "source": [
    "sed '3s/^edit/drop/' .git/rebase-merge/git-rebase-todo | \\\n",
    "sed '4s/^edit/drop/' | \\\n",
    "sed '6s/^edit/drop/' | \\\n",
    "sed '7s/^edit/drop/' | \\\n",
    "sed '9s/^edit/drop/' | \\\n",
    "sed '10s/^edit/drop/' | \\\n",
    "sed '11s/^edit/drop/' > out.txt\n",
    "cat out.txt > .git/rebase-merge/git-rebase-todo\n",
    "mv out.txt .git/rebase-merge/git-rebase-todo\n",
    "cat .git/rebase-merge/git-rebase-todo"
   ]
  },
  {
   "cell_type": "code",
   "execution_count": 5,
   "metadata": {},
   "outputs": [
    {
     "name": "stdout",
     "output_type": "stream",
     "text": [
      "* \u001b[33mcommit 6057870e7a8e59ef1108abb52488dd442863c9b2\u001b[m\u001b[33m (\u001b[m\u001b[1;36mHEAD\u001b[m\u001b[33m)\u001b[m\n",
      "\u001b[31m|\u001b[m Author: Jason Ross <jasonross1024@gmail.com>\n",
      "\u001b[31m|\u001b[m \n",
      "\u001b[31m|\u001b[m     Frieza and King Cold arrive\n",
      "\u001b[31m|\u001b[m \n",
      "* \u001b[33mcommit bf5f31ee9f007d7eeddd05673d1924498140702b\u001b[m\u001b[33m (\u001b[m\u001b[1;33mtag: Battle-Begins\u001b[m\u001b[33m)\u001b[m\n",
      "  Author: Jason Ross <jasonross1024@gmail.com>\n",
      "  \n",
      "      The Z fighters prepare for battle with the evil Freiza and King Cold\n"
     ]
    }
   ],
   "source": [
    "git log --graph --decorate --pretty=short"
   ]
  },
  {
   "cell_type": "code",
   "execution_count": 6,
   "metadata": {},
   "outputs": [
    {
     "name": "stdout",
     "output_type": "stream",
     "text": [
      "\u001b[33m6057870\u001b[m\u001b[33m (\u001b[m\u001b[1;36mHEAD\u001b[m\u001b[33m)\u001b[m HEAD@{0}: rebase -i: fast-forward\n",
      "\u001b[33mbf5f31e\u001b[m\u001b[33m (\u001b[m\u001b[1;33mtag: Battle-Begins\u001b[m\u001b[33m)\u001b[m HEAD@{1}: rebase -i (start): checkout Battle-Begins\n",
      "\u001b[33m9c3ba05\u001b[m\u001b[33m (\u001b[m\u001b[1;33mtag: Jump-Back\u001b[m\u001b[33m, \u001b[m\u001b[1;32mFutureTrunks\u001b[m\u001b[33m)\u001b[m HEAD@{2}: commit: The time machine\n",
      "\u001b[33mbfdfaa5\u001b[m HEAD@{3}: commit: Gohans Sacrifice\n",
      "\u001b[33m15be833\u001b[m HEAD@{4}: commit: Defeat!\n",
      "\u001b[33m46c2737\u001b[m HEAD@{5}: commit: Androids 17 and 18 emerge from Dr. Gero's secret lab\n",
      "\u001b[33m120cc57\u001b[m HEAD@{6}: commit: Goku succumbs to the heart virus\n",
      "\u001b[33mcdde5ac\u001b[m HEAD@{7}: commit: Goku contracts a deadly heart virus\n",
      "\u001b[33mbfb2eaa\u001b[m HEAD@{8}: commit: Trunks is born\n",
      "\u001b[33m2946080\u001b[m HEAD@{9}: commit: Goku defeats Frieza and his father once and for all\n",
      "\u001b[33m7c3d9c8\u001b[m HEAD@{10}: commit: Goku dispatches Frieza's minions with ease\n",
      "\u001b[33m67430a3\u001b[m HEAD@{11}: commit: Goku arrives using instant transmission\n",
      "\u001b[33m0d3823f\u001b[m HEAD@{12}: commit: Frieza's minions emerge and the battle begins\n",
      "\u001b[33m6057870\u001b[m\u001b[33m (\u001b[m\u001b[1;36mHEAD\u001b[m\u001b[33m)\u001b[m HEAD@{13}: commit: Frieza and King Cold arrive\n",
      "\u001b[33mbf5f31e\u001b[m\u001b[33m (\u001b[m\u001b[1;33mtag: Battle-Begins\u001b[m\u001b[33m)\u001b[m HEAD@{14}: commit (initial): The Z fighters prepare for battle with the evil Freiza and King Cold\n"
     ]
    }
   ],
   "source": [
    "git reflog"
   ]
  },
  {
   "cell_type": "code",
   "execution_count": 7,
   "metadata": {},
   "outputs": [
    {
     "name": "stdout",
     "output_type": "stream",
     "text": [
      "\u001b[31minteractive rebase in progress; onto \u001b[mbf5f31e\n",
      "Last command done (1 command done):\n",
      "   edit 6057870 Frieza and King Cold arrive\n",
      "Next commands to do (11 remaining commands):\n",
      "   edit 0d3823f Frieza's minions emerge and the battle begins\n",
      "   edit 67430a3 Goku arrives using instant transmission\n",
      "  (use \"git rebase --edit-todo\" to view and edit)\n",
      "You are currently editing a commit while rebasing branch 'FutureTrunks' on 'bf5f31e'.\n",
      "  (use \"git commit --amend\" to amend the current commit)\n",
      "  (use \"git rebase --continue\" once you are satisfied with your changes)\n",
      "\n",
      "Changes to be committed:\n",
      "  (use \"git reset HEAD <file>...\" to unstage)\n",
      "\n",
      "\t\u001b[32mnew file:   future-trunks\u001b[m\n",
      "\t\u001b[32mnew file:   medicine\u001b[m\n",
      "\t\u001b[32mnew file:   time-machine\u001b[m\n",
      "\n"
     ]
    }
   ],
   "source": [
    "git checkout Jump-Back -- trunks medicine time-machine\n",
    "git mv trunks future-trunks\n",
    "git status"
   ]
  },
  {
   "cell_type": "code",
   "execution_count": 8,
   "metadata": {},
   "outputs": [
    {
     "name": "stdout",
     "output_type": "stream",
     "text": [
      "[detached HEAD 30aaae1] Future Trunks arrives in a time machine to the astonishment of the Z fighters\n",
      " Date: Sat Jan 1 09:33:00 2000 -0800\n",
      " 3 files changed, 0 insertions(+), 0 deletions(-)\n",
      " create mode 100644 future-trunks\n",
      " create mode 100644 medicine\n",
      " create mode 100644 time-machine\n"
     ]
    }
   ],
   "source": [
    "git add future-trunks medicine time-machine\n",
    "git commit \\\n",
    "-m \"Future Trunks arrives in a time machine to the astonishment of the Z fighters\" \\\n",
    "--date 2000-01-01T09:33\n"
   ]
  },
  {
   "cell_type": "code",
   "execution_count": 9,
   "metadata": {},
   "outputs": [
    {
     "name": "stdout",
     "output_type": "stream",
     "text": [
      "Stopped at 0d3823f...  Frieza's minions emerge and the battle begins\n",
      "You can amend the commit now, with\n",
      "\n",
      "  git commit --amend \n",
      "\n",
      "Once you are satisfied with your changes, run\n",
      "\n",
      "  git rebase --continue\n"
     ]
    }
   ],
   "source": [
    "git rebase --continue"
   ]
  },
  {
   "cell_type": "code",
   "execution_count": 10,
   "metadata": {},
   "outputs": [
    {
     "name": "stdout",
     "output_type": "stream",
     "text": [
      "\u001b[33mcommit f6628c999156e291e0c1493033343d32b851890d\u001b[m\u001b[33m (\u001b[m\u001b[1;36mHEAD\u001b[m\u001b[33m)\u001b[m\n",
      "Author: Jason Ross <jasonross1024@gmail.com>\n",
      "Date:   Sat Jan 1 09:35:00 2000 -0800\n",
      "\n",
      "    Frieza's minions emerge and the battle begins\n",
      "\n",
      "\u001b[33mcommit 30aaae108b962c7af430f4635b24cd0e1cfb58b9\u001b[m\n",
      "Author: Jason Ross <jasonross1024@gmail.com>\n",
      "Date:   Sat Jan 1 09:33:00 2000 -0800\n",
      "\n",
      "    Future Trunks arrives in a time machine to the astonishment of the Z fighters\n",
      "\n",
      "\u001b[33mcommit 6057870e7a8e59ef1108abb52488dd442863c9b2\u001b[m\n",
      "Author: Jason Ross <jasonross1024@gmail.com>\n",
      "Date:   Sat Jan 1 09:30:00 2000 -0800\n",
      "\n",
      "    Frieza and King Cold arrive\n",
      "\n",
      "\u001b[33mcommit bf5f31ee9f007d7eeddd05673d1924498140702b\u001b[m\u001b[33m (\u001b[m\u001b[1;33mtag: Battle-Begins\u001b[m\u001b[33m)\u001b[m\n",
      "Author: Jason Ross <jasonross1024@gmail.com>\n",
      "Date:   Sat Jan 1 09:00:00 2000 -0800\n",
      "\n",
      "    The Z fighters prepare for battle with the evil Freiza and King Cold\n"
     ]
    }
   ],
   "source": [
    "git log"
   ]
  },
  {
   "cell_type": "code",
   "execution_count": 11,
   "metadata": {},
   "outputs": [
    {
     "name": "stdout",
     "output_type": "stream",
     "text": [
      "rm 'minions'\n",
      "[detached HEAD 5eefb5f] Trunks handily dispatches the minions of Frieza\n",
      " Date: Sat Jan 1 09:36:00 2000 -0800\n",
      " 1 file changed, 0 insertions(+), 0 deletions(-)\n",
      " delete mode 100644 minions\n"
     ]
    }
   ],
   "source": [
    "git rm minions\n",
    "git commit -m \"Trunks handily dispatches the minions of Frieza\" --date 2000-01-01T09:36:00"
   ]
  },
  {
   "cell_type": "code",
   "execution_count": 12,
   "metadata": {},
   "outputs": [
    {
     "name": "stdout",
     "output_type": "stream",
     "text": [
      "rm 'frieza'\n",
      "rm 'king-cold'\n",
      "[detached HEAD 989e028] Future Trunks defeats the evil Frieza and King Cold easily\n",
      " Date: Sat Jan 1 09:37:00 2000 -0800\n",
      " 2 files changed, 0 insertions(+), 0 deletions(-)\n",
      " delete mode 100644 frieza\n",
      " delete mode 100644 king-cold\n"
     ]
    }
   ],
   "source": [
    "git rm frieza king-cold\n",
    "git commit -m \"Future Trunks defeats the evil Frieza and King Cold easily\" --date 2000-01-01T09:37:00"
   ]
  },
  {
   "cell_type": "code",
   "execution_count": 13,
   "metadata": {},
   "outputs": [
    {
     "name": "stdout",
     "output_type": "stream",
     "text": [
      "Stopped at 67430a3...  Goku arrives using instant transmission\n",
      "You can amend the commit now, with\n",
      "\n",
      "  git commit --amend \n",
      "\n",
      "Once you are satisfied with your changes, run\n",
      "\n",
      "  git rebase --continue\n"
     ]
    }
   ],
   "source": [
    "git rebase --continue"
   ]
  },
  {
   "cell_type": "code",
   "execution_count": 14,
   "metadata": {},
   "outputs": [
    {
     "name": "stdout",
     "output_type": "stream",
     "text": [
      "\u001b[33mcommit 64d28594f6f97fe74528fb0e9d233d13b25c524b\u001b[m\u001b[33m (\u001b[m\u001b[1;36mHEAD\u001b[m\u001b[33m)\u001b[m\n",
      "Author: Jason Ross <jasonross1024@gmail.com>\n",
      "Date:   Sat Jan 1 09:40:00 2000 -0800\n",
      "\n",
      "    Goku arrives using instant transmission\n",
      "\n",
      "\u001b[33mcommit 989e028539af2ea130bc71b652f89cc2ec6054d4\u001b[m\n",
      "Author: Jason Ross <jasonross1024@gmail.com>\n",
      "Date:   Sat Jan 1 09:37:00 2000 -0800\n",
      "\n",
      "    Future Trunks defeats the evil Frieza and King Cold easily\n",
      "\n",
      "\u001b[33mcommit 5eefb5f4841ee62b656945786fbfcca22b29458a\u001b[m\n",
      "Author: Jason Ross <jasonross1024@gmail.com>\n",
      "Date:   Sat Jan 1 09:36:00 2000 -0800\n",
      "\n",
      "    Trunks handily dispatches the minions of Frieza\n",
      "\n",
      "\u001b[33mcommit f6628c999156e291e0c1493033343d32b851890d\u001b[m\n",
      "Author: Jason Ross <jasonross1024@gmail.com>\n",
      "Date:   Sat Jan 1 09:35:00 2000 -0800\n",
      "\n",
      "    Frieza's minions emerge and the battle begins\n",
      "\n",
      "\u001b[33mcommit 30aaae108b962c7af430f4635b24cd0e1cfb58b9\u001b[m\n",
      "Author: Jason Ross <jasonross1024@gmail.com>\n",
      "Date:   Sat Jan 1 09:33:00 2000 -0800\n",
      "\n",
      "    Future Trunks arrives in a time machine to the astonishment of the Z fighters\n",
      "\n",
      "\u001b[33mcommit 6057870e7a8e59ef1108abb52488dd442863c9b2\u001b[m\n",
      "Author: Jason Ross <jasonross1024@gmail.com>\n",
      "Date:   Sat Jan 1 09:30:00 2000 -0800\n",
      "\n",
      "    Frieza and King Cold arrive\n",
      "\n",
      "\u001b[33mcommit bf5f31ee9f007d7eeddd05673d1924498140702b\u001b[m\u001b[33m (\u001b[m\u001b[1;33mtag: Battle-Begins\u001b[m\u001b[33m)\u001b[m\n",
      "Author: Jason Ross <jasonross1024@gmail.com>\n",
      "Date:   Sat Jan 1 09:00:00 2000 -0800\n",
      "\n",
      "    The Z fighters prepare for battle with the evil Freiza and King Cold\n"
     ]
    }
   ],
   "source": [
    "git log"
   ]
  },
  {
   "cell_type": "code",
   "execution_count": 15,
   "metadata": {},
   "outputs": [
    {
     "name": "stdout",
     "output_type": "stream",
     "text": [
      "Stopped at bfb2eaa...  Trunks is born\n",
      "You can amend the commit now, with\n",
      "\n",
      "  git commit --amend \n",
      "\n",
      "Once you are satisfied with your changes, run\n",
      "\n",
      "  git rebase --continue\n"
     ]
    }
   ],
   "source": [
    "git rebase --continue"
   ]
  },
  {
   "cell_type": "code",
   "execution_count": 16,
   "metadata": {},
   "outputs": [
    {
     "name": "stdout",
     "output_type": "stream",
     "text": [
      "\u001b[33mcommit 6aacf8708f01c54445e2320c8b315bf074cb28bd\u001b[m\u001b[33m (\u001b[m\u001b[1;36mHEAD\u001b[m\u001b[33m)\u001b[m\n",
      "Author: Jason Ross <jasonross1024@gmail.com>\n",
      "Date:   Tue Jan 1 17:14:05 2002 -0800\n",
      "\n",
      "    Trunks is born\n",
      "\n",
      "\u001b[33mcommit 64d28594f6f97fe74528fb0e9d233d13b25c524b\u001b[m\n",
      "Author: Jason Ross <jasonross1024@gmail.com>\n",
      "Date:   Sat Jan 1 09:40:00 2000 -0800\n",
      "\n",
      "    Goku arrives using instant transmission\n",
      "\n",
      "\u001b[33mcommit 989e028539af2ea130bc71b652f89cc2ec6054d4\u001b[m\n",
      "Author: Jason Ross <jasonross1024@gmail.com>\n",
      "Date:   Sat Jan 1 09:37:00 2000 -0800\n",
      "\n",
      "    Future Trunks defeats the evil Frieza and King Cold easily\n",
      "\n",
      "\u001b[33mcommit 5eefb5f4841ee62b656945786fbfcca22b29458a\u001b[m\n",
      "Author: Jason Ross <jasonross1024@gmail.com>\n",
      "Date:   Sat Jan 1 09:36:00 2000 -0800\n",
      "\n",
      "    Trunks handily dispatches the minions of Frieza\n",
      "\n",
      "\u001b[33mcommit f6628c999156e291e0c1493033343d32b851890d\u001b[m\n",
      "Author: Jason Ross <jasonross1024@gmail.com>\n",
      "Date:   Sat Jan 1 09:35:00 2000 -0800\n",
      "\n",
      "    Frieza's minions emerge and the battle begins\n",
      "\n",
      "\u001b[33mcommit 30aaae108b962c7af430f4635b24cd0e1cfb58b9\u001b[m\n",
      "Author: Jason Ross <jasonross1024@gmail.com>\n",
      "Date:   Sat Jan 1 09:33:00 2000 -0800\n",
      "\n",
      "    Future Trunks arrives in a time machine to the astonishment of the Z fighters\n",
      "\n",
      "\u001b[33mcommit 6057870e7a8e59ef1108abb52488dd442863c9b2\u001b[m\n",
      "Author: Jason Ross <jasonross1024@gmail.com>\n",
      "Date:   Sat Jan 1 09:30:00 2000 -0800\n",
      "\n",
      "    Frieza and King Cold arrive\n",
      "\n",
      "\u001b[33mcommit bf5f31ee9f007d7eeddd05673d1924498140702b\u001b[m\u001b[33m (\u001b[m\u001b[1;33mtag: Battle-Begins\u001b[m\u001b[33m)\u001b[m\n",
      "Author: Jason Ross <jasonross1024@gmail.com>\n",
      "Date:   Sat Jan 1 09:00:00 2000 -0800\n",
      "\n",
      "    The Z fighters prepare for battle with the evil Freiza and King Cold\n"
     ]
    }
   ],
   "source": [
    "git log"
   ]
  },
  {
   "cell_type": "code",
   "execution_count": 17,
   "metadata": {},
   "outputs": [
    {
     "name": "stdout",
     "output_type": "stream",
     "text": [
      "Stopped at 46c2737...  Androids 17 and 18 emerge from Dr. Gero's secret lab\n",
      "You can amend the commit now, with\n",
      "\n",
      "  git commit --amend \n",
      "\n",
      "Once you are satisfied with your changes, run\n",
      "\n",
      "  git rebase --continue\n"
     ]
    }
   ],
   "source": [
    "git rebase --continue"
   ]
  },
  {
   "cell_type": "code",
   "execution_count": 18,
   "metadata": {},
   "outputs": [
    {
     "name": "stdout",
     "output_type": "stream",
     "text": [
      "\u001b[33mcommit ddd035c75fb5fc18e41a506ca24fdc8ab44608de\u001b[m\u001b[33m (\u001b[m\u001b[1;36mHEAD\u001b[m\u001b[33m)\u001b[m\n",
      "Author: Jason Ross <jasonross1024@gmail.com>\n",
      "Date:   Wed Jan 1 17:14:06 2003 -0800\n",
      "\n",
      "    Androids 17 and 18 emerge from Dr. Gero's secret lab\n",
      "\n",
      "\u001b[33mcommit 6aacf8708f01c54445e2320c8b315bf074cb28bd\u001b[m\n",
      "Author: Jason Ross <jasonross1024@gmail.com>\n",
      "Date:   Tue Jan 1 17:14:05 2002 -0800\n",
      "\n",
      "    Trunks is born\n",
      "\n",
      "\u001b[33mcommit 64d28594f6f97fe74528fb0e9d233d13b25c524b\u001b[m\n",
      "Author: Jason Ross <jasonross1024@gmail.com>\n",
      "Date:   Sat Jan 1 09:40:00 2000 -0800\n",
      "\n",
      "    Goku arrives using instant transmission\n",
      "\n",
      "\u001b[33mcommit 989e028539af2ea130bc71b652f89cc2ec6054d4\u001b[m\n",
      "Author: Jason Ross <jasonross1024@gmail.com>\n",
      "Date:   Sat Jan 1 09:37:00 2000 -0800\n",
      "\n",
      "    Future Trunks defeats the evil Frieza and King Cold easily\n",
      "\n",
      "\u001b[33mcommit 5eefb5f4841ee62b656945786fbfcca22b29458a\u001b[m\n",
      "Author: Jason Ross <jasonross1024@gmail.com>\n",
      "Date:   Sat Jan 1 09:36:00 2000 -0800\n",
      "\n",
      "    Trunks handily dispatches the minions of Frieza\n",
      "\n",
      "\u001b[33mcommit f6628c999156e291e0c1493033343d32b851890d\u001b[m\n",
      "Author: Jason Ross <jasonross1024@gmail.com>\n",
      "Date:   Sat Jan 1 09:35:00 2000 -0800\n",
      "\n",
      "    Frieza's minions emerge and the battle begins\n",
      "\n",
      "\u001b[33mcommit 30aaae108b962c7af430f4635b24cd0e1cfb58b9\u001b[m\n",
      "Author: Jason Ross <jasonross1024@gmail.com>\n",
      "Date:   Sat Jan 1 09:33:00 2000 -0800\n",
      "\n",
      "    Future Trunks arrives in a time machine to the astonishment of the Z fighters\n",
      "\n",
      "\u001b[33mcommit 6057870e7a8e59ef1108abb52488dd442863c9b2\u001b[m\n",
      "Author: Jason Ross <jasonross1024@gmail.com>\n",
      "Date:   Sat Jan 1 09:30:00 2000 -0800\n",
      "\n",
      "    Frieza and King Cold arrive\n",
      "\n",
      "\u001b[33mcommit bf5f31ee9f007d7eeddd05673d1924498140702b\u001b[m\u001b[33m (\u001b[m\u001b[1;33mtag: Battle-Begins\u001b[m\u001b[33m)\u001b[m\n",
      "Author: Jason Ross <jasonross1024@gmail.com>\n",
      "Date:   Sat Jan 1 09:00:00 2000 -0800\n",
      "\n",
      "    The Z fighters prepare for battle with the evil Freiza and King Cold\n"
     ]
    }
   ],
   "source": [
    "git log"
   ]
  },
  {
   "cell_type": "code",
   "execution_count": 19,
   "metadata": {},
   "outputs": [
    {
     "name": "stdout",
     "output_type": "stream",
     "text": [
      "Successfully rebased and updated refs/heads/FutureTrunks.\n"
     ]
    }
   ],
   "source": [
    "git rebase --continue"
   ]
  },
  {
   "cell_type": "code",
   "execution_count": 20,
   "metadata": {},
   "outputs": [
    {
     "name": "stdout",
     "output_type": "stream",
     "text": [
      "[FutureTrunks 4c94af2] Cell arrives in a time machine and begins to wreak havoc\n",
      " Date: Sat Mar 1 17:14:30 2003 -0800\n",
      " 2 files changed, 0 insertions(+), 0 deletions(-)\n",
      " create mode 100644 cell\n",
      " create mode 100644 cell-time-machine\n"
     ]
    }
   ],
   "source": [
    "touch cell cell-time-machine\n",
    "git add cell cell-time-machine\n",
    "git commit -m \"Cell arrives in a time machine and begins to wreak havoc\" --date=2003-03-01"
   ]
  },
  {
   "cell_type": "code",
   "execution_count": 21,
   "metadata": {},
   "outputs": [
    {
     "name": "stdout",
     "output_type": "stream",
     "text": [
      "rm 'cell'\n",
      "rm 'goku'\n",
      "[FutureTrunks 84e0834] Cell is defeated\n",
      " Date: Mon Dec 1 17:14:30 2003 -0800\n",
      " 2 files changed, 0 insertions(+), 0 deletions(-)\n",
      " delete mode 100644 cell\n",
      " delete mode 100644 goku\n"
     ]
    }
   ],
   "source": [
    "git rm cell goku\n",
    "git commit -m \"Cell is defeated\" --date=2003-12-01"
   ]
  },
  {
   "cell_type": "code",
   "execution_count": 22,
   "metadata": {},
   "outputs": [
    {
     "name": "stdout",
     "output_type": "stream",
     "text": [
      "rm 'trunks'\n",
      "[FutureTrunks 374d00f] Trunks bids his friends farewell and returns to his timeline\n",
      " Date: Wed Dec 31 17:14:31 2003 -0800\n",
      " 1 file changed, 0 insertions(+), 0 deletions(-)\n",
      " delete mode 100644 trunks\n"
     ]
    }
   ],
   "source": [
    "git rm trunks\n",
    "git commit -m \"Trunks bids his friends farewell and returns to his timeline\" --date=2003-12-31"
   ]
  },
  {
   "cell_type": "code",
   "execution_count": 23,
   "metadata": {},
   "outputs": [],
   "source": [
    "git branch \"Standard\""
   ]
  },
  {
   "cell_type": "code",
   "execution_count": 24,
   "metadata": {},
   "outputs": [
    {
     "name": "stdout",
     "output_type": "stream",
     "text": [
      "HEAD is now at 9c3ba05 The time machine\n"
     ]
    }
   ],
   "source": [
    "git reset --hard Jump-Back"
   ]
  },
  {
   "cell_type": "code",
   "execution_count": 25,
   "metadata": {},
   "outputs": [
    {
     "name": "stdout",
     "output_type": "stream",
     "text": [
      "rm 'android17'\n",
      "rm 'android18'\n",
      "[FutureTrunks da650c7] Trunks returns to the future. With his new experience and self-confidence, he is able to defeat the androids.\n",
      " Date: Mon Jan 2 17:14:33 2017 -0800\n",
      " 2 files changed, 0 insertions(+), 0 deletions(-)\n",
      " delete mode 100644 android17\n",
      " delete mode 100644 android18\n"
     ]
    }
   ],
   "source": [
    "git rm android17 android18\n",
    "git commit -m \"Trunks returns to the future. With his new experience and self-confidence, he is able to defeat the androids.\" --date=2017-01-02"
   ]
  },
  {
   "cell_type": "code",
   "execution_count": 26,
   "metadata": {},
   "outputs": [
    {
     "name": "stdout",
     "output_type": "stream",
     "text": [
      "* \u001b[33mcommit da650c7f383541734af528a2ca81ab02f3895692\u001b[m\u001b[33m (\u001b[m\u001b[1;36mHEAD -> \u001b[m\u001b[1;32mFutureTrunks\u001b[m\u001b[33m)\u001b[m\n",
      "\u001b[31m|\u001b[m Author: Jason Ross <jasonross1024@gmail.com>\n",
      "\u001b[31m|\u001b[m Date:   Mon Jan 2 17:14:33 2017 -0800\n",
      "\u001b[31m|\u001b[m \n",
      "\u001b[31m|\u001b[m     Trunks returns to the future. With his new experience and self-confidence, he is able to defeat the androids.\n",
      "\u001b[31m|\u001b[m \n",
      "* \u001b[33mcommit 9c3ba059f0f03b78d3a4fcaf68af02f16b48bd82\u001b[m\u001b[33m (\u001b[m\u001b[1;33mtag: Jump-Back\u001b[m\u001b[33m)\u001b[m\n",
      "\u001b[31m|\u001b[m Author: Jason Ross <jasonross1024@gmail.com>\n",
      "\u001b[31m|\u001b[m Date:   Sun Jan 1 17:14:07 2017 -0800\n",
      "\u001b[31m|\u001b[m \n",
      "\u001b[31m|\u001b[m     The time machine\n",
      "\u001b[31m|\u001b[m     \n",
      "\u001b[31m|\u001b[m     Bulma reveals that she has developed a time machine. Can Trunks use it to\n",
      "\u001b[31m|\u001b[m     change history, save Goku, and prevent this tragedy from ever happening?\n",
      "\u001b[31m|\u001b[m \n",
      "* \u001b[33mcommit bfdfaa5c6310086ba5fab9e4ef2a75185439ba8b\u001b[m\n",
      "\u001b[31m|\u001b[m Author: Jason Ross <jasonross1024@gmail.com>\n",
      "\u001b[31m|\u001b[m Date:   Wed Jan 1 17:14:07 2014 -0800\n",
      "\u001b[31m|\u001b[m \n",
      "\u001b[31m|\u001b[m     Gohans Sacrifice\n",
      "\u001b[31m|\u001b[m     \n",
      "\u001b[31m|\u001b[m     Gohan sacrifices himself to save Trunks. Driven by anger and grief, Trunks\n",
      "\u001b[31m|\u001b[m     finally finds the strength to transform into a Super Sayian\n",
      "\u001b[31m|\u001b[m \n",
      "* \u001b[33mcommit 15be833371eeb7c5b3ac8aac64ca7939aa483b08\u001b[m\n",
      "\u001b[31m|\u001b[m Author: Jason Ross <jasonross1024@gmail.com>\n",
      "\u001b[31m|\u001b[m Date:   Thu Jan 1 17:14:06 2004 -0800\n",
      "\u001b[31m|\u001b[m \n",
      "\u001b[31m|\u001b[m     Defeat!\n",
      "\u001b[31m|\u001b[m     \n",
      "\u001b[31m|\u001b[m     The Z fighters are defeated one by one, leaving only Trunks, Gohan, and Bulma\n",
      "\u001b[31m|\u001b[m   \n",
      "\u001b[31m|\u001b[m * \u001b[33mcommit 374d00fca4f888ce107966ee86fc4a36ccecfb2d\u001b[m\u001b[33m (\u001b[m\u001b[1;32mStandard\u001b[m\u001b[33m)\u001b[m\n",
      "\u001b[31m|\u001b[m \u001b[32m|\u001b[m Author: Jason Ross <jasonross1024@gmail.com>\n",
      "\u001b[31m|\u001b[m \u001b[32m|\u001b[m Date:   Wed Dec 31 17:14:31 2003 -0800\n",
      "\u001b[31m|\u001b[m \u001b[32m|\u001b[m \n",
      "\u001b[31m|\u001b[m \u001b[32m|\u001b[m     Trunks bids his friends farewell and returns to his timeline\n",
      "\u001b[31m|\u001b[m \u001b[32m|\u001b[m \n",
      "\u001b[31m|\u001b[m * \u001b[33mcommit 84e0834b447e1c63c919a7be7ef267b506c9fb01\u001b[m\n",
      "\u001b[31m|\u001b[m \u001b[32m|\u001b[m Author: Jason Ross <jasonross1024@gmail.com>\n",
      "\u001b[31m|\u001b[m \u001b[32m|\u001b[m Date:   Mon Dec 1 17:14:30 2003 -0800\n",
      "\u001b[31m|\u001b[m \u001b[32m|\u001b[m \n",
      "\u001b[31m|\u001b[m \u001b[32m|\u001b[m     Cell is defeated\n",
      "\u001b[31m|\u001b[m \u001b[32m|\u001b[m \n",
      "\u001b[31m|\u001b[m * \u001b[33mcommit 4c94af2fc09d8c898cf5d60bf1e9f53255962064\u001b[m\n",
      "\u001b[31m|\u001b[m \u001b[32m|\u001b[m Author: Jason Ross <jasonross1024@gmail.com>\n",
      "\u001b[31m|\u001b[m \u001b[32m|\u001b[m Date:   Sat Mar 1 17:14:30 2003 -0800\n",
      "\u001b[31m|\u001b[m \u001b[32m|\u001b[m \n",
      "\u001b[31m|\u001b[m \u001b[32m|\u001b[m     Cell arrives in a time machine and begins to wreak havoc\n",
      "\u001b[31m|\u001b[m \u001b[32m|\u001b[m \n",
      "* \u001b[32m|\u001b[m \u001b[33mcommit 46c27370b6f41ac3e40801b94e618323a3dc298d\u001b[m\n",
      "\u001b[32m|\u001b[m \u001b[32m|\u001b[m Author: Jason Ross <jasonross1024@gmail.com>\n",
      "\u001b[32m|\u001b[m \u001b[32m|\u001b[m Date:   Wed Jan 1 17:14:06 2003 -0800\n",
      "\u001b[32m|\u001b[m \u001b[32m|\u001b[m \n",
      "\u001b[32m|\u001b[m \u001b[32m|\u001b[m     Androids 17 and 18 emerge from Dr. Gero's secret lab\n",
      "\u001b[32m|\u001b[m \u001b[32m|\u001b[m \n",
      "\u001b[32m|\u001b[m * \u001b[33mcommit ddd035c75fb5fc18e41a506ca24fdc8ab44608de\u001b[m\n",
      "\u001b[32m|\u001b[m \u001b[32m|\u001b[m Author: Jason Ross <jasonross1024@gmail.com>\n",
      "\u001b[32m|\u001b[m \u001b[32m|\u001b[m Date:   Wed Jan 1 17:14:06 2003 -0800\n",
      "\u001b[32m|\u001b[m \u001b[32m|\u001b[m \n",
      "\u001b[32m|\u001b[m \u001b[32m|\u001b[m     Androids 17 and 18 emerge from Dr. Gero's secret lab\n",
      "\u001b[32m|\u001b[m \u001b[32m|\u001b[m \n",
      "* \u001b[32m|\u001b[m \u001b[33mcommit 120cc572a75456ad6d44cecfc82ca8533d542c84\u001b[m\n",
      "\u001b[32m|\u001b[m \u001b[32m|\u001b[m Author: Jason Ross <jasonross1024@gmail.com>\n",
      "\u001b[32m|\u001b[m \u001b[32m|\u001b[m Date:   Fri Nov 1 17:14:06 2002 -0800\n",
      "\u001b[32m|\u001b[m \u001b[32m|\u001b[m \n",
      "\u001b[32m|\u001b[m \u001b[32m|\u001b[m     Goku succumbs to the heart virus\n",
      "\u001b[32m|\u001b[m \u001b[32m|\u001b[m \n",
      "* \u001b[32m|\u001b[m \u001b[33mcommit cdde5ac66d00e84dee76fdd55b1d029aad0d5835\u001b[m\n",
      "\u001b[32m|\u001b[m \u001b[32m|\u001b[m Author: Jason Ross <jasonross1024@gmail.com>\n",
      "\u001b[32m|\u001b[m \u001b[32m|\u001b[m Date:   Tue Oct 1 18:14:05 2002 -0700\n",
      "\u001b[32m|\u001b[m \u001b[32m|\u001b[m \n",
      "\u001b[32m|\u001b[m \u001b[32m|\u001b[m     Goku contracts a deadly heart virus\n",
      "\u001b[32m|\u001b[m \u001b[32m|\u001b[m \n",
      "\u001b[32m|\u001b[m * \u001b[33mcommit 6aacf8708f01c54445e2320c8b315bf074cb28bd\u001b[m\n",
      "\u001b[32m|\u001b[m \u001b[32m|\u001b[m Author: Jason Ross <jasonross1024@gmail.com>\n",
      "\u001b[32m|\u001b[m \u001b[32m|\u001b[m Date:   Tue Jan 1 17:14:05 2002 -0800\n",
      "\u001b[32m|\u001b[m \u001b[32m|\u001b[m \n",
      "\u001b[32m|\u001b[m \u001b[32m|\u001b[m     Trunks is born\n",
      "\u001b[32m|\u001b[m \u001b[32m|\u001b[m \n",
      "* \u001b[32m|\u001b[m \u001b[33mcommit bfb2eaa39649807f87845fd220eb5a8e85c94963\u001b[m\n",
      "\u001b[32m|\u001b[m \u001b[32m|\u001b[m Author: Jason Ross <jasonross1024@gmail.com>\n",
      "\u001b[32m|\u001b[m \u001b[32m|\u001b[m Date:   Tue Jan 1 17:14:05 2002 -0800\n",
      "\u001b[32m|\u001b[m \u001b[32m|\u001b[m \n",
      "\u001b[32m|\u001b[m \u001b[32m|\u001b[m     Trunks is born\n",
      "\u001b[32m|\u001b[m \u001b[32m|\u001b[m \n",
      "* \u001b[32m|\u001b[m \u001b[33mcommit 294608054e16b0f7fa1b12f7abaed8c50e5f9399\u001b[m\n",
      "\u001b[32m|\u001b[m \u001b[32m|\u001b[m Author: Jason Ross <jasonross1024@gmail.com>\n",
      "\u001b[32m|\u001b[m \u001b[32m|\u001b[m Date:   Sat Jan 1 09:50:00 2000 -0800\n",
      "\u001b[32m|\u001b[m \u001b[32m|\u001b[m \n",
      "\u001b[32m|\u001b[m \u001b[32m|\u001b[m     Goku defeats Frieza and his father once and for all\n",
      "\u001b[32m|\u001b[m \u001b[32m|\u001b[m \n",
      "* \u001b[32m|\u001b[m \u001b[33mcommit 7c3d9c80ebcd40757cfd634cf5ca8e4d6263da3d\u001b[m\n",
      "\u001b[32m|\u001b[m \u001b[32m|\u001b[m Author: Jason Ross <jasonross1024@gmail.com>\n",
      "\u001b[32m|\u001b[m \u001b[32m|\u001b[m Date:   Sat Jan 1 09:45:00 2000 -0800\n",
      "\u001b[32m|\u001b[m \u001b[32m|\u001b[m \n",
      "\u001b[32m|\u001b[m \u001b[32m|\u001b[m     Goku dispatches Frieza's minions with ease\n",
      "\u001b[32m|\u001b[m \u001b[32m|\u001b[m \n",
      "\u001b[32m|\u001b[m * \u001b[33mcommit 64d28594f6f97fe74528fb0e9d233d13b25c524b\u001b[m\n",
      "\u001b[32m|\u001b[m \u001b[32m|\u001b[m Author: Jason Ross <jasonross1024@gmail.com>\n",
      "\u001b[32m|\u001b[m \u001b[32m|\u001b[m Date:   Sat Jan 1 09:40:00 2000 -0800\n",
      "\u001b[32m|\u001b[m \u001b[32m|\u001b[m \n",
      "\u001b[32m|\u001b[m \u001b[32m|\u001b[m     Goku arrives using instant transmission\n",
      "\u001b[32m|\u001b[m \u001b[32m|\u001b[m \n",
      "* \u001b[32m|\u001b[m \u001b[33mcommit 67430a33c83aa7d0f89fb052764392c2149193f6\u001b[m\n",
      "\u001b[32m|\u001b[m \u001b[32m|\u001b[m Author: Jason Ross <jasonross1024@gmail.com>\n",
      "\u001b[32m|\u001b[m \u001b[32m|\u001b[m Date:   Sat Jan 1 09:40:00 2000 -0800\n",
      "\u001b[32m|\u001b[m \u001b[32m|\u001b[m \n",
      "\u001b[32m|\u001b[m \u001b[32m|\u001b[m     Goku arrives using instant transmission\n",
      "\u001b[32m|\u001b[m \u001b[32m|\u001b[m \n",
      "\u001b[32m|\u001b[m * \u001b[33mcommit 989e028539af2ea130bc71b652f89cc2ec6054d4\u001b[m\n",
      "\u001b[32m|\u001b[m \u001b[32m|\u001b[m Author: Jason Ross <jasonross1024@gmail.com>\n",
      "\u001b[32m|\u001b[m \u001b[32m|\u001b[m Date:   Sat Jan 1 09:37:00 2000 -0800\n",
      "\u001b[32m|\u001b[m \u001b[32m|\u001b[m \n",
      "\u001b[32m|\u001b[m \u001b[32m|\u001b[m     Future Trunks defeats the evil Frieza and King Cold easily\n",
      "\u001b[32m|\u001b[m \u001b[32m|\u001b[m \n",
      "\u001b[32m|\u001b[m * \u001b[33mcommit 5eefb5f4841ee62b656945786fbfcca22b29458a\u001b[m\n",
      "\u001b[32m|\u001b[m \u001b[32m|\u001b[m Author: Jason Ross <jasonross1024@gmail.com>\n",
      "\u001b[32m|\u001b[m \u001b[32m|\u001b[m Date:   Sat Jan 1 09:36:00 2000 -0800\n",
      "\u001b[32m|\u001b[m \u001b[32m|\u001b[m \n",
      "\u001b[32m|\u001b[m \u001b[32m|\u001b[m     Trunks handily dispatches the minions of Frieza\n",
      "\u001b[32m|\u001b[m \u001b[32m|\u001b[m \n",
      "* \u001b[32m|\u001b[m \u001b[33mcommit 0d3823f7abda7511f8569ac1c226bd3351fd396e\u001b[m\n",
      "\u001b[32m|\u001b[m \u001b[32m|\u001b[m Author: Jason Ross <jasonross1024@gmail.com>\n",
      "\u001b[32m|\u001b[m \u001b[32m|\u001b[m Date:   Sat Jan 1 09:35:00 2000 -0800\n",
      "\u001b[32m|\u001b[m \u001b[32m|\u001b[m \n",
      "\u001b[32m|\u001b[m \u001b[32m|\u001b[m     Frieza's minions emerge and the battle begins\n",
      "\u001b[32m|\u001b[m \u001b[32m|\u001b[m \n",
      "\u001b[32m|\u001b[m * \u001b[33mcommit f6628c999156e291e0c1493033343d32b851890d\u001b[m\n",
      "\u001b[32m|\u001b[m \u001b[32m|\u001b[m Author: Jason Ross <jasonross1024@gmail.com>\n",
      "\u001b[32m|\u001b[m \u001b[32m|\u001b[m Date:   Sat Jan 1 09:35:00 2000 -0800\n",
      "\u001b[32m|\u001b[m \u001b[32m|\u001b[m \n",
      "\u001b[32m|\u001b[m \u001b[32m|\u001b[m     Frieza's minions emerge and the battle begins\n",
      "\u001b[32m|\u001b[m \u001b[32m|\u001b[m \n",
      "\u001b[32m|\u001b[m * \u001b[33mcommit 30aaae108b962c7af430f4635b24cd0e1cfb58b9\u001b[m\n",
      "\u001b[32m|\u001b[m\u001b[32m/\u001b[m  Author: Jason Ross <jasonross1024@gmail.com>\n",
      "\u001b[32m|\u001b[m   Date:   Sat Jan 1 09:33:00 2000 -0800\n",
      "\u001b[32m|\u001b[m   \n",
      "\u001b[32m|\u001b[m       Future Trunks arrives in a time machine to the astonishment of the Z fighters\n",
      "\u001b[32m|\u001b[m \n",
      "* \u001b[33mcommit 6057870e7a8e59ef1108abb52488dd442863c9b2\u001b[m\n",
      "\u001b[32m|\u001b[m Author: Jason Ross <jasonross1024@gmail.com>\n",
      "\u001b[32m|\u001b[m Date:   Sat Jan 1 09:30:00 2000 -0800\n",
      "\u001b[32m|\u001b[m \n",
      "\u001b[32m|\u001b[m     Frieza and King Cold arrive\n",
      "\u001b[32m|\u001b[m \n",
      "* \u001b[33mcommit bf5f31ee9f007d7eeddd05673d1924498140702b\u001b[m\u001b[33m (\u001b[m\u001b[1;33mtag: Battle-Begins\u001b[m\u001b[33m)\u001b[m\n",
      "  Author: Jason Ross <jasonross1024@gmail.com>\n",
      "  Date:   Sat Jan 1 09:00:00 2000 -0800\n",
      "  \n",
      "      The Z fighters prepare for battle with the evil Freiza and King Cold\n"
     ]
    }
   ],
   "source": [
    "git log --graph --reflog --decorate --author-date-order"
   ]
  },
  {
   "cell_type": "code",
   "execution_count": null,
   "metadata": {},
   "outputs": [],
   "source": []
  }
 ],
 "metadata": {
  "kernelspec": {
   "display_name": "Bash [conda env:pelican]",
   "language": "bash",
   "name": "conda-env-pelican-bash"
  },
  "language_info": {
   "codemirror_mode": "shell",
   "file_extension": ".sh",
   "mimetype": "text/x-sh",
   "name": "bash"
  },
  "pelican": {
   "authors": "Jason Ross",
   "categories": [
    "Version Control"
   ],
   "category": "Version Control",
   "date": "2019-02-02",
   "slug": "gokublog",
   "summary": "The trunks travels back in time to do a git-rebase on his timeline, but discovers that he is now in a detached head state",
   "tags": "music python numpy",
   "title": "How I learned about git rebase by watching Dragon Ball Z"
  }
 },
 "nbformat": 4,
 "nbformat_minor": 4
}
