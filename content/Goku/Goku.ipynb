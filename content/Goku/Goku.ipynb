{
 "cells": [
  {
   "cell_type": "code",
   "execution_count": 1,
   "metadata": {},
   "outputs": [
    {
     "name": "stdout",
     "output_type": "stream",
     "text": [
      "Decoded /tmp/magick-5507NqpIh1lS2eoN. Dimensions: 1000 x 1825 . Format: lossy. Now saving...\n",
      "Saved file /tmp/magick-5507-TxfWm2kBLkg\n",
      "Decoded /tmp/magick-5522d-xvV9iRAe2X. Dimensions: 644 x 1321 . Format: lossy. Now saving...\n",
      "Saved file /tmp/magick-5522tpEqSXTLc70p\n",
      "Decoded /tmp/magick-5535C3cR5mW9D3q1. Dimensions: 1024 x 768 . Format: lossy. Now saving...\n",
      "Saved file /tmp/magick-5535P7fMROpPKw6t\n",
      "Decoded /tmp/magick-55670ssJt7Datdub. Dimensions: 320 x 240 . Format: lossy. Now saving...\n",
      "Saved file /tmp/magick-55676ZxX3d2jeIyC\n",
      "Decoded /tmp/magick-5591rywRr9truVRc. Dimensions: 1280 x 720 . Format: lossy. Now saving...\n",
      "Saved file /tmp/magick-5591gQiSnYX3DsED\n",
      "Decoded /tmp/magick-5604sv2YGZZO7Rym. Dimensions: 400 x 223 . Format: lossy. Now saving...\n",
      "Saved file /tmp/magick-5604KIxEa4ma3AJM\n",
      "Decoded /tmp/magick-5617r4dx9WJoRjbp. Dimensions: 1280 x 717 . Format: lossy. Now saving...\n",
      "Saved file /tmp/magick-5617m3vqNMuHOW3O\n",
      "Decoded /tmp/magick-5633RbJORLbjTTfu. Dimensions: 640 x 480 . Format: lossy. Now saving...\n",
      "Saved file /tmp/magick-5633oJoM9nQA0yxT\n",
      "Decoded /tmp/magick-56469TBLzCH4BbRA. Dimensions: 640 x 480 . Format: lossy. Now saving...\n",
      "Saved file /tmp/magick-5646NRhrGlBzs0KZ\n",
      "Decoded /tmp/magick-56593tdpRoMREFRC. Dimensions: 1276 x 720 . Format: lossy. Now saving...\n",
      "Saved file /tmp/magick-5659q_jKP3Qn7Un1\n",
      "Decoded /tmp/magick-5672psZtKfZKavbN. Dimensions: 640 x 480 . Format: lossy. Now saving...\n",
      "Saved file /tmp/magick-5672rOsZz8UO3R1a\n",
      "Decoded /tmp/magick-5685tleqXId9jOFS. Dimensions: 391 x 385 . Format: lossy. Now saving...\n",
      "Saved file /tmp/magick-5685M28oFeIpbB8f\n",
      "Decoded /tmp/magick-5698oXeiHj0u3HdW. Dimensions: 300 x 290 . Format: lossy. Now saving...\n",
      "Saved file /tmp/magick-5698LclAZMT9rAmj\n",
      "Decoded /tmp/magick-5711uPNRhj2apxgW. Dimensions: 986 x 558 . Format: lossy. Now saving...\n",
      "Saved file /tmp/magick-5711DRrKJDyx7uhk\n",
      "Decoded /tmp/magick-5724rs95PI9zsgP4. Dimensions: 1918 x 1080 . Format: lossy. Now saving...\n",
      "Saved file /tmp/magick-5724MDuTLAj705cr\n",
      "Decoded /tmp/magick-5737Tn0QKsBKFYp1. Dimensions: 1280 x 720 . Format: lossy. Now saving...\n",
      "Saved file /tmp/magick-5737ufK2sFYqsN2n\n",
      "Decoded /tmp/magick-5750aYWmW7qND9T7. Dimensions: 700 x 394 . Format: lossy. Now saving...\n",
      "Saved file /tmp/magick-5750hNOyXmkoFwXt\n",
      "Decoded /tmp/magick-5763eWX4aS7w1fKf. Dimensions: 1280 x 720 . Format: lossy. Now saving...\n",
      "Saved file /tmp/magick-5763D-6tzdqE8udA\n",
      "Decoded /tmp/magick-5776ENXZVEpDEobm. Dimensions: 450 x 336 . Format: lossy. Now saving...\n",
      "Saved file /tmp/magick-5776uoL8PAeWf35F\n",
      "Decoded /tmp/magick-5789-FrCQC79RiNs. Dimensions: 1000 x 1292 . Format: lossy. Now saving...\n",
      "Saved file /tmp/magick-5789hU3ycGmXg1jM\n",
      "Decoded /tmp/magick-5802FieQkg3viM0x. Dimensions: 1280 x 720 . Format: lossy. Now saving...\n",
      "Saved file /tmp/magick-5802hs1wRtUk2NXQ\n",
      "Decoded /tmp/magick-5815bo60AO0gPjVE. Dimensions: 450 x 827 . Format: lossy. Now saving...\n",
      "Saved file /tmp/magick-58154QkN7OeeeHoY\n",
      "Decoded /tmp/magick-5828kwJf0aTOPGVG. Dimensions: 1280 x 720 . Format: lossy. Now saving...\n",
      "Saved file /tmp/magick-5828c1W250aPAF1Z\n",
      "Decoded /tmp/magick-58415GzvibTmHgpS. Dimensions: 212 x 350 . Format: lossy. Now saving...\n",
      "Saved file /tmp/magick-5841N9RfA2mAt0M9\n",
      "Decoded /tmp/magick-5854Y4QTM4cGGrAU. Dimensions: 320 x 240 . Format: lossy. Now saving...\n",
      "Saved file /tmp/magick-58547O8AJV7jcwCb\n",
      "Decoded /tmp/magick-5867myYPWEeu9YpY. Dimensions: 576 x 432 . Format: lossy. Now saving...\n",
      "Saved file /tmp/magick-5867PV9YsLHYHyaf\n",
      "Decoded /tmp/magick-5880vph4bbCId743. Dimensions: 640 x 386 . Format: lossy. Now saving...\n",
      "Saved file /tmp/magick-5880jkRl237AJKtk\n",
      "Decoded /tmp/magick-5893g2qeC6bLE1T6. Dimensions: 1280 x 720 . Format: lossy. Now saving...\n",
      "Saved file /tmp/magick-58934cdVunTMjxSm\n",
      "Decoded /tmp/magick-5938G4xgPJn3IjVl. Dimensions: 1915 x 1080 . Format: lossy. Now saving...\n",
      "Saved file /tmp/magick-59389NeyjPFoa8SA\n",
      "Decoded /tmp/magick-5955KnVLK4EGConk. Dimensions: 4214 x 1062 . Format: lossy. Now saving...\n",
      "Saved file /tmp/magick-5955Hu9iLora94vz\n"
     ]
    }
   ],
   "source": [
    "bash init.sh"
   ]
  },
  {
   "cell_type": "markdown",
   "metadata": {},
   "source": [
    "Trunks didn't know he was about to learn about directed acyclic graphs when he went back in time to save Goku.\n",
    "\n",
    "![Our hero](../images/Trunks_DBZ_Ep_131_001.jpg)"
   ]
  },
  {
   "cell_type": "markdown",
   "metadata": {},
   "source": [
    "Let's create a git repository with some sensible defaults and get going. We'll be following \"Future\" Trunks through history."
   ]
  },
  {
   "cell_type": "code",
   "execution_count": 2,
   "metadata": {},
   "outputs": [
    {
     "name": "stdout",
     "output_type": "stream",
     "text": [
      "Initialized empty Git repository in /home/jason/Projects/blog/content/Goku/.git/\n",
      "Switched to a new branch 'FutureTrunks'\n"
     ]
    }
   ],
   "source": [
    "rm -vdrf  !(\"Goku.ipynb\"|\"resources_raw\"|\"init.sh\") > /dev/null\n",
    "rm -rdf .git .gitignore > /dev/null\n",
    "git init\n",
    "git config --local user.name \"Jason Ross\"\n",
    "git config --local user.email \"jasonross1024@gmail.com\"\n",
    "git checkout -b \"FutureTrunks\"\n",
    "echo \".ipynb_checkpoints/\" >> .gitignore\n",
    "echo \"*.ipynb\" >> .gitignore\n",
    "git add .gitignore\n"
   ]
  },
  {
   "cell_type": "markdown",
   "metadata": {},
   "source": [
    "We find our heros (minus Goku) assembled to confront an evil force that is approaching from space.\n",
    "\n",
    "![The Z Fighters assemble](../images/Z-_Fighters_MY.jpg)\n",
    "\n",
    "\n",
    "![A spaceship appears](../images/EveryoneLookingAtFrieza'sSpaceship.jpg)"
   ]
  },
  {
   "cell_type": "code",
   "execution_count": 3,
   "metadata": {},
   "outputs": [],
   "source": [
    "touch vegeta krillin gohan piccolo bulma\n",
    "git add vegeta krillin gohan piccolo bulma\n",
    "git commit --quiet -m \\\n",
    "\"The Z fighters prepare for battle with the unknown evil force\" \\\n",
    "--date 2000-01-01T09:00:00"
   ]
  },
  {
   "cell_type": "markdown",
   "metadata": {},
   "source": [
    "Our heros wait with baited breath as a ramp descends from the alien spacecraft. It's Frieza! How can this be?!\n",
    "\n",
    "![Frieza and King Cold arrive](../images/FriezaKingColdNV.jpg)"
   ]
  },
  {
   "cell_type": "code",
   "execution_count": 4,
   "metadata": {},
   "outputs": [],
   "source": [
    "touch frieza king-cold \n",
    "git tag \"Battle-Begins\"\n",
    "git add frieza king-cold\n",
    "git commit --quiet -m \"The evil arrives. IT'S FRIEZA (and king cold)\" --date 2000-01-01T09:30"
   ]
  },
  {
   "cell_type": "markdown",
   "metadata": {},
   "source": [
    "While Frieza could easily destroy the entire planet instantly, he cruelly decides to watch his minions fight our heros for his amusement instead.\n",
    "\n",
    "![Frieza's minions emerge](../images/ColdJeece&Commannder&Kanazian.jpg)"
   ]
  },
  {
   "cell_type": "code",
   "execution_count": 5,
   "metadata": {},
   "outputs": [],
   "source": [
    "touch minions\n",
    "git add minions\n",
    "git commit --quiet -m \"Frieza's minions emerge and the battle begins\" \\\n",
    "--date 2000-01-01T09:35"
   ]
  },
  {
   "cell_type": "markdown",
   "metadata": {},
   "source": [
    "With a bang, a man appears from nothing. It's Goku! The earth is saved!\n",
    "\n",
    "![Goku usually has that look on his face](../images/Uiokw.jpg)"
   ]
  },
  {
   "cell_type": "code",
   "execution_count": 6,
   "metadata": {},
   "outputs": [],
   "source": [
    "touch goku\n",
    "git add goku\n",
    "git commit --quiet -m \"Goku arrives using instant transmission\" \\\n",
    "--date 2000-01-01T09:40"
   ]
  },
  {
   "cell_type": "markdown",
   "metadata": {},
   "source": [
    "Goku easily dispatches the enemy forces. Frieza and is father are no more.\n",
    "\n",
    "![](resources/Welcome_Back_Goku_-_King_Cold_killed.jpg)"
   ]
  },
  {
   "cell_type": "code",
   "execution_count": 7,
   "metadata": {},
   "outputs": [],
   "source": [
    "git rm minions > /dev/null\n",
    "git commit --quiet -m \"Goku dispatches Frieza's minions with ease\" \\\n",
    "--date 2000-01-01T09:45\n",
    "\n",
    "git rm frieza king-cold > /dev/null\n",
    "git commit --quiet -m \"Goku defeats Frieza and his father once and for all\" \\\n",
    "--date 2000-01-01T09:50"
   ]
  },
  {
   "cell_type": "markdown",
   "metadata": {},
   "source": [
    "Bulma has a baby. It's the protagonist of our story, Trunks,\n",
    "\n",
    "![Baby Trunks](../images/TrunksBabyIsBorn.jpg)"
   ]
  },
  {
   "cell_type": "code",
   "execution_count": 8,
   "metadata": {},
   "outputs": [],
   "source": [
    "touch trunks\n",
    "git add trunks\n",
    "git commit --quiet -m \"Trunks is born\" --date 2002-01-01"
   ]
  },
  {
   "cell_type": "markdown",
   "metadata": {},
   "source": [
    "But, to our shock and dismay, Goku falls ill with a deadly heart virus! He struggles for life, but ultimately succumbs. The savior of earth is no more. \n",
    "\n",
    "![](../images/GokuFutureInBedDies.jpg)"
   ]
  },
  {
   "cell_type": "code",
   "execution_count": 9,
   "metadata": {},
   "outputs": [],
   "source": [
    "touch heart-virus\n",
    "git add heart-virus\n",
    "git commit --quiet -m \"Goku contracts a deadly heart virus\" --date 2002-10-01\n",
    "\n",
    "git rm goku heart-virus > /dev/null\n",
    "git commit --quiet -m \"Goku succumbs to the heart virus\" --date 2002-11-01"
   ]
  },
  {
   "cell_type": "markdown",
   "metadata": {},
   "source": [
    "Worse yet, our remaining heros find themselves facing new and terrifying foes. These androids are stronger than any of our heros and can fight tirelessly. \n",
    "\n",
    "![Android 17](../images/Vlcsnap-2012-05-26-22h44m24s125.jpg) ![Android 18](../images/Android_18_-_History_of_Trunks_-_000.jpg)"
   ]
  },
  {
   "cell_type": "code",
   "execution_count": 10,
   "metadata": {},
   "outputs": [],
   "source": [
    "touch android17 android18\n",
    "git add android17 android18\n",
    "git commit --quiet -m \"Androids 17 and 18 emerge from Dr. Gero's secret lab\" \\\n",
    "--date 2003-01-01"
   ]
  },
  {
   "cell_type": "markdown",
   "metadata": {},
   "source": [
    "Although our heros fight valiantly, the infinite energy reserves of the androids are too much for them and they are defeated one by one.\n",
    "\n",
    "![Tien under attack](../images/TienFutureVsAndroid18NV.jpg)\n",
    "![Yamcha receives a kick](../images/YamchaFutureA.jpg)\n",
    "![Krillin in a tight spot](../images/KrillinFutureA.jpg)"
   ]
  },
  {
   "cell_type": "code",
   "execution_count": 11,
   "metadata": {},
   "outputs": [],
   "source": [
    "git rm piccolo krillin vegeta > /dev/null\n",
    "git commit --quiet -m 'Defeat!\n",
    "\n",
    "The Z fighters are defeated one by one, leaving only Trunks, Gohan, and Bulma' \\\n",
    "--date 2004-01-01"
   ]
  },
  {
   "cell_type": "markdown",
   "metadata": {},
   "source": [
    "Trunks is too young to know these heros who tried to save the world from certain destruction, but they live on in the memories of his mother Bulma and Goku's son, Gohan. Trunks grows up in a world in chaos, fighting for survival at every turn and watching his friends be killed by these souless androids. Finally, even Gohan is defeated. \n",
    "\n",
    "![Gohan cannot withstand the combined assault](../images/GohanFutureAndroids17-18Match.jpg)\n",
    "\n",
    "Trunks finds power within himself from his grief and anger, and becomes a legendary Super Sayian!\n",
    "\n",
    "![Trunks powers up](../images/Trunks_ssj2.jpg)"
   ]
  },
  {
   "cell_type": "code",
   "execution_count": 12,
   "metadata": {},
   "outputs": [],
   "source": [
    "git rm gohan > /dev/null\n",
    "git commit --quiet -m 'Gohans Sacrifice\n",
    "\n",
    "Gohan sacrifices himself to save Trunks. Driven by anger and grief, Trunks \n",
    "finally finds the strength to transform into a Super Sayian' \\\n",
    "--date 2014-01-01"
   ]
  },
  {
   "cell_type": "markdown",
   "metadata": {},
   "source": [
    "Although Gohan is gone, Trunks' mother Bulma has an ace up her sleeve - a time machine! Can our hero can use it to change history and save Goku from the deadly heart virus? Will the future he returns to be one where the androids never decimated the earth?\n",
    "\n",
    "Let's do a `git rebase` and find out!!!"
   ]
  },
  {
   "cell_type": "code",
   "execution_count": 13,
   "metadata": {},
   "outputs": [],
   "source": [
    "touch time-machine medicine\n",
    "git add time-machine medicine\n",
    "git commit --quiet -m 'The time machine\n",
    "\n",
    "Bulma reveals that she has developed a time machine. Can Trunks use it to \n",
    "change history, save Goku, and prevent this tragedy from ever happening?' \\\n",
    "--date 2017-01-01 > /dev/null\n",
    "\n",
    "git tag \"Jump-Back\""
   ]
  },
  {
   "cell_type": "markdown",
   "metadata": {},
   "source": [
    "We start by doing a git rebase onto the tag \"Battle-Begins\". We need to do an interactive rebase to rework the history of the branch we're currently on."
   ]
  },
  {
   "cell_type": "markdown",
   "metadata": {},
   "source": [
    "> I'm using a Jupyter Notebook to get terminal output and scripts to show in the same place. The side effect is that I can't use a text editor to do an interactve rebase normally. Instead, I just use `sed` to mark all commits for edit and work my way through history manually. This is what the `git-rebase-todo` file looks like."
   ]
  },
  {
   "cell_type": "code",
   "execution_count": 14,
   "metadata": {},
   "outputs": [
    {
     "name": "stdout",
     "output_type": "stream",
     "text": [
      "Stopped at deb2180...  The evil arrives. IT'S FRIEZA (and king cold)\n",
      "You can amend the commit now, with\n",
      "\n",
      "  git commit --amend \n",
      "\n",
      "Once you are satisfied with your changes, run\n",
      "\n",
      "  git rebase --continue\n",
      "\n",
      "\n",
      "edit 35681ee9633bae53f6e4fcb7788f0df59e86befc Frieza's minions emerge and the battle begins\n",
      "edit 3f277ee6d53e535d2f0a40507f5416e4da18736d Goku arrives using instant transmission\n",
      "edit 18d74dae1f36333aaa517d35d7615580aa559944 Goku dispatches Frieza's minions with ease\n",
      "edit 137b75ace50a7a397b2e788636ad93afc4ca2be7 Goku defeats Frieza and his father once and for all\n",
      "edit b7124962d390aa836a61e7a562c98128650434d1 Trunks is born\n",
      "edit 48690ab7532f0de00590abe36473ee0bdea48253 Goku contracts a deadly heart virus\n",
      "edit 93af44dcb357fa770b306df86a27784e8c02cbab Goku succumbs to the heart virus\n",
      "edit 14c0eb14cea8db81c75d233d82e5586910de9ab2 Androids 17 and 18 emerge from Dr. Gero's secret lab\n",
      "edit ef0b761d18dc9aab73d72899e17c763ae04c6deb Defeat!\n",
      "edit 7f3da7bd1e7a6eb8f4bc95cd02c81d93d4fb832d Gohans Sacrifice\n",
      "edit 1e7a98cf56da05796cff7eb930264e5261f7fa93 The time machine\n"
     ]
    }
   ],
   "source": [
    "# Tell git to use sed as the sequence editor\n",
    "GIT_SEQUENCE_EDITOR=\"sed -i -re 's/^pick /e /'\" git rebase -i Battle-Begins\n",
    "echo \n",
    "echo\n",
    "REBASEFILE=.git/rebase-merge/git-rebase-todo\n",
    "cat $REBASEFILE | head -n 11"
   ]
  },
  {
   "cell_type": "code",
   "execution_count": 15,
   "metadata": {},
   "outputs": [
    {
     "name": "stdout",
     "output_type": "stream",
     "text": [
      "[detached HEAD 0ecdf5e] Future Trunks arrives in a time machine to the astonishment of the Z fighters\n",
      " Date: Sat Jan 1 09:33:00 2000 -0800\n",
      " 3 files changed, 0 insertions(+), 0 deletions(-)\n",
      " create mode 100644 future-trunks\n",
      " create mode 100644 medicine\n",
      " create mode 100644 time-machine\n"
     ]
    }
   ],
   "source": [
    "git checkout Jump-Back -- trunks medicine time-machine\n",
    "git mv trunks future-trunks\n",
    "git add future-trunks medicine time-machine\n",
    "git commit \\\n",
    "-m \"Future Trunks arrives in a time machine to the astonishment of the Z fighters\" \\\n",
    "--date 2000-01-01T09:33\n"
   ]
  },
  {
   "cell_type": "markdown",
   "metadata": {},
   "source": [
    "Trunks does a quick `git log` to see where he ended up. Uh-oh. Looks like there are some bad guys around."
   ]
  },
  {
   "cell_type": "code",
   "execution_count": 16,
   "metadata": {},
   "outputs": [
    {
     "name": "stdout",
     "output_type": "stream",
     "text": [
      "\u001b[33mcommit 0ecdf5e123940a74a8d1084fe154a2c5d3888667\u001b[m\u001b[33m (\u001b[m\u001b[1;36mHEAD\u001b[m\u001b[33m)\u001b[m\n",
      "Author: Jason Ross <jasonross1024@gmail.com>\n",
      "\n",
      "    Future Trunks arrives in a time machine to the astonishment of the Z fighters\n",
      "\n",
      "\u001b[33mcommit deb2180a09ac0c1268fc6a2aef11fbbbaa9590eb\u001b[m\n",
      "Author: Jason Ross <jasonross1024@gmail.com>\n",
      "\n",
      "    The evil arrives. IT'S FRIEZA (and king cold)\n",
      "\n",
      "\u001b[33mcommit 4432cb646cd139830aa87605993588e9aa0d25f4\u001b[m\u001b[33m (\u001b[m\u001b[1;33mtag: Battle-Begins\u001b[m\u001b[33m)\u001b[m\n",
      "Author: Jason Ross <jasonross1024@gmail.com>\n",
      "\n",
      "    The Z fighters prepare for battle with the unknown evil force\n"
     ]
    }
   ],
   "source": [
    "git log --decorate --pretty=short"
   ]
  },
  {
   "cell_type": "markdown",
   "metadata": {},
   "source": [
    "The story continues as it did before. Let's do a `git rebase --continue` to advance time a bit."
   ]
  },
  {
   "cell_type": "code",
   "execution_count": 17,
   "metadata": {},
   "outputs": [
    {
     "name": "stdout",
     "output_type": "stream",
     "text": [
      "Stopped at 35681ee...  Frieza's minions emerge and the battle begins\n",
      "You can amend the commit now, with\n",
      "\n",
      "  git commit --amend \n",
      "\n",
      "Once you are satisfied with your changes, run\n",
      "\n",
      "  git rebase --continue\n"
     ]
    }
   ],
   "source": [
    "git rebase --continue"
   ]
  },
  {
   "cell_type": "markdown",
   "metadata": {},
   "source": [
    "Trunks is a pretty good fighter and is able to defeat Frieza's minions.\n",
    "\n",
    "> We know we need to remove the minions here. Before, this happened because Goku defeated them, but in this timeline Trunks defeats them first. This means we need to reorder history and alter some commit messages. We can do this by editing our todo list."
   ]
  },
  {
   "cell_type": "code",
   "execution_count": 18,
   "metadata": {},
   "outputs": [
    {
     "name": "stdout",
     "output_type": "stream",
     "text": [
      "reword 18d74dae1f36333aaa517d35d7615580aa559944 Trunks defeats Frieza's minions\n",
      "reword 137b75ace50a7a397b2e788636ad93afc4ca2be7 Trunks defeats Frieza and King Cold\n",
      "edit 3f277ee6d53e535d2f0a40507f5416e4da18736d Goku arrives using instant transmission\n",
      "edit b7124962d390aa836a61e7a562c98128650434d1 Trunks is born\n",
      "edit 48690ab7532f0de00590abe36473ee0bdea48253 Goku contracts a deadly heart virus\n",
      "drop 93af44dcb357fa770b306df86a27784e8c02cbab Goku succumbs to the heart virus\n",
      "edit 14c0eb14cea8db81c75d233d82e5586910de9ab2 Androids 17 and 18 emerge from Dr. Gero's secret lab\n",
      "drop ef0b761d18dc9aab73d72899e17c763ae04c6deb Defeat!\n",
      "drop 7f3da7bd1e7a6eb8f4bc95cd02c81d93d4fb832d Gohans Sacrifice\n",
      "drop 1e7a98cf56da05796cff7eb930264e5261f7fa93 The time machine\n",
      "\n",
      "# Rebase 4432cb6..1e7a98c onto 4432cb6 (12 commands)\n",
      "#\n",
      "# Commands:\n",
      "# p, pick = use commit\n",
      "# r, reword = use commit, but edit the commit message\n",
      "# e, edit = use commit, but stop for amending\n",
      "# s, squash = use commit, but meld into previous commit\n",
      "# f, fixup = like \"squash\", but discard this commit's log message\n",
      "# x, exec = run command (the rest of the line) using shell\n",
      "# d, drop = remove commit\n",
      "#\n",
      "# These lines can be re-ordered; they are executed from top to bottom.\n",
      "#\n",
      "# If you remove a line here THAT COMMIT WILL BE LOST.\n",
      "#\n",
      "# However, if you remove everything, the rebase will be aborted.\n",
      "#\n",
      "# Note that empty commits are commented out\n"
     ]
    }
   ],
   "source": [
    "{\n",
    "    head -n 2 $REBASEFILE  | tail -n 1 \\\n",
    "    | sed  -re \"s/^edit /reword /; s/(\\w+ \\w+ )(.+)/\\1Trunks defeats Frieza's minions/\";\n",
    "    head -n 3 $REBASEFILE  | tail -n 1 \\\n",
    "    | sed  -re \"s/^edit /reword /; s/(\\w+ \\w+ )(.+)/\\1Trunks defeats Frieza and King Cold/\";\n",
    "    head -n 1 $REBASEFILE;\n",
    "    tail -n +4 $REBASEFILE | head -n 2;\n",
    "    tail -n +6 $REBASEFILE | sed -re 's/^edit /drop /' | head -n 1;\n",
    "    tail -n +7 $REBASEFILE | head -n 1;\n",
    "    tail -n +8 $REBASEFILE | sed -re 's/^edit /drop /';\n",
    "} > tmp\n",
    "cat tmp\n",
    "mv tmp $REBASEFILE"
   ]
  },
  {
   "cell_type": "markdown",
   "metadata": {},
   "source": [
    "Trunks defeats Frieza and his father in a one-sided battle.\n",
    "\n",
    "![Frieza Defeated](../images/TrunksFutureFriezaSliced.jpg)\n",
    "![Frieza Diced to Pieces](../images/Trunkskillstheruler.jpg)\n",
    "![King Cold Defeated](../images/Kingcold2.jpg)"
   ]
  },
  {
   "cell_type": "code",
   "execution_count": 19,
   "metadata": {},
   "outputs": [
    {
     "name": "stdout",
     "output_type": "stream",
     "text": [
      "\u001b[K[detached HEAD 82e12c6] Trunks defeats Friezas minions\n",
      " 1 file changed, 0 insertions(+), 0 deletions(-)\n",
      " delete mode 100644 minions\n",
      "\u001b[K[detached HEAD 3886145] Trunks defeats Frieza and his father, dramatically\n",
      " 2 files changed, 0 insertions(+), 0 deletions(-)\n",
      " delete mode 100644 frieza\n",
      " delete mode 100644 king-cold\n",
      "Stopped at 3f277ee...  Goku arrives using instant transmission\n",
      "You can amend the commit now, with\n",
      "\n",
      "  git commit --amend \n",
      "\n",
      "Once you are satisfied with your changes, run\n",
      "\n",
      "  git rebase --continue\n"
     ]
    }
   ],
   "source": [
    "GIT_EDITOR=\"sed -i -re \\\n",
    "'s/(.+minions.+)/Trunks defeats Friezas minions/; \\\n",
    "s/(.+father.+)/Trunks defeats Frieza and his father, dramatically/'\" git rebase --continue\n"
   ]
  },
  {
   "cell_type": "markdown",
   "metadata": {},
   "source": [
    "Trunks is able to meet Goku and Vegeta for the first time. \n",
    "\n",
    "![Trunks meets Goku](../images/FutureTrunks_And_Goku_Mystery_Revealed.jpg)"
   ]
  },
  {
   "cell_type": "code",
   "execution_count": 20,
   "metadata": {},
   "outputs": [
    {
     "name": "stdout",
     "output_type": "stream",
     "text": [
      "[detached HEAD b58ea12] Future Trunks meets his father Vegeta and his hero Goku\n",
      " 1 file changed, 2 insertions(+)\n"
     ]
    }
   ],
   "source": [
    "echo \"Met Goku\" >> future-trunks\n",
    "echo \"Met Vegeta\" >> future-trunks\n",
    "git add future-trunks\n",
    "git commit -m \"Future Trunks meets his father Vegeta and his hero Goku\""
   ]
  },
  {
   "cell_type": "code",
   "execution_count": 21,
   "metadata": {},
   "outputs": [
    {
     "name": "stdout",
     "output_type": "stream",
     "text": [
      "Stopped at b712496...  Trunks is born\n",
      "You can amend the commit now, with\n",
      "\n",
      "  git commit --amend \n",
      "\n",
      "Once you are satisfied with your changes, run\n",
      "\n",
      "  git rebase --continue\n"
     ]
    }
   ],
   "source": [
    "git rebase --continue"
   ]
  },
  {
   "cell_type": "code",
   "execution_count": 22,
   "metadata": {},
   "outputs": [
    {
     "name": "stdout",
     "output_type": "stream",
     "text": [
      "Stopped at 48690ab...  Goku contracts a deadly heart virus\n",
      "You can amend the commit now, with\n",
      "\n",
      "  git commit --amend \n",
      "\n",
      "Once you are satisfied with your changes, run\n",
      "\n",
      "  git rebase --continue\n"
     ]
    }
   ],
   "source": [
    "git rebase --continue"
   ]
  },
  {
   "cell_type": "markdown",
   "metadata": {},
   "source": [
    "Future Trunks is able to share the heart medicine with Goku and saves his life.\n",
    "\n",
    "![Goku is happy to recieve the heart medicine](../images/Dfgsd.jpg)"
   ]
  },
  {
   "cell_type": "code",
   "execution_count": 23,
   "metadata": {},
   "outputs": [
    {
     "name": "stdout",
     "output_type": "stream",
     "text": [
      "rm 'heart-virus'\n",
      "rm 'medicine'\n",
      "[detached HEAD 2c10c01] Future Trunks gives Goku the heart medicine and Goku survives\n",
      " Date: Sun Sep 1 07:40:22 2002 -0700\n",
      " 2 files changed, 0 insertions(+), 0 deletions(-)\n",
      " delete mode 100644 heart-virus\n",
      " delete mode 100644 medicine\n"
     ]
    }
   ],
   "source": [
    "git rm medicine heart-virus\n",
    "git commit -m \"Future Trunks gives Goku the heart medicine and Goku survives\" --date 2002-09-01"
   ]
  },
  {
   "cell_type": "markdown",
   "metadata": {},
   "source": [
    "> Peeking at the rebase todo list, we see that we're set to drop the commit where Goku dies. It's safe to continue."
   ]
  },
  {
   "cell_type": "code",
   "execution_count": 24,
   "metadata": {},
   "outputs": [
    {
     "name": "stdout",
     "output_type": "stream",
     "text": [
      "drop 93af44dcb357fa770b306df86a27784e8c02cbab Goku succumbs to the heart virus\n",
      "edit 14c0eb14cea8db81c75d233d82e5586910de9ab2 Androids 17 and 18 emerge from Dr. Gero's secret lab\n",
      "drop ef0b761d18dc9aab73d72899e17c763ae04c6deb Defeat!\n",
      "drop 7f3da7bd1e7a6eb8f4bc95cd02c81d93d4fb832d Gohans Sacrifice\n",
      "drop 1e7a98cf56da05796cff7eb930264e5261f7fa93 The time machine\n",
      "\n",
      "# Rebase 4432cb6..1e7a98c onto 4432cb6 (12 commands)\n",
      "#\n",
      "# Commands:\n",
      "# p, pick = use commit\n",
      "# r, reword = use commit, but edit the commit message\n",
      "# e, edit = use commit, but stop for amending\n",
      "# s, squash = use commit, but meld into previous commit\n",
      "# f, fixup = like \"squash\", but discard this commit's log message\n",
      "# x, exec = run command (the rest of the line) using shell\n",
      "# d, drop = remove commit\n",
      "#\n",
      "# These lines can be re-ordered; they are executed from top to bottom.\n",
      "#\n",
      "# If you remove a line here THAT COMMIT WILL BE LOST.\n",
      "#\n",
      "# However, if you remove everything, the rebase will be aborted.\n",
      "#\n",
      "# Note that empty commits are commented out\n"
     ]
    }
   ],
   "source": [
    "cat $REBASEFILE"
   ]
  },
  {
   "cell_type": "markdown",
   "metadata": {},
   "source": [
    "The androids emerge in this timeline, but our heros are prepared. With Goku and Trunks, how could they lose?\n",
    "\n",
    "![The androids emerge](../images/Dr.jpg)"
   ]
  },
  {
   "cell_type": "code",
   "execution_count": 25,
   "metadata": {},
   "outputs": [
    {
     "name": "stdout",
     "output_type": "stream",
     "text": [
      "Stopped at 14c0eb1...  Androids 17 and 18 emerge from Dr. Gero's secret lab\n",
      "You can amend the commit now, with\n",
      "\n",
      "  git commit --amend \n",
      "\n",
      "Once you are satisfied with your changes, run\n",
      "\n",
      "  git rebase --continue\n"
     ]
    }
   ],
   "source": [
    "git rebase --continue"
   ]
  },
  {
   "cell_type": "markdown",
   "metadata": {},
   "source": [
    "> One more `rebase --continue` and we will be up to date."
   ]
  },
  {
   "cell_type": "code",
   "execution_count": 26,
   "metadata": {},
   "outputs": [
    {
     "name": "stdout",
     "output_type": "stream",
     "text": [
      "Successfully rebased and updated refs/heads/FutureTrunks.\n"
     ]
    }
   ],
   "source": [
    "git rebase --continue"
   ]
  },
  {
   "cell_type": "markdown",
   "metadata": {},
   "source": [
    "Trunks' changes to the past have caused a new threat to emerge - the evil Cell! \n",
    "\n",
    "![Cell](../images/Cell_DBZ_Ep_177_001.jpg)"
   ]
  },
  {
   "cell_type": "code",
   "execution_count": 27,
   "metadata": {},
   "outputs": [
    {
     "name": "stdout",
     "output_type": "stream",
     "text": [
      "[FutureTrunks 5a79a57] Cell arrives in a time machine and begins to wreak havoc\n",
      " Date: Sat Mar 1 06:40:23 2003 -0800\n",
      " 2 files changed, 0 insertions(+), 0 deletions(-)\n",
      " create mode 100644 cell\n",
      " create mode 100644 cell-time-machine\n"
     ]
    }
   ],
   "source": [
    "touch cell cell-time-machine\n",
    "git add cell cell-time-machine\n",
    "git commit -m \"Cell arrives in a time machine and begins to wreak havoc\" --date=2003-03-01"
   ]
  },
  {
   "cell_type": "markdown",
   "metadata": {},
   "source": [
    "With their combined efforts, our heros are able to defeat this new threat.\n",
    "\n",
    "![Cell defeated](../images/IHATEMYTOUNGE.jpg)"
   ]
  },
  {
   "cell_type": "code",
   "execution_count": 28,
   "metadata": {},
   "outputs": [
    {
     "name": "stdout",
     "output_type": "stream",
     "text": [
      "rm 'cell'\n",
      "rm 'goku'\n",
      "[FutureTrunks f474c3b] Cell is defeated\n",
      " Date: Mon Dec 1 06:40:23 2003 -0800\n",
      " 2 files changed, 0 insertions(+), 0 deletions(-)\n",
      " delete mode 100644 cell\n",
      " delete mode 100644 goku\n"
     ]
    }
   ],
   "source": [
    "git rm cell goku\n",
    "git commit -m \"Cell is defeated\" --date=2003-12-01"
   ]
  },
  {
   "cell_type": "markdown",
   "metadata": {},
   "source": [
    "Trunks says goodbye to his new friends and returns to his own history. The rebase is done, but has he really changed history? What will his timeline look like with the androids defeated?\n",
    "\n",
    "\n",
    "![](../images/FutureTrunksPeaceEp193.jpg)"
   ]
  },
  {
   "cell_type": "code",
   "execution_count": 29,
   "metadata": {},
   "outputs": [
    {
     "name": "stdout",
     "output_type": "stream",
     "text": [
      "rm 'trunks'\n",
      "[FutureTrunks 0dccbcf] Trunks bids his friends farewell and returns to his timeline\n",
      " Date: Wed Dec 31 06:40:23 2003 -0800\n",
      " 1 file changed, 0 insertions(+), 0 deletions(-)\n",
      " delete mode 100644 trunks\n"
     ]
    }
   ],
   "source": [
    "git tag \"Trunks-Leaves\"\n",
    "git branch \"MainTimeline\"\n",
    "git rm trunks\n",
    "git commit -m \"Trunks bids his friends farewell and returns to his timeline\" --date=2003-12-31"
   ]
  },
  {
   "cell_type": "markdown",
   "metadata": {},
   "source": [
    "> To simulate time travel I'm doing a hard reset rather than a checkout. If I were to do a checkout, I'd actually end up in a detached head state, which isn't what I want because "
   ]
  },
  {
   "cell_type": "code",
   "execution_count": 30,
   "metadata": {},
   "outputs": [
    {
     "name": "stdout",
     "output_type": "stream",
     "text": [
      "Note: checking out 'Jump-Back'.\n",
      "\n",
      "You are in 'detached HEAD' state. You can look around, make experimental\n",
      "changes and commit them, and you can discard any commits you make in this\n",
      "state without impacting any branches by performing another checkout.\n",
      "\n",
      "If you want to create a new branch to retain commits you create, you may\n",
      "do so (now or later) by using -b with the checkout command again. Example:\n",
      "\n",
      "  git checkout -b <new-branch-name>\n",
      "\n",
      "HEAD is now at 1e7a98c The time machine\n"
     ]
    }
   ],
   "source": [
    "git checkout Jump-Back"
   ]
  },
  {
   "cell_type": "code",
   "execution_count": 32,
   "metadata": {},
   "outputs": [
    {
     "name": "stdout",
     "output_type": "stream",
     "text": [
      "* \u001b[33mcommit 1e7a98cf56da05796cff7eb930264e5261f7fa93\u001b[m\u001b[33m (\u001b[m\u001b[1;36mHEAD\u001b[m\u001b[33m, \u001b[m\u001b[1;33mtag: Jump-Back\u001b[m\u001b[33m)\u001b[m\n",
      "\u001b[31m|\u001b[m Author: Jason Ross <jasonross1024@gmail.com>\n",
      "\u001b[31m|\u001b[m Date:   Sun Jan 1 06:40:19 2017 -0800\n",
      "\u001b[31m|\u001b[m \n",
      "\u001b[31m|\u001b[m     The time machine\n",
      "\u001b[31m|\u001b[m     \n",
      "\u001b[31m|\u001b[m     Bulma reveals that she has developed a time machine. Can Trunks use it to\n",
      "\u001b[31m|\u001b[m     change history, save Goku, and prevent this tragedy from ever happening?\n",
      "\u001b[31m|\u001b[m \n",
      "* \u001b[33mcommit 7f3da7bd1e7a6eb8f4bc95cd02c81d93d4fb832d\u001b[m\n",
      "\u001b[31m|\u001b[m Author: Jason Ross <jasonross1024@gmail.com>\n",
      "\u001b[31m|\u001b[m Date:   Wed Jan 1 06:40:18 2014 -0800\n",
      "\u001b[31m|\u001b[m \n",
      "\u001b[31m|\u001b[m     Gohans Sacrifice\n",
      "\u001b[31m|\u001b[m     \n",
      "\u001b[31m|\u001b[m     Gohan sacrifices himself to save Trunks. Driven by anger and grief, Trunks\n",
      "\u001b[31m|\u001b[m     finally finds the strength to transform into a Super Sayian\n",
      "\u001b[31m|\u001b[m \n",
      "* \u001b[33mcommit ef0b761d18dc9aab73d72899e17c763ae04c6deb\u001b[m\n",
      "\u001b[31m|\u001b[m Author: Jason Ross <jasonross1024@gmail.com>\n",
      "\u001b[31m|\u001b[m Date:   Thu Jan 1 06:40:18 2004 -0800\n",
      "\u001b[31m|\u001b[m \n",
      "\u001b[31m|\u001b[m     Defeat!\n",
      "\u001b[31m|\u001b[m     \n",
      "\u001b[31m|\u001b[m     The Z fighters are defeated one by one, leaving only Trunks, Gohan, and Bulma\n",
      "\u001b[31m|\u001b[m \n",
      "* \u001b[33mcommit 14c0eb14cea8db81c75d233d82e5586910de9ab2\u001b[m\n",
      "\u001b[31m|\u001b[m Author: Jason Ross <jasonross1024@gmail.com>\n",
      "\u001b[31m|\u001b[m Date:   Wed Jan 1 06:40:18 2003 -0800\n",
      "\u001b[31m|\u001b[m \n",
      "\u001b[31m|\u001b[m     Androids 17 and 18 emerge from Dr. Gero's secret lab\n",
      "\u001b[31m|\u001b[m \n",
      "* \u001b[33mcommit 93af44dcb357fa770b306df86a27784e8c02cbab\u001b[m\n",
      "\u001b[31m|\u001b[m Author: Jason Ross <jasonross1024@gmail.com>\n",
      "\u001b[31m|\u001b[m Date:   Fri Nov 1 06:40:17 2002 -0800\n",
      "\u001b[31m|\u001b[m \n",
      "\u001b[31m|\u001b[m     Goku succumbs to the heart virus\n",
      "\u001b[31m|\u001b[m \n",
      "* \u001b[33mcommit 48690ab7532f0de00590abe36473ee0bdea48253\u001b[m\n",
      "\u001b[31m|\u001b[m Author: Jason Ross <jasonross1024@gmail.com>\n",
      "\u001b[31m|\u001b[m Date:   Tue Oct 1 07:40:17 2002 -0700\n",
      "\u001b[31m|\u001b[m \n",
      "\u001b[31m|\u001b[m     Goku contracts a deadly heart virus\n",
      "\u001b[31m|\u001b[m \n",
      "* \u001b[33mcommit b7124962d390aa836a61e7a562c98128650434d1\u001b[m\n",
      "\u001b[31m|\u001b[m Author: Jason Ross <jasonross1024@gmail.com>\n",
      "\u001b[31m|\u001b[m Date:   Tue Jan 1 06:40:17 2002 -0800\n",
      "\u001b[31m|\u001b[m \n",
      "\u001b[31m|\u001b[m     Trunks is born\n",
      "\u001b[31m|\u001b[m \n",
      "* \u001b[33mcommit 137b75ace50a7a397b2e788636ad93afc4ca2be7\u001b[m\n",
      "\u001b[31m|\u001b[m Author: Jason Ross <jasonross1024@gmail.com>\n",
      "\u001b[31m|\u001b[m Date:   Sat Jan 1 09:50:00 2000 -0800\n",
      "\u001b[31m|\u001b[m \n",
      "\u001b[31m|\u001b[m     Goku defeats Frieza and his father once and for all\n",
      "\u001b[31m|\u001b[m \n",
      "* \u001b[33mcommit 18d74dae1f36333aaa517d35d7615580aa559944\u001b[m\n",
      "\u001b[31m|\u001b[m Author: Jason Ross <jasonross1024@gmail.com>\n",
      "\u001b[31m|\u001b[m Date:   Sat Jan 1 09:45:00 2000 -0800\n",
      "\u001b[31m|\u001b[m \n",
      "\u001b[31m|\u001b[m     Goku dispatches Frieza's minions with ease\n",
      "\u001b[31m|\u001b[m \n",
      "* \u001b[33mcommit 3f277ee6d53e535d2f0a40507f5416e4da18736d\u001b[m\n",
      "\u001b[31m|\u001b[m Author: Jason Ross <jasonross1024@gmail.com>\n",
      "\u001b[31m|\u001b[m Date:   Sat Jan 1 09:40:00 2000 -0800\n",
      "\u001b[31m|\u001b[m \n",
      "\u001b[31m|\u001b[m     Goku arrives using instant transmission\n",
      "\u001b[31m|\u001b[m \n",
      "* \u001b[33mcommit 35681ee9633bae53f6e4fcb7788f0df59e86befc\u001b[m\n",
      "\u001b[31m|\u001b[m Author: Jason Ross <jasonross1024@gmail.com>\n",
      "\u001b[31m|\u001b[m Date:   Sat Jan 1 09:35:00 2000 -0800\n",
      "\u001b[31m|\u001b[m \n",
      "\u001b[31m|\u001b[m     Frieza's minions emerge and the battle begins\n",
      "\u001b[31m|\u001b[m \n",
      "* \u001b[33mcommit deb2180a09ac0c1268fc6a2aef11fbbbaa9590eb\u001b[m\n",
      "\u001b[31m|\u001b[m Author: Jason Ross <jasonross1024@gmail.com>\n",
      "\u001b[31m|\u001b[m Date:   Sat Jan 1 09:30:00 2000 -0800\n",
      "\u001b[31m|\u001b[m \n",
      "\u001b[31m|\u001b[m     The evil arrives. IT'S FRIEZA (and king cold)\n",
      "\u001b[31m|\u001b[m \n",
      "* \u001b[33mcommit 4432cb646cd139830aa87605993588e9aa0d25f4\u001b[m\u001b[33m (\u001b[m\u001b[1;33mtag: Battle-Begins\u001b[m\u001b[33m)\u001b[m\n",
      "  Author: Jason Ross <jasonross1024@gmail.com>\n",
      "  Date:   Sat Jan 1 09:00:00 2000 -0800\n",
      "  \n",
      "      The Z fighters prepare for battle with the unknown evil force\n"
     ]
    }
   ],
   "source": [
    "git log --graph"
   ]
  },
  {
   "cell_type": "code",
   "execution_count": 31,
   "metadata": {},
   "outputs": [
    {
     "name": "stdout",
     "output_type": "stream",
     "text": [
      "HEAD is now at bf23252 The time machine\n"
     ]
    }
   ],
   "source": [
    "git reset --hard Jump-Back\n",
    "git checkout Trunks-Leaves -- future-trunks\n",
    "mv future-trunks trunks"
   ]
  },
  {
   "cell_type": "code",
   "execution_count": 32,
   "metadata": {},
   "outputs": [
    {
     "name": "stdout",
     "output_type": "stream",
     "text": [
      "Met Goku\n",
      "Met Vegeta\n"
     ]
    }
   ],
   "source": [
    "cat trunks"
   ]
  },
  {
   "cell_type": "code",
   "execution_count": 33,
   "metadata": {},
   "outputs": [
    {
     "name": "stdout",
     "output_type": "stream",
     "text": [
      "[Main 5ff11ae] Trunks arrives back in his own timeline. However, he discovers that the future is still as he left it.\n",
      " Date: Mon Jan 2 11:52:52 2017 -0800\n",
      " 1 file changed, 2 insertions(+)\n",
      " create mode 100644 future-trunks\n"
     ]
    }
   ],
   "source": [
    "git commit -m \"Trunks arrives back in his own timeline. However, he discovers that the future is still as he left it.\" \\\n",
    "--date 2017-01-02"
   ]
  },
  {
   "cell_type": "markdown",
   "metadata": {},
   "source": [
    "With his new training and inspiration, Trunks is able to save his own timeline from the Androids.\n",
    "\n",
    "![Trunks defeating Android 17](../images/Vlcsnap-2017-02-15-18h42m54s309.jpg)"
   ]
  },
  {
   "cell_type": "code",
   "execution_count": 34,
   "metadata": {},
   "outputs": [
    {
     "name": "stdout",
     "output_type": "stream",
     "text": [
      "rm 'android17'\n",
      "rm 'android18'\n",
      "[Main a52e78b] Trunks defeats the androids and saves his future--date=2017-01-03\n",
      " 2 files changed, 0 insertions(+), 0 deletions(-)\n",
      " delete mode 100644 android17\n",
      " delete mode 100644 android18\n"
     ]
    }
   ],
   "source": [
    "git rm android17 android18\n",
    "git commit -m 'Trunks defeats the androids and saves his future'\\\n",
    "--date=2017-01-03 "
   ]
  },
  {
   "cell_type": "markdown",
   "metadata": {},
   "source": []
  },
  {
   "cell_type": "code",
   "execution_count": 35,
   "metadata": {},
   "outputs": [
    {
     "name": "stdout",
     "output_type": "stream",
     "text": [
      "* \u001b[33mcommit a52e78b9fbb7eb3b1b9ba9f50a4f05b563c2b555\u001b[m\u001b[33m (\u001b[m\u001b[1;36mHEAD -> \u001b[m\u001b[1;32mMain\u001b[m\u001b[33m)\u001b[m\n",
      "\u001b[31m|\u001b[m Author: Jason Ross <jasonross1024@gmail.com>\n",
      "\u001b[31m|\u001b[m Date:   Mon Sep 21 12:52:52 2020 -0700\n",
      "\u001b[31m|\u001b[m \n",
      "\u001b[31m|\u001b[m     Trunks defeats the androids and saves his future--date=2017-01-03\n",
      "\u001b[31m|\u001b[m \n",
      "* \u001b[33mcommit 5ff11ae72d406d40c6c634965f5b4c81991b16e5\u001b[m\n",
      "\u001b[31m|\u001b[m Author: Jason Ross <jasonross1024@gmail.com>\n",
      "\u001b[31m|\u001b[m Date:   Mon Jan 2 11:52:52 2017 -0800\n",
      "\u001b[31m|\u001b[m \n",
      "\u001b[31m|\u001b[m     Trunks arrives back in his own timeline. However, he discovers that the future is still as he left it.\n",
      "\u001b[31m|\u001b[m \n",
      "* \u001b[33mcommit bf23252c17061900f296aee0535f0823ce19e4aa\u001b[m\u001b[33m (\u001b[m\u001b[1;33mtag: Jump-Back\u001b[m\u001b[33m)\u001b[m\n",
      "\u001b[31m|\u001b[m Author: Jason Ross <jasonross1024@gmail.com>\n",
      "\u001b[31m|\u001b[m Date:   Sun Jan 1 11:52:47 2017 -0800\n",
      "\u001b[31m|\u001b[m \n",
      "\u001b[31m|\u001b[m     The time machine\n",
      "\u001b[31m|\u001b[m     \n",
      "\u001b[31m|\u001b[m     Bulma reveals that she has developed a time machine. Can Trunks use it to\n",
      "\u001b[31m|\u001b[m     change history, save Goku, and prevent this tragedy from ever happening?\n",
      "\u001b[31m|\u001b[m \n",
      "* \u001b[33mcommit 0e13d937950fe4227d089573e85228d837790bf0\u001b[m\n",
      "\u001b[31m|\u001b[m Author: Jason Ross <jasonross1024@gmail.com>\n",
      "\u001b[31m|\u001b[m Date:   Wed Jan 1 11:52:46 2014 -0800\n",
      "\u001b[31m|\u001b[m \n",
      "\u001b[31m|\u001b[m     Gohans Sacrifice\n",
      "\u001b[31m|\u001b[m     \n",
      "\u001b[31m|\u001b[m     Gohan sacrifices himself to save Trunks. Driven by anger and grief, Trunks\n",
      "\u001b[31m|\u001b[m     finally finds the strength to transform into a Super Sayian\n",
      "\u001b[31m|\u001b[m \n",
      "* \u001b[33mcommit 69bc801c807a7a8e36dc6cf1e1349456c28748bf\u001b[m\n",
      "\u001b[31m|\u001b[m Author: Jason Ross <jasonross1024@gmail.com>\n",
      "\u001b[31m|\u001b[m Date:   Thu Jan 1 11:52:46 2004 -0800\n",
      "\u001b[31m|\u001b[m \n",
      "\u001b[31m|\u001b[m     Defeat!\n",
      "\u001b[31m|\u001b[m     \n",
      "\u001b[31m|\u001b[m     The Z fighters are defeated one by one, leaving only Trunks, Gohan, and Bulma\n",
      "\u001b[31m|\u001b[m   \n",
      "\u001b[31m|\u001b[m * \u001b[33mcommit 21dfd3438b51b38752f5d782bd6f6bd7c593a3c2\u001b[m\n",
      "\u001b[31m|\u001b[m \u001b[32m|\u001b[m Author: Jason Ross <jasonross1024@gmail.com>\n",
      "\u001b[31m|\u001b[m \u001b[32m|\u001b[m Date:   Wed Dec 31 11:52:51 2003 -0800\n",
      "\u001b[31m|\u001b[m \u001b[32m|\u001b[m \n",
      "\u001b[31m|\u001b[m \u001b[32m|\u001b[m     Trunks bids his friends farewell and returns to his timeline\n",
      "\u001b[31m|\u001b[m \u001b[32m|\u001b[m \n",
      "\u001b[31m|\u001b[m * \u001b[33mcommit 10d7faacd8daf08c7bdb327b0cdb1af0aa4e0e5d\u001b[m\u001b[33m (\u001b[m\u001b[1;33mtag: Trunks-Leaves\u001b[m\u001b[33m)\u001b[m\n",
      "\u001b[31m|\u001b[m \u001b[32m|\u001b[m Author: Jason Ross <jasonross1024@gmail.com>\n",
      "\u001b[31m|\u001b[m \u001b[32m|\u001b[m Date:   Mon Dec 1 11:52:51 2003 -0800\n",
      "\u001b[31m|\u001b[m \u001b[32m|\u001b[m \n",
      "\u001b[31m|\u001b[m \u001b[32m|\u001b[m     Cell is defeated\n",
      "\u001b[31m|\u001b[m \u001b[32m|\u001b[m \n",
      "\u001b[31m|\u001b[m * \u001b[33mcommit 39627310003864b35d8e21b04dfd6a3ac1a3a3fd\u001b[m\n",
      "\u001b[31m|\u001b[m \u001b[32m|\u001b[m Author: Jason Ross <jasonross1024@gmail.com>\n",
      "\u001b[31m|\u001b[m \u001b[32m|\u001b[m Date:   Sat Mar 1 11:52:51 2003 -0800\n",
      "\u001b[31m|\u001b[m \u001b[32m|\u001b[m \n",
      "\u001b[31m|\u001b[m \u001b[32m|\u001b[m     Cell arrives in a time machine and begins to wreak havoc\n",
      "\u001b[31m|\u001b[m \u001b[32m|\u001b[m \n",
      "* \u001b[32m|\u001b[m \u001b[33mcommit c9a809f9e8c53dafd13247811df7c45323b2984a\u001b[m\n",
      "\u001b[32m|\u001b[m \u001b[32m|\u001b[m Author: Jason Ross <jasonross1024@gmail.com>\n",
      "\u001b[32m|\u001b[m \u001b[32m|\u001b[m Date:   Wed Jan 1 11:52:46 2003 -0800\n",
      "\u001b[32m|\u001b[m \u001b[32m|\u001b[m \n",
      "\u001b[32m|\u001b[m \u001b[32m|\u001b[m     Androids 17 and 18 emerge from Dr. Gero's secret lab\n",
      "\u001b[32m|\u001b[m \u001b[32m|\u001b[m \n",
      "\u001b[32m|\u001b[m * \u001b[33mcommit e42e8bb762568a1477119e6b14951f5add48c776\u001b[m\n",
      "\u001b[32m|\u001b[m \u001b[32m|\u001b[m Author: Jason Ross <jasonross1024@gmail.com>\n",
      "\u001b[32m|\u001b[m \u001b[32m|\u001b[m Date:   Wed Jan 1 11:52:46 2003 -0800\n",
      "\u001b[32m|\u001b[m \u001b[32m|\u001b[m \n",
      "\u001b[32m|\u001b[m \u001b[32m|\u001b[m     Androids 17 and 18 emerge from Dr. Gero's secret lab\n",
      "\u001b[32m|\u001b[m \u001b[32m|\u001b[m \n",
      "* \u001b[32m|\u001b[m \u001b[33mcommit 0bd79abbc8f0ec25c32d93f3b8d514ca18e15f24\u001b[m\n",
      "\u001b[32m|\u001b[m \u001b[32m|\u001b[m Author: Jason Ross <jasonross1024@gmail.com>\n",
      "\u001b[32m|\u001b[m \u001b[32m|\u001b[m Date:   Fri Nov 1 11:52:45 2002 -0800\n",
      "\u001b[32m|\u001b[m \u001b[32m|\u001b[m \n",
      "\u001b[32m|\u001b[m \u001b[32m|\u001b[m     Goku succumbs to the heart virus\n",
      "\u001b[32m|\u001b[m \u001b[32m|\u001b[m \n",
      "* \u001b[32m|\u001b[m \u001b[33mcommit 4de0cbeab6748cf41f2681b65db608df8a2f458b\u001b[m\n",
      "\u001b[32m|\u001b[m \u001b[32m|\u001b[m Author: Jason Ross <jasonross1024@gmail.com>\n",
      "\u001b[32m|\u001b[m \u001b[32m|\u001b[m Date:   Tue Oct 1 12:52:45 2002 -0700\n",
      "\u001b[32m|\u001b[m \u001b[32m|\u001b[m \n",
      "\u001b[32m|\u001b[m \u001b[32m|\u001b[m     Goku contracts a deadly heart virus\n",
      "\u001b[32m|\u001b[m \u001b[32m|\u001b[m \n",
      "\u001b[32m|\u001b[m * \u001b[33mcommit 4802f62b06782b908bf5883ea10b388dadf4c5f7\u001b[m\n",
      "\u001b[32m|\u001b[m \u001b[32m|\u001b[m Author: Jason Ross <jasonross1024@gmail.com>\n",
      "\u001b[32m|\u001b[m \u001b[32m|\u001b[m Date:   Sun Sep 1 12:52:50 2002 -0700\n",
      "\u001b[32m|\u001b[m \u001b[32m|\u001b[m \n",
      "\u001b[32m|\u001b[m \u001b[32m|\u001b[m     Future Trunks gives Goku the heart medicine and Goku survives\n",
      "\u001b[32m|\u001b[m \u001b[32m|\u001b[m \n",
      "\u001b[32m|\u001b[m * \u001b[33mcommit e8d499dfe274745dfd61e59b398ea9ad6eca7f25\u001b[m\n",
      "\u001b[32m|\u001b[m \u001b[32m|\u001b[m Author: Jason Ross <jasonross1024@gmail.com>\n",
      "\u001b[32m|\u001b[m \u001b[32m|\u001b[m Date:   Tue Oct 1 12:52:45 2002 -0700\n",
      "\u001b[32m|\u001b[m \u001b[32m|\u001b[m \n",
      "\u001b[32m|\u001b[m \u001b[32m|\u001b[m     Goku contracts a deadly heart virus\n",
      "\u001b[32m|\u001b[m \u001b[32m|\u001b[m \n",
      "* \u001b[32m|\u001b[m \u001b[33mcommit 26be1c79f3b7b8de60161ac96c1e1ec53023cfd3\u001b[m\n",
      "\u001b[32m|\u001b[m \u001b[32m|\u001b[m Author: Jason Ross <jasonross1024@gmail.com>\n",
      "\u001b[32m|\u001b[m \u001b[32m|\u001b[m Date:   Tue Jan 1 11:52:45 2002 -0800\n",
      "\u001b[32m|\u001b[m \u001b[32m|\u001b[m \n",
      "\u001b[32m|\u001b[m \u001b[32m|\u001b[m     Trunks is born\n",
      "\u001b[32m|\u001b[m \u001b[32m|\u001b[m \n",
      "\u001b[32m|\u001b[m * \u001b[33mcommit af2c52372b76ec7004d775c52b638746fe1cb137\u001b[m\n",
      "\u001b[32m|\u001b[m \u001b[32m|\u001b[m Author: Jason Ross <jasonross1024@gmail.com>\n",
      "\u001b[32m|\u001b[m \u001b[32m|\u001b[m Date:   Tue Jan 1 11:52:45 2002 -0800\n",
      "\u001b[32m|\u001b[m \u001b[32m|\u001b[m \n",
      "\u001b[32m|\u001b[m \u001b[32m|\u001b[m     Trunks is born\n",
      "\u001b[32m|\u001b[m \u001b[32m|\u001b[m \n",
      "\u001b[32m|\u001b[m * \u001b[33mcommit 0eb2dd5f3e0b1a3d859afea7d5e68fa06333093f\u001b[m\n",
      "\u001b[32m|\u001b[m \u001b[32m|\u001b[m Author: Jason Ross <jasonross1024@gmail.com>\n",
      "\u001b[32m|\u001b[m \u001b[32m|\u001b[m Date:   Mon Sep 21 12:52:49 2020 -0700\n",
      "\u001b[32m|\u001b[m \u001b[32m|\u001b[m \n",
      "\u001b[32m|\u001b[m \u001b[32m|\u001b[m     Future Trunks meets his father Vegeta and his hero Goku\n",
      "\u001b[32m|\u001b[m \u001b[32m|\u001b[m \n",
      "* \u001b[32m|\u001b[m \u001b[33mcommit f8ad8710a4a718b550f255578f0059ea5fc40b1a\u001b[m\n",
      "\u001b[32m|\u001b[m \u001b[32m|\u001b[m Author: Jason Ross <jasonross1024@gmail.com>\n",
      "\u001b[32m|\u001b[m \u001b[32m|\u001b[m Date:   Sat Jan 1 09:50:00 2000 -0800\n",
      "\u001b[32m|\u001b[m \u001b[32m|\u001b[m \n",
      "\u001b[32m|\u001b[m \u001b[32m|\u001b[m     Goku defeats Frieza and his father once and for all\n",
      "\u001b[32m|\u001b[m \u001b[32m|\u001b[m \n",
      "* \u001b[32m|\u001b[m \u001b[33mcommit b3998c2870578b7ea676b8ac294ff8fa4415cc41\u001b[m\n",
      "\u001b[32m|\u001b[m \u001b[32m|\u001b[m Author: Jason Ross <jasonross1024@gmail.com>\n",
      "\u001b[32m|\u001b[m \u001b[32m|\u001b[m Date:   Sat Jan 1 09:45:00 2000 -0800\n",
      "\u001b[32m|\u001b[m \u001b[32m|\u001b[m \n",
      "\u001b[32m|\u001b[m \u001b[32m|\u001b[m     Goku dispatches Frieza's minions with ease\n",
      "\u001b[32m|\u001b[m \u001b[32m|\u001b[m \n",
      "\u001b[32m|\u001b[m * \u001b[33mcommit c37e39148649e3c86d64b309f626b265243cfba9\u001b[m\n",
      "\u001b[32m|\u001b[m \u001b[32m|\u001b[m Author: Jason Ross <jasonross1024@gmail.com>\n",
      "\u001b[32m|\u001b[m \u001b[32m|\u001b[m Date:   Sat Jan 1 09:40:00 2000 -0800\n",
      "\u001b[32m|\u001b[m \u001b[32m|\u001b[m \n",
      "\u001b[32m|\u001b[m \u001b[32m|\u001b[m     Goku arrives using instant transmission\n",
      "\u001b[32m|\u001b[m \u001b[32m|\u001b[m \n",
      "\u001b[32m|\u001b[m * \u001b[33mcommit 1c92c777fbe34218b8c0e033edf14fb7de582f80\u001b[m\n",
      "\u001b[32m|\u001b[m \u001b[32m|\u001b[m Author: Jason Ross <jasonross1024@gmail.com>\n",
      "\u001b[32m|\u001b[m \u001b[32m|\u001b[m Date:   Sat Jan 1 09:50:00 2000 -0800\n",
      "\u001b[32m|\u001b[m \u001b[32m|\u001b[m \n",
      "\u001b[32m|\u001b[m \u001b[32m|\u001b[m     Trunks defeats Frieza and his father, dramatically\n",
      "\u001b[32m|\u001b[m \u001b[32m|\u001b[m \n",
      "\u001b[32m|\u001b[m * \u001b[33mcommit a944c101278fb07584e5c5008e7c2629778216e3\u001b[m\n",
      "\u001b[32m|\u001b[m \u001b[32m|\u001b[m Author: Jason Ross <jasonross1024@gmail.com>\n",
      "\u001b[32m|\u001b[m \u001b[32m|\u001b[m Date:   Sat Jan 1 09:45:00 2000 -0800\n",
      "\u001b[32m|\u001b[m \u001b[32m|\u001b[m \n",
      "\u001b[32m|\u001b[m \u001b[32m|\u001b[m     Trunks defeats Friezas minions\n",
      "\u001b[32m|\u001b[m \u001b[32m|\u001b[m     \n",
      "\u001b[32m|\u001b[m \u001b[32m|\u001b[m     Trunks defeats Friezas minions\n",
      "\u001b[32m|\u001b[m \u001b[32m|\u001b[m \n",
      "* \u001b[32m|\u001b[m \u001b[33mcommit ed40f93daea8394f96265c07ab6642b0273f721c\u001b[m\n",
      "\u001b[32m|\u001b[m \u001b[32m|\u001b[m Author: Jason Ross <jasonross1024@gmail.com>\n",
      "\u001b[32m|\u001b[m \u001b[32m|\u001b[m Date:   Sat Jan 1 09:40:00 2000 -0800\n",
      "\u001b[32m|\u001b[m \u001b[32m|\u001b[m \n",
      "\u001b[32m|\u001b[m \u001b[32m|\u001b[m     Goku arrives using instant transmission\n",
      "\u001b[32m|\u001b[m \u001b[32m|\u001b[m \n",
      "\u001b[32m|\u001b[m * \u001b[33mcommit 80bffb75287842fd39c539b8aa3be53b735b7023\u001b[m\n",
      "\u001b[32m|\u001b[m \u001b[32m|\u001b[m Author: Jason Ross <jasonross1024@gmail.com>\n",
      "\u001b[32m|\u001b[m \u001b[32m|\u001b[m Date:   Sat Jan 1 09:35:00 2000 -0800\n",
      "\u001b[32m|\u001b[m \u001b[32m|\u001b[m \n",
      "\u001b[32m|\u001b[m \u001b[32m|\u001b[m     Frieza's minions emerge and the battle begins\n",
      "\u001b[32m|\u001b[m \u001b[32m|\u001b[m \n",
      "* \u001b[32m|\u001b[m \u001b[33mcommit e41939f2bff67ba6507fd7ebc33f900202e10296\u001b[m\n",
      "\u001b[32m|\u001b[m \u001b[32m|\u001b[m Author: Jason Ross <jasonross1024@gmail.com>\n",
      "\u001b[32m|\u001b[m \u001b[32m|\u001b[m Date:   Sat Jan 1 09:35:00 2000 -0800\n",
      "\u001b[32m|\u001b[m \u001b[32m|\u001b[m \n",
      "\u001b[32m|\u001b[m \u001b[32m|\u001b[m     Frieza's minions emerge and the battle begins\n",
      "\u001b[32m|\u001b[m \u001b[32m|\u001b[m \n",
      "\u001b[32m|\u001b[m * \u001b[33mcommit 7dcca8d73d7ec5f30de4f0778e286179d179dd10\u001b[m\n",
      "\u001b[32m|\u001b[m\u001b[32m/\u001b[m  Author: Jason Ross <jasonross1024@gmail.com>\n",
      "\u001b[32m|\u001b[m   Date:   Sat Jan 1 09:33:00 2000 -0800\n",
      "\u001b[32m|\u001b[m   \n",
      "\u001b[32m|\u001b[m       Future Trunks arrives in a time machine to the astonishment of the Z fighters\n",
      "\u001b[32m|\u001b[m \n",
      "* \u001b[33mcommit c22021eeeca5fb32b9a56b64dd3094fe4e3be76b\u001b[m\n",
      "\u001b[32m|\u001b[m Author: Jason Ross <jasonross1024@gmail.com>\n",
      "\u001b[32m|\u001b[m Date:   Sat Jan 1 09:30:00 2000 -0800\n",
      "\u001b[32m|\u001b[m \n",
      "\u001b[32m|\u001b[m     The evil arrives. IT'S FRIEZA (and king cold)\n",
      "\u001b[32m|\u001b[m \n",
      "* \u001b[33mcommit 5c9db0497513c3b1c7984c93ffb15d815af87e79\u001b[m\u001b[33m (\u001b[m\u001b[1;33mtag: Battle-Begins\u001b[m\u001b[33m)\u001b[m\n",
      "  Author: Jason Ross <jasonross1024@gmail.com>\n",
      "  Date:   Sat Jan 1 09:00:00 2000 -0800\n",
      "  \n",
      "      The Z fighters prepare for battle with the unknown evil force\n"
     ]
    }
   ],
   "source": [
    "git log --graph --reflog --decorate --author-date-order "
   ]
  },
  {
   "cell_type": "markdown",
   "metadata": {},
   "source": [
    "# What Happened?"
   ]
  },
  {
   "cell_type": "markdown",
   "metadata": {},
   "source": [
    "When Trunks got in the time machine, he thought he could change history. However, history in Dragon Ball Z, like git commit objects, is immutable. When he arrived in the past, he created a fork in the timeline. Changes made to the fork didn't affect his own timeline. In the same way, when we did a `git rebase`, we didn't actually change the fork we came from, just created a new one. The other history still exists. In this case, I used `git tag` to tag the commit that Trunks jumped from so that he would be able to return more easily, but we could have also just used the reflog and jumped to a specific commit that way.\n",
    "\n"
   ]
  }
 ],
 "metadata": {
  "kernelspec": {
   "display_name": "Bash [conda env:pelican]",
   "language": "bash",
   "name": "conda-env-pelican-bash"
  },
  "language_info": {
   "codemirror_mode": "shell",
   "file_extension": ".sh",
   "mimetype": "text/x-sh",
   "name": "bash"
  },
  "pelican": {
   "authors": "Jason Ross",
   "categories": [
    "Version Control"
   ],
   "category": "Version Control",
   "date": "2020-09-21",
   "slug": "gokublog",
   "summary": "Trunks travels back in time to do a git-rebase on his timeline, but discovers that he is now in a detached head state",
   "tags": "git bash",
   "title": "How I learned about git rebase by watching Dragon Ball Z"
  }
 },
 "nbformat": 4,
 "nbformat_minor": 4
}
