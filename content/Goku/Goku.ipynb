{
 "cells": [
  {
   "cell_type": "markdown",
   "metadata": {},
   "source": [
    "Trunks didn't know he was about to learn about directed acyclic graphs when he went back in time to save Goku."
   ]
  },
  {
   "cell_type": "markdown",
   "metadata": {},
   "source": [
    "Let's create a git repository with some sensible defaults and get going. We'll be following \"Future\" Trunks through history."
   ]
  },
  {
   "cell_type": "code",
   "execution_count": 1,
   "metadata": {},
   "outputs": [
    {
     "name": "stdout",
     "output_type": "stream",
     "text": [
      "Initialized empty Git repository in /home/jason/Projects/blog/content/Goku/.git/\n",
      "Switched to a new branch 'FutureTrunks'\n"
     ]
    }
   ],
   "source": [
    "rm -vrdf  !(\"Goku.ipynb\") > /dev/null\n",
    "rm -rdf .git .gitignore > /dev/null\n",
    "git init\n",
    "git config --local user.name \"Jason Ross\"\n",
    "git config --local user.email \"jasonross1024@gmail.com\"\n",
    "git checkout -b \"FutureTrunks\"\n",
    "echo \".ipynb_checkpoints/\" >> .gitignore\n",
    "echo \"*.ipynb\" >> .gitignore\n",
    "git add .gitignore\n"
   ]
  },
  {
   "cell_type": "markdown",
   "metadata": {},
   "source": [
    "We find our heros (minus Goku) assembled to confront an evil force that is approaching from space."
   ]
  },
  {
   "cell_type": "code",
   "execution_count": 2,
   "metadata": {},
   "outputs": [],
   "source": [
    "touch vegeta krillin gohan piccolo bulma\n",
    "git add vegeta krillin gohan piccolo bulma\n",
    "git commit --quiet -m \\\n",
    "\"The Z fighters prepare for battle with the unknown evil force\" \\\n",
    "--date 2000-01-01T09:00:00"
   ]
  },
  {
   "cell_type": "markdown",
   "metadata": {},
   "source": [
    "Our heros wait with baited breath as a ramp descends from the alien spacecraft. It's Frieza! How can this be?!"
   ]
  },
  {
   "cell_type": "code",
   "execution_count": 3,
   "metadata": {},
   "outputs": [],
   "source": [
    "touch frieza king-cold \n",
    "git tag \"Battle-Begins\"\n",
    "git add frieza king-cold\n",
    "git commit --quiet -m \"The evil arrives. IT'S FRIEZA (and king cold)\" --date 2000-01-01T09:30"
   ]
  },
  {
   "cell_type": "markdown",
   "metadata": {},
   "source": [
    "While Frieza could easily destroy the entire planet instantly, he cruelly decides to watch his minions fight our heros for his amusement instead."
   ]
  },
  {
   "cell_type": "code",
   "execution_count": 4,
   "metadata": {},
   "outputs": [],
   "source": [
    "touch minions\n",
    "git add minions\n",
    "git commit --quiet -m \"Frieza's minions emerge and the battle begins\" \\\n",
    "--date 2000-01-01T09:35"
   ]
  },
  {
   "cell_type": "markdown",
   "metadata": {},
   "source": [
    "With a bang, a man appears from nothing. It's Goku! The earth is saved!"
   ]
  },
  {
   "cell_type": "code",
   "execution_count": 5,
   "metadata": {},
   "outputs": [],
   "source": [
    "touch goku\n",
    "git add goku\n",
    "git commit --quiet -m \"Goku arrives using instant transmission\" \\\n",
    "--date 2000-01-01T09:40"
   ]
  },
  {
   "cell_type": "markdown",
   "metadata": {},
   "source": [
    "Goku easily dispatches the enemy forces. Frieza and is father are no more."
   ]
  },
  {
   "cell_type": "code",
   "execution_count": 6,
   "metadata": {},
   "outputs": [],
   "source": [
    "git rm minions > /dev/null\n",
    "git commit --quiet -m \"Goku dispatches Frieza's minions with ease\" \\\n",
    "--date 2000-01-01T09:45\n",
    "\n",
    "git rm frieza king-cold > /dev/null\n",
    "git commit --quiet -m \"Goku defeats Frieza and his father once and for all\" \\\n",
    "--date 2000-01-01T09:50"
   ]
  },
  {
   "cell_type": "markdown",
   "metadata": {},
   "source": [
    "Bulma has a baby. It's the protagonist of our story, Trunks,"
   ]
  },
  {
   "cell_type": "code",
   "execution_count": 7,
   "metadata": {},
   "outputs": [],
   "source": [
    "touch trunks\n",
    "git add trunks\n",
    "git commit --quiet -m \"Trunks is born\" --date 2002-01-01"
   ]
  },
  {
   "cell_type": "markdown",
   "metadata": {},
   "source": [
    "But, to our shock and dismay, Goku falls ill with a deadly heart virus! He dies in a few weeks. "
   ]
  },
  {
   "cell_type": "code",
   "execution_count": 8,
   "metadata": {},
   "outputs": [],
   "source": [
    "touch heart-virus\n",
    "git add heart-virus\n",
    "git commit --quiet -m \"Goku contracts a deadly heart virus\" --date 2002-10-01\n",
    "\n",
    "git rm goku heart-virus > /dev/null\n",
    "git commit --quiet -m \"Goku succumbs to the heart virus\" --date 2002-11-01"
   ]
  },
  {
   "cell_type": "markdown",
   "metadata": {},
   "source": [
    "Worse yet, our remaining heros find themselves facing new and terrifying foes. These androids are stronger than any of our heros and can fight tirelessly. "
   ]
  },
  {
   "cell_type": "code",
   "execution_count": 9,
   "metadata": {},
   "outputs": [],
   "source": [
    "touch android17 android18\n",
    "git add android17 android18\n",
    "git commit --quiet -m \"Androids 17 and 18 emerge from Dr. Gero's secret lab\" \\\n",
    "--date 2003-01-01"
   ]
  },
  {
   "cell_type": "markdown",
   "metadata": {},
   "source": [
    "Although our heros fight valiantly, one by one they are defeated."
   ]
  },
  {
   "cell_type": "code",
   "execution_count": 10,
   "metadata": {},
   "outputs": [],
   "source": [
    "git rm piccolo krillin vegeta > /dev/null\n",
    "git commit --quiet -m 'Defeat!\n",
    "\n",
    "The Z fighters are defeated one by one, leaving only Trunks, Gohan, and Bulma' \\\n",
    "--date 2004-01-01"
   ]
  },
  {
   "cell_type": "markdown",
   "metadata": {},
   "source": [
    "Trunks is too young to know these heros who tried to save the world from certain destruction, but they live on in the memories of his mother Bulma and Goku's son, Gohan. Trunks grows up in a world in chaos, fighting for survival at every turn and watching his friends be killed by these souless androids. Finally, even Gohan is defeated. Trunks finds power within himself from his grief and anger, and becomes a legendary Super Sayian!"
   ]
  },
  {
   "cell_type": "code",
   "execution_count": 11,
   "metadata": {},
   "outputs": [],
   "source": [
    "git rm gohan > /dev/null\n",
    "git commit --quiet -m 'Gohans Sacrifice\n",
    "\n",
    "Gohan sacrifices himself to save Trunks. Driven by anger and grief, Trunks \n",
    "finally finds the strength to transform into a Super Sayian' \\\n",
    "--date 2014-01-01"
   ]
  },
  {
   "cell_type": "markdown",
   "metadata": {},
   "source": [
    "Although Gohan is gone, Trunks' mother Bulma has an ace up her sleeve - a time machine! Can our hero can use it to change history and save Goku from the deadly heart virus? Will the future he returns to be one where the androids never decimated the earth?\n",
    "\n",
    "Let's do a `git rebase` and find out!!!"
   ]
  },
  {
   "cell_type": "code",
   "execution_count": 12,
   "metadata": {},
   "outputs": [
    {
     "name": "stdout",
     "output_type": "stream",
     "text": [
      "* \u001b[33mcommit 2eda8254eb77e66f3759912042dfd81d7808054c\u001b[m\u001b[33m (\u001b[m\u001b[1;36mHEAD -> \u001b[m\u001b[1;32mFutureTrunks\u001b[m\u001b[33m, \u001b[m\u001b[1;33mtag: Jump-Back\u001b[m\u001b[33m)\u001b[m\n",
      "\u001b[31m|\u001b[m Author: Jason Ross <jasonross1024@gmail.com>\n",
      "\u001b[31m|\u001b[m Date:   Sun Jan 1 11:13:15 2017 -0800\n",
      "\u001b[31m|\u001b[m \n",
      "\u001b[31m|\u001b[m     The time machine\n",
      "\u001b[31m|\u001b[m     \n",
      "\u001b[31m|\u001b[m     Bulma reveals that she has developed a time machine. Can Trunks use it to\n",
      "\u001b[31m|\u001b[m     change history, save Goku, and prevent this tragedy from ever happening?\n",
      "\u001b[31m|\u001b[m \n",
      "* \u001b[33mcommit bb812a86193120764005f6c0b73a2bd4936c4155\u001b[m\n",
      "\u001b[31m|\u001b[m Author: Jason Ross <jasonross1024@gmail.com>\n",
      "\u001b[31m|\u001b[m Date:   Wed Jan 1 11:13:15 2014 -0800\n",
      "\u001b[31m|\u001b[m \n",
      "\u001b[31m|\u001b[m     Gohans Sacrifice\n",
      "\u001b[31m|\u001b[m     \n",
      "\u001b[31m|\u001b[m     Gohan sacrifices himself to save Trunks. Driven by anger and grief, Trunks\n",
      "\u001b[31m|\u001b[m     finally finds the strength to transform into a Super Sayian\n",
      "\u001b[31m|\u001b[m \n",
      "* \u001b[33mcommit 091a040ea7b2c0e824e59064654700094fceec28\u001b[m\n",
      "\u001b[31m|\u001b[m Author: Jason Ross <jasonross1024@gmail.com>\n",
      "\u001b[31m|\u001b[m Date:   Thu Jan 1 11:13:14 2004 -0800\n",
      "\u001b[31m|\u001b[m \n",
      "\u001b[31m|\u001b[m     Defeat!\n",
      "\u001b[31m|\u001b[m     \n",
      "\u001b[31m|\u001b[m     The Z fighters are defeated one by one, leaving only Trunks, Gohan, and Bulma\n",
      "\u001b[31m|\u001b[m \n",
      "* \u001b[33mcommit 570997803f218b03831639092b5ccfa4ac903e0a\u001b[m\n",
      "\u001b[31m|\u001b[m Author: Jason Ross <jasonross1024@gmail.com>\n",
      "\u001b[31m|\u001b[m Date:   Wed Jan 1 11:13:14 2003 -0800\n",
      "\u001b[31m|\u001b[m \n",
      "\u001b[31m|\u001b[m     Androids 17 and 18 emerge from Dr. Gero's secret lab\n",
      "\u001b[31m|\u001b[m \n",
      "* \u001b[33mcommit 8c9dc73cb0623b36ef88be9d461036746df9bc1f\u001b[m\n",
      "\u001b[31m|\u001b[m Author: Jason Ross <jasonross1024@gmail.com>\n",
      "\u001b[31m|\u001b[m Date:   Fri Nov 1 11:13:14 2002 -0800\n",
      "\u001b[31m|\u001b[m \n",
      "\u001b[31m|\u001b[m     Goku succumbs to the heart virus\n",
      "\u001b[31m|\u001b[m \n",
      "* \u001b[33mcommit b7fedcb2c828eeb04c745ec2835ba5222e1ec869\u001b[m\n",
      "\u001b[31m|\u001b[m Author: Jason Ross <jasonross1024@gmail.com>\n",
      "\u001b[31m|\u001b[m Date:   Tue Oct 1 12:13:13 2002 -0700\n",
      "\u001b[31m|\u001b[m \n",
      "\u001b[31m|\u001b[m     Goku contracts a deadly heart virus\n",
      "\u001b[31m|\u001b[m \n",
      "* \u001b[33mcommit 9ae98debbbd94da58966200860a7da51f8b3e2b3\u001b[m\n",
      "\u001b[31m|\u001b[m Author: Jason Ross <jasonross1024@gmail.com>\n",
      "\u001b[31m|\u001b[m Date:   Tue Jan 1 11:13:13 2002 -0800\n",
      "\u001b[31m|\u001b[m \n",
      "\u001b[31m|\u001b[m     Trunks is born\n",
      "\u001b[31m|\u001b[m \n",
      "* \u001b[33mcommit 49f09530b6a8575cc63fb8781a1964c195267b7d\u001b[m\n",
      "\u001b[31m|\u001b[m Author: Jason Ross <jasonross1024@gmail.com>\n",
      "\u001b[31m|\u001b[m Date:   Sat Jan 1 09:50:00 2000 -0800\n",
      "\u001b[31m|\u001b[m \n",
      "\u001b[31m|\u001b[m     Goku defeats Frieza and his father once and for all\n",
      "\u001b[31m|\u001b[m \n",
      "* \u001b[33mcommit cf386cb3b34412e393e92385ec56cb13eb89bb1c\u001b[m\n",
      "\u001b[31m|\u001b[m Author: Jason Ross <jasonross1024@gmail.com>\n",
      "\u001b[31m|\u001b[m Date:   Sat Jan 1 09:45:00 2000 -0800\n",
      "\u001b[31m|\u001b[m \n",
      "\u001b[31m|\u001b[m     Goku dispatches Frieza's minions with ease\n",
      "\u001b[31m|\u001b[m \n",
      "* \u001b[33mcommit ccb64cbafc5e3c01d3f86b7f5fc05123a3f66d3d\u001b[m\n",
      "\u001b[31m|\u001b[m Author: Jason Ross <jasonross1024@gmail.com>\n",
      "\u001b[31m|\u001b[m Date:   Sat Jan 1 09:40:00 2000 -0800\n",
      "\u001b[31m|\u001b[m \n",
      "\u001b[31m|\u001b[m     Goku arrives using instant transmission\n",
      "\u001b[31m|\u001b[m \n",
      "* \u001b[33mcommit d70e5d1dbd4b118074ce1792a19be10856ccca02\u001b[m\n",
      "\u001b[31m|\u001b[m Author: Jason Ross <jasonross1024@gmail.com>\n",
      "\u001b[31m|\u001b[m Date:   Sat Jan 1 09:35:00 2000 -0800\n",
      "\u001b[31m|\u001b[m \n",
      "\u001b[31m|\u001b[m     Frieza's minions emerge and the battle begins\n",
      "\u001b[31m|\u001b[m \n",
      "* \u001b[33mcommit 253da192370b9b62f1e34b472c52b402b3a6a42f\u001b[m\n",
      "\u001b[31m|\u001b[m Author: Jason Ross <jasonross1024@gmail.com>\n",
      "\u001b[31m|\u001b[m Date:   Sat Jan 1 09:30:00 2000 -0800\n",
      "\u001b[31m|\u001b[m \n",
      "\u001b[31m|\u001b[m     The evil arrives. IT'S FRIEZA (and king cold)\n",
      "\u001b[31m|\u001b[m \n",
      "* \u001b[33mcommit 58dc956f86dd31d52c86a9669f9eb4a5f06fd4ed\u001b[m\u001b[33m (\u001b[m\u001b[1;33mtag: Battle-Begins\u001b[m\u001b[33m)\u001b[m\n",
      "  Author: Jason Ross <jasonross1024@gmail.com>\n",
      "  Date:   Sat Jan 1 09:00:00 2000 -0800\n",
      "  \n",
      "      The Z fighters prepare for battle with the unknown evil force\n"
     ]
    }
   ],
   "source": [
    "touch time-machine medicine\n",
    "git add time-machine medicine\n",
    "git commit --quiet -m 'The time machine\n",
    "\n",
    "Bulma reveals that she has developed a time machine. Can Trunks use it to \n",
    "change history, save Goku, and prevent this tragedy from ever happening?' \\\n",
    "--date 2017-01-01 > /dev/null\n",
    "\n",
    "git tag \"Jump-Back\"\n",
    "git log --graph --decorate"
   ]
  },
  {
   "cell_type": "markdown",
   "metadata": {},
   "source": [
    "We start by doing a git rebase onto the tag \"Battle-Begins\". We need to do an interactive rebase to rework the history of the branch we're currently on."
   ]
  },
  {
   "cell_type": "markdown",
   "metadata": {},
   "source": [
    "> I'm using a Jupyter Notebook to get terminal output and scripts to show in the same place. The side effect is that I can't use a text editor to do an interactve rebase normally. Instead, I just use `sed` to mark all commits for edit and work my way through history manually. This is what the `git-rebase-todo` file looks like."
   ]
  },
  {
   "cell_type": "code",
   "execution_count": 13,
   "metadata": {},
   "outputs": [
    {
     "name": "stdout",
     "output_type": "stream",
     "text": [
      "Stopped at 253da19...  The evil arrives. IT'S FRIEZA (and king cold)\n",
      "You can amend the commit now, with\n",
      "\n",
      "  git commit --amend \n",
      "\n",
      "Once you are satisfied with your changes, run\n",
      "\n",
      "  git rebase --continue\n",
      "\n",
      "\n",
      "edit d70e5d1dbd4b118074ce1792a19be10856ccca02 Frieza's minions emerge and the battle begins\n",
      "edit ccb64cbafc5e3c01d3f86b7f5fc05123a3f66d3d Goku arrives using instant transmission\n",
      "edit cf386cb3b34412e393e92385ec56cb13eb89bb1c Goku dispatches Frieza's minions with ease\n",
      "edit 49f09530b6a8575cc63fb8781a1964c195267b7d Goku defeats Frieza and his father once and for all\n",
      "edit 9ae98debbbd94da58966200860a7da51f8b3e2b3 Trunks is born\n",
      "edit b7fedcb2c828eeb04c745ec2835ba5222e1ec869 Goku contracts a deadly heart virus\n",
      "edit 8c9dc73cb0623b36ef88be9d461036746df9bc1f Goku succumbs to the heart virus\n",
      "edit 570997803f218b03831639092b5ccfa4ac903e0a Androids 17 and 18 emerge from Dr. Gero's secret lab\n",
      "edit 091a040ea7b2c0e824e59064654700094fceec28 Defeat!\n",
      "edit bb812a86193120764005f6c0b73a2bd4936c4155 Gohans Sacrifice\n",
      "edit 2eda8254eb77e66f3759912042dfd81d7808054c The time machine\n"
     ]
    }
   ],
   "source": [
    "# Tell git to use sed as the sequence editor\n",
    "GIT_SEQUENCE_EDITOR=\"sed -i -re 's/^pick /e /'\" git rebase -i Battle-Begins\n",
    "echo \n",
    "echo\n",
    "REBASEFILE=.git/rebase-merge/git-rebase-todo\n",
    "cat $REBASEFILE | head -n 11\n",
    "git checkout Jump-Back -- trunks medicine time-machine\n",
    "git mv trunks future-trunks"
   ]
  },
  {
   "cell_type": "markdown",
   "metadata": {},
   "source": [
    "Trunks does a quick `git log` to see where he ended up. Uh-oh. Looks like there are some bad guys around."
   ]
  },
  {
   "cell_type": "code",
   "execution_count": 14,
   "metadata": {},
   "outputs": [
    {
     "name": "stdout",
     "output_type": "stream",
     "text": [
      "\u001b[33mcommit 253da192370b9b62f1e34b472c52b402b3a6a42f\u001b[m\u001b[33m (\u001b[m\u001b[1;36mHEAD\u001b[m\u001b[33m)\u001b[m\n",
      "Author: Jason Ross <jasonross1024@gmail.com>\n",
      "\n",
      "    The evil arrives. IT'S FRIEZA (and king cold)\n",
      "\n",
      "\u001b[33mcommit 58dc956f86dd31d52c86a9669f9eb4a5f06fd4ed\u001b[m\u001b[33m (\u001b[m\u001b[1;33mtag: Battle-Begins\u001b[m\u001b[33m)\u001b[m\n",
      "Author: Jason Ross <jasonross1024@gmail.com>\n",
      "\n",
      "    The Z fighters prepare for battle with the unknown evil force\n"
     ]
    }
   ],
   "source": [
    "git log --decorate --pretty=short"
   ]
  },
  {
   "cell_type": "markdown",
   "metadata": {},
   "source": [
    "> We can peek at the reflog to see what happened to us. We're now on the commit right after Battle-Begins."
   ]
  },
  {
   "cell_type": "code",
   "execution_count": 15,
   "metadata": {},
   "outputs": [
    {
     "name": "stdout",
     "output_type": "stream",
     "text": [
      "[detached HEAD 5d3b6d8] Future Trunks arrives in a time machine to the astonishment of the Z fighters\n",
      " Date: Sat Jan 1 09:33:00 2000 -0800\n",
      " 3 files changed, 0 insertions(+), 0 deletions(-)\n",
      " create mode 100644 future-trunks\n",
      " create mode 100644 medicine\n",
      " create mode 100644 time-machine\n"
     ]
    }
   ],
   "source": [
    "git add future-trunks medicine time-machine\n",
    "git commit \\\n",
    "-m \"Future Trunks arrives in a time machine to the astonishment of the Z fighters\" \\\n",
    "--date 2000-01-01T09:33\n"
   ]
  },
  {
   "cell_type": "markdown",
   "metadata": {},
   "source": [
    "The story continues as it did before. Let's do a `git rebase --continue` to advance time a bit."
   ]
  },
  {
   "cell_type": "code",
   "execution_count": 16,
   "metadata": {},
   "outputs": [
    {
     "name": "stdout",
     "output_type": "stream",
     "text": [
      "Stopped at d70e5d1...  Frieza's minions emerge and the battle begins\n",
      "You can amend the commit now, with\n",
      "\n",
      "  git commit --amend \n",
      "\n",
      "Once you are satisfied with your changes, run\n",
      "\n",
      "  git rebase --continue\n"
     ]
    }
   ],
   "source": [
    "git rebase --continue"
   ]
  },
  {
   "cell_type": "markdown",
   "metadata": {},
   "source": [
    "Trunks is a pretty good fighter and is able to defeat Frieza's minions.\n",
    "\n",
    "> We know we need to remove the minions here. Before, this happened because Goku defeated them, but in this timeline Trunks defeats them first. This means we need to reorder history and alter some commit messages. We can do this by editing our todo list."
   ]
  },
  {
   "cell_type": "code",
   "execution_count": 17,
   "metadata": {},
   "outputs": [
    {
     "name": "stdout",
     "output_type": "stream",
     "text": [
      "reword cf386cb3b34412e393e92385ec56cb13eb89bb1c Trunks defeats Frieza's minions\n",
      "reword 49f09530b6a8575cc63fb8781a1964c195267b7d Trunks defeats Frieza and King Cold\n",
      "edit ccb64cbafc5e3c01d3f86b7f5fc05123a3f66d3d Goku arrives using instant transmission\n",
      "edit 9ae98debbbd94da58966200860a7da51f8b3e2b3 Trunks is born\n",
      "edit b7fedcb2c828eeb04c745ec2835ba5222e1ec869 Goku contracts a deadly heart virus\n",
      "drop 8c9dc73cb0623b36ef88be9d461036746df9bc1f Goku succumbs to the heart virus\n",
      "edit 570997803f218b03831639092b5ccfa4ac903e0a Androids 17 and 18 emerge from Dr. Gero's secret lab\n",
      "drop 091a040ea7b2c0e824e59064654700094fceec28 Defeat!\n",
      "drop bb812a86193120764005f6c0b73a2bd4936c4155 Gohans Sacrifice\n",
      "drop 2eda8254eb77e66f3759912042dfd81d7808054c The time machine\n",
      "\n",
      "# Rebase 58dc956..2eda825 onto 58dc956 (12 commands)\n",
      "#\n",
      "# Commands:\n",
      "# p, pick = use commit\n",
      "# r, reword = use commit, but edit the commit message\n",
      "# e, edit = use commit, but stop for amending\n",
      "# s, squash = use commit, but meld into previous commit\n",
      "# f, fixup = like \"squash\", but discard this commit's log message\n",
      "# x, exec = run command (the rest of the line) using shell\n",
      "# d, drop = remove commit\n",
      "#\n",
      "# These lines can be re-ordered; they are executed from top to bottom.\n",
      "#\n",
      "# If you remove a line here THAT COMMIT WILL BE LOST.\n",
      "#\n",
      "# However, if you remove everything, the rebase will be aborted.\n",
      "#\n",
      "# Note that empty commits are commented out\n"
     ]
    }
   ],
   "source": [
    "{\n",
    "    head -n 2 $REBASEFILE  | tail -n 1 \\\n",
    "    | sed  -re \"s/^edit /reword /; s/(\\w+ \\w+ )(.+)/\\1Trunks defeats Frieza's minions/\";\n",
    "    head -n 3 $REBASEFILE  | tail -n 1 \\\n",
    "    | sed  -re \"s/^edit /reword /; s/(\\w+ \\w+ )(.+)/\\1Trunks defeats Frieza and King Cold/\";\n",
    "    head -n 1 $REBASEFILE;\n",
    "    tail -n +4 $REBASEFILE | head -n 2;\n",
    "    tail -n +6 $REBASEFILE | sed -re 's/^edit /drop /' | head -n 1;\n",
    "    tail -n +7 $REBASEFILE | head -n 1;\n",
    "    tail -n +8 $REBASEFILE | sed -re 's/^edit /drop /';\n",
    "} > tmp\n",
    "cat tmp\n",
    "mv tmp $REBASEFILE\n",
    "# cat $REBASEFILE"
   ]
  },
  {
   "cell_type": "code",
   "execution_count": 18,
   "metadata": {},
   "outputs": [
    {
     "name": "stdout",
     "output_type": "stream",
     "text": [
      "\u001b[K[detached HEAD 4ed6097] Trunks defeats Friezas minions\n",
      " 1 file changed, 0 insertions(+), 0 deletions(-)\n",
      " delete mode 100644 minions\n",
      "\u001b[K[detached HEAD 669671c] Trunks defeats Frieza and his father, dramatically\n",
      " 2 files changed, 0 insertions(+), 0 deletions(-)\n",
      " delete mode 100644 frieza\n",
      " delete mode 100644 king-cold\n",
      "Stopped at ccb64cb...  Goku arrives using instant transmission\n",
      "You can amend the commit now, with\n",
      "\n",
      "  git commit --amend \n",
      "\n",
      "Once you are satisfied with your changes, run\n",
      "\n",
      "  git rebase --continue\n"
     ]
    }
   ],
   "source": [
    "# GIT_EDITOR=\"sed -i -re 's/(\\w+ \\w+ )(.+)/\\1Trunks defeats Frieza's minions/'\" git rebase --continue\n",
    "GIT_EDITOR=\"sed -i -re 's/(.+minions.+)/Trunks defeats Friezas minions/; s/(.+father.+)/Trunks defeats Frieza and his father, dramatically/'\" git rebase --continue"
   ]
  },
  {
   "cell_type": "code",
   "execution_count": 20,
   "metadata": {},
   "outputs": [
    {
     "name": "stdout",
     "output_type": "stream",
     "text": [
      "[detached HEAD f0f70d7] Trunks meets Goku and his father Vegeta\n",
      " 1 file changed, 2 insertions(+)\n"
     ]
    }
   ],
   "source": [
    "echo \"Met Goku\" >> future-trunks\n",
    "echo \"Met Vegeta\" >> future-trunks\n",
    "git add future-trunks\n",
    "git commit -m \"Trunks meets Goku and his father Vegeta\""
   ]
  },
  {
   "cell_type": "code",
   "execution_count": 21,
   "metadata": {},
   "outputs": [
    {
     "name": "stdout",
     "output_type": "stream",
     "text": [
      "Stopped at 9ae98de...  Trunks is born\n",
      "You can amend the commit now, with\n",
      "\n",
      "  git commit --amend \n",
      "\n",
      "Once you are satisfied with your changes, run\n",
      "\n",
      "  git rebase --continue\n"
     ]
    }
   ],
   "source": [
    "git rebase --continue"
   ]
  },
  {
   "cell_type": "code",
   "execution_count": 22,
   "metadata": {},
   "outputs": [
    {
     "name": "stdout",
     "output_type": "stream",
     "text": [
      "\u001b[33mcommit 2d3945554f0023dfe2ae7a0f7c2de3a8e3f09838\u001b[m\u001b[33m (\u001b[m\u001b[1;36mHEAD\u001b[m\u001b[33m)\u001b[m\n",
      "Author: Jason Ross <jasonross1024@gmail.com>\n",
      "Date:   Tue Jan 1 11:13:13 2002 -0800\n",
      "\n",
      "    Trunks is born\n",
      "\n",
      "\u001b[33mcommit f0f70d736d3316b99661c96d697823579f2de8f7\u001b[m\n",
      "Author: Jason Ross <jasonross1024@gmail.com>\n",
      "Date:   Mon Sep 21 12:13:18 2020 -0700\n",
      "\n",
      "    Trunks meets Goku and his father Vegeta\n",
      "\n",
      "\u001b[33mcommit dfc7646290cd5acebc90262775339b71f4046bfb\u001b[m\n",
      "Author: Jason Ross <jasonross1024@gmail.com>\n",
      "Date:   Sat Jan 1 09:40:00 2000 -0800\n",
      "\n",
      "    Goku arrives using instant transmission\n",
      "\n",
      "\u001b[33mcommit 669671c02216686b88f2771c93b9831667831a7f\u001b[m\n",
      "Author: Jason Ross <jasonross1024@gmail.com>\n",
      "Date:   Sat Jan 1 09:50:00 2000 -0800\n",
      "\n",
      "    Trunks defeats Frieza and his father, dramatically\n",
      "\n",
      "\u001b[33mcommit 4ed609787910df3d7e0e052611a61453b6051f2f\u001b[m\n",
      "Author: Jason Ross <jasonross1024@gmail.com>\n",
      "Date:   Sat Jan 1 09:45:00 2000 -0800\n",
      "\n",
      "    Trunks defeats Friezas minions\n",
      "    \n",
      "    Trunks defeats Friezas minions\n",
      "\n",
      "\u001b[33mcommit 928549cff945ef085be33d5b6564bd3c80735f8d\u001b[m\n",
      "Author: Jason Ross <jasonross1024@gmail.com>\n",
      "Date:   Sat Jan 1 09:35:00 2000 -0800\n",
      "\n",
      "    Frieza's minions emerge and the battle begins\n",
      "\n",
      "\u001b[33mcommit 5d3b6d8843ebe0d358daf16b2a2a971da764d08c\u001b[m\n",
      "Author: Jason Ross <jasonross1024@gmail.com>\n",
      "Date:   Sat Jan 1 09:33:00 2000 -0800\n",
      "\n",
      "    Future Trunks arrives in a time machine to the astonishment of the Z fighters\n",
      "\n",
      "\u001b[33mcommit 253da192370b9b62f1e34b472c52b402b3a6a42f\u001b[m\n",
      "Author: Jason Ross <jasonross1024@gmail.com>\n",
      "Date:   Sat Jan 1 09:30:00 2000 -0800\n",
      "\n",
      "    The evil arrives. IT'S FRIEZA (and king cold)\n",
      "\n",
      "\u001b[33mcommit 58dc956f86dd31d52c86a9669f9eb4a5f06fd4ed\u001b[m\u001b[33m (\u001b[m\u001b[1;33mtag: Battle-Begins\u001b[m\u001b[33m)\u001b[m\n",
      "Author: Jason Ross <jasonross1024@gmail.com>\n",
      "Date:   Sat Jan 1 09:00:00 2000 -0800\n",
      "\n",
      "    The Z fighters prepare for battle with the unknown evil force\n"
     ]
    }
   ],
   "source": [
    "git log"
   ]
  },
  {
   "cell_type": "code",
   "execution_count": 23,
   "metadata": {},
   "outputs": [
    {
     "name": "stdout",
     "output_type": "stream",
     "text": [
      "Stopped at b7fedcb...  Goku contracts a deadly heart virus\n",
      "You can amend the commit now, with\n",
      "\n",
      "  git commit --amend \n",
      "\n",
      "Once you are satisfied with your changes, run\n",
      "\n",
      "  git rebase --continue\n"
     ]
    }
   ],
   "source": [
    "git rebase --continue"
   ]
  },
  {
   "cell_type": "code",
   "execution_count": 24,
   "metadata": {},
   "outputs": [
    {
     "name": "stdout",
     "output_type": "stream",
     "text": [
      "rm 'heart-virus'\n",
      "rm 'medicine'\n",
      "[detached HEAD 4b50edb] Trunks gives Goku the heart medicine and Goku survives\n",
      " 2 files changed, 0 insertions(+), 0 deletions(-)\n",
      " delete mode 100644 heart-virus\n",
      " delete mode 100644 medicine\n"
     ]
    }
   ],
   "source": [
    "git rm medicine heart-virus\n",
    "git commit -m \"Trunks gives Goku the heart medicine and Goku survives\""
   ]
  },
  {
   "cell_type": "code",
   "execution_count": 25,
   "metadata": {},
   "outputs": [
    {
     "name": "stdout",
     "output_type": "stream",
     "text": [
      "\u001b[33mcommit 4b50edbfbe2b56a6768067ebcd1716ae5dbfecd4\u001b[m\u001b[33m (\u001b[m\u001b[1;36mHEAD\u001b[m\u001b[33m)\u001b[m\n",
      "Author: Jason Ross <jasonross1024@gmail.com>\n",
      "Date:   Mon Sep 21 12:13:18 2020 -0700\n",
      "\n",
      "    Trunks gives Goku the heart medicine and Goku survives\n",
      "\n",
      "\u001b[33mcommit 3d8b91bc92b10d6b6b224ced142eae645d3bb159\u001b[m\n",
      "Author: Jason Ross <jasonross1024@gmail.com>\n",
      "Date:   Tue Oct 1 12:13:13 2002 -0700\n",
      "\n",
      "    Goku contracts a deadly heart virus\n",
      "\n",
      "\u001b[33mcommit 2d3945554f0023dfe2ae7a0f7c2de3a8e3f09838\u001b[m\n",
      "Author: Jason Ross <jasonross1024@gmail.com>\n",
      "Date:   Tue Jan 1 11:13:13 2002 -0800\n",
      "\n",
      "    Trunks is born\n",
      "\n",
      "\u001b[33mcommit f0f70d736d3316b99661c96d697823579f2de8f7\u001b[m\n",
      "Author: Jason Ross <jasonross1024@gmail.com>\n",
      "Date:   Mon Sep 21 12:13:18 2020 -0700\n",
      "\n",
      "    Trunks meets Goku and his father Vegeta\n",
      "\n",
      "\u001b[33mcommit dfc7646290cd5acebc90262775339b71f4046bfb\u001b[m\n",
      "Author: Jason Ross <jasonross1024@gmail.com>\n",
      "Date:   Sat Jan 1 09:40:00 2000 -0800\n",
      "\n",
      "    Goku arrives using instant transmission\n",
      "\n",
      "\u001b[33mcommit 669671c02216686b88f2771c93b9831667831a7f\u001b[m\n",
      "Author: Jason Ross <jasonross1024@gmail.com>\n",
      "Date:   Sat Jan 1 09:50:00 2000 -0800\n",
      "\n",
      "    Trunks defeats Frieza and his father, dramatically\n",
      "\n",
      "\u001b[33mcommit 4ed609787910df3d7e0e052611a61453b6051f2f\u001b[m\n",
      "Author: Jason Ross <jasonross1024@gmail.com>\n",
      "Date:   Sat Jan 1 09:45:00 2000 -0800\n",
      "\n",
      "    Trunks defeats Friezas minions\n",
      "    \n",
      "    Trunks defeats Friezas minions\n",
      "\n",
      "\u001b[33mcommit 928549cff945ef085be33d5b6564bd3c80735f8d\u001b[m\n",
      "Author: Jason Ross <jasonross1024@gmail.com>\n",
      "Date:   Sat Jan 1 09:35:00 2000 -0800\n",
      "\n",
      "    Frieza's minions emerge and the battle begins\n",
      "\n",
      "\u001b[33mcommit 5d3b6d8843ebe0d358daf16b2a2a971da764d08c\u001b[m\n",
      "Author: Jason Ross <jasonross1024@gmail.com>\n",
      "Date:   Sat Jan 1 09:33:00 2000 -0800\n",
      "\n",
      "    Future Trunks arrives in a time machine to the astonishment of the Z fighters\n",
      "\n",
      "\u001b[33mcommit 253da192370b9b62f1e34b472c52b402b3a6a42f\u001b[m\n",
      "Author: Jason Ross <jasonross1024@gmail.com>\n",
      "Date:   Sat Jan 1 09:30:00 2000 -0800\n",
      "\n",
      "    The evil arrives. IT'S FRIEZA (and king cold)\n",
      "\n",
      "\u001b[33mcommit 58dc956f86dd31d52c86a9669f9eb4a5f06fd4ed\u001b[m\u001b[33m (\u001b[m\u001b[1;33mtag: Battle-Begins\u001b[m\u001b[33m)\u001b[m\n",
      "Author: Jason Ross <jasonross1024@gmail.com>\n",
      "Date:   Sat Jan 1 09:00:00 2000 -0800\n",
      "\n",
      "    The Z fighters prepare for battle with the unknown evil force\n"
     ]
    }
   ],
   "source": [
    "git log"
   ]
  },
  {
   "cell_type": "code",
   "execution_count": 26,
   "metadata": {},
   "outputs": [
    {
     "name": "stdout",
     "output_type": "stream",
     "text": [
      "drop 8c9dc73cb0623b36ef88be9d461036746df9bc1f Goku succumbs to the heart virus\n",
      "edit 570997803f218b03831639092b5ccfa4ac903e0a Androids 17 and 18 emerge from Dr. Gero's secret lab\n",
      "drop 091a040ea7b2c0e824e59064654700094fceec28 Defeat!\n",
      "drop bb812a86193120764005f6c0b73a2bd4936c4155 Gohans Sacrifice\n",
      "drop 2eda8254eb77e66f3759912042dfd81d7808054c The time machine\n",
      "\n",
      "# Rebase 58dc956..2eda825 onto 58dc956 (12 commands)\n",
      "#\n",
      "# Commands:\n",
      "# p, pick = use commit\n",
      "# r, reword = use commit, but edit the commit message\n",
      "# e, edit = use commit, but stop for amending\n",
      "# s, squash = use commit, but meld into previous commit\n",
      "# f, fixup = like \"squash\", but discard this commit's log message\n",
      "# x, exec = run command (the rest of the line) using shell\n",
      "# d, drop = remove commit\n",
      "#\n",
      "# These lines can be re-ordered; they are executed from top to bottom.\n",
      "#\n",
      "# If you remove a line here THAT COMMIT WILL BE LOST.\n",
      "#\n",
      "# However, if you remove everything, the rebase will be aborted.\n",
      "#\n",
      "# Note that empty commits are commented out\n"
     ]
    }
   ],
   "source": [
    "cat $REBASEFILE"
   ]
  },
  {
   "cell_type": "code",
   "execution_count": 27,
   "metadata": {},
   "outputs": [
    {
     "name": "stdout",
     "output_type": "stream",
     "text": [
      "Stopped at 5709978...  Androids 17 and 18 emerge from Dr. Gero's secret lab\n",
      "You can amend the commit now, with\n",
      "\n",
      "  git commit --amend \n",
      "\n",
      "Once you are satisfied with your changes, run\n",
      "\n",
      "  git rebase --continue\n"
     ]
    }
   ],
   "source": [
    "git rebase --continue"
   ]
  },
  {
   "cell_type": "code",
   "execution_count": 28,
   "metadata": {},
   "outputs": [
    {
     "name": "stdout",
     "output_type": "stream",
     "text": [
      "Successfully rebased and updated refs/heads/FutureTrunks.\n"
     ]
    }
   ],
   "source": [
    "git rebase --continue"
   ]
  },
  {
   "cell_type": "code",
   "execution_count": 29,
   "metadata": {},
   "outputs": [
    {
     "name": "stdout",
     "output_type": "stream",
     "text": [
      "[FutureTrunks 2a78a3e] Cell arrives in a time machine and begins to wreak havoc\n",
      " Date: Sat Mar 1 11:13:19 2003 -0800\n",
      " 2 files changed, 0 insertions(+), 0 deletions(-)\n",
      " create mode 100644 cell\n",
      " create mode 100644 cell-time-machine\n"
     ]
    }
   ],
   "source": [
    "touch cell cell-time-machine\n",
    "git add cell cell-time-machine\n",
    "git commit -m \"Cell arrives in a time machine and begins to wreak havoc\" --date=2003-03-01"
   ]
  },
  {
   "cell_type": "code",
   "execution_count": 30,
   "metadata": {},
   "outputs": [
    {
     "name": "stdout",
     "output_type": "stream",
     "text": [
      "rm 'cell'\n",
      "rm 'goku'\n",
      "[FutureTrunks 7ca798d] Cell is defeated\n",
      " Date: Mon Dec 1 11:13:19 2003 -0800\n",
      " 2 files changed, 0 insertions(+), 0 deletions(-)\n",
      " delete mode 100644 cell\n",
      " delete mode 100644 goku\n"
     ]
    }
   ],
   "source": [
    "git rm cell goku\n",
    "git commit -m \"Cell is defeated\" --date=2003-12-01"
   ]
  },
  {
   "cell_type": "code",
   "execution_count": 31,
   "metadata": {},
   "outputs": [
    {
     "name": "stdout",
     "output_type": "stream",
     "text": [
      "rm 'trunks'\n",
      "[FutureTrunks aa02f0b] Trunks bids his friends farewell and returns to his timeline\n",
      " Date: Wed Dec 31 11:13:20 2003 -0800\n",
      " 1 file changed, 0 insertions(+), 0 deletions(-)\n",
      " delete mode 100644 trunks\n"
     ]
    }
   ],
   "source": [
    "git tag \"Trunks-Returns\"\n",
    "git rm trunks\n",
    "git commit -m \"Trunks bids his friends farewell and returns to his timeline\" --date=2003-12-31"
   ]
  },
  {
   "cell_type": "code",
   "execution_count": 32,
   "metadata": {},
   "outputs": [],
   "source": [
    "git branch \"Standard\""
   ]
  },
  {
   "cell_type": "code",
   "execution_count": 33,
   "metadata": {},
   "outputs": [
    {
     "name": "stdout",
     "output_type": "stream",
     "text": [
      "HEAD is now at 2eda825 The time machine\n"
     ]
    }
   ],
   "source": [
    "git reset --hard Jump-Back"
   ]
  },
  {
   "cell_type": "code",
   "execution_count": 34,
   "metadata": {},
   "outputs": [],
   "source": [
    "git checkout Trunks-Returns -- future-trunks\n",
    "mv future-trunks trunks"
   ]
  },
  {
   "cell_type": "code",
   "execution_count": 35,
   "metadata": {},
   "outputs": [
    {
     "name": "stdout",
     "output_type": "stream",
     "text": [
      "Met Goku\n",
      "Met Vegeta\n"
     ]
    }
   ],
   "source": [
    "cat trunks"
   ]
  },
  {
   "cell_type": "code",
   "execution_count": 36,
   "metadata": {},
   "outputs": [
    {
     "name": "stdout",
     "output_type": "stream",
     "text": [
      "[FutureTrunks 4b2faf2] Trunks arrives back in his own timeline. However, he discovers that the future is still as he left it.\n",
      " Date: Mon Jan 2 11:13:20 2017 -0800\n",
      " 1 file changed, 2 insertions(+)\n",
      " create mode 100644 future-trunks\n"
     ]
    }
   ],
   "source": [
    "git commit -m \"Trunks arrives back in his own timeline. However, he discovers that the future is still as he left it.\" \\\n",
    "--date 2017-01-02"
   ]
  },
  {
   "cell_type": "code",
   "execution_count": 37,
   "metadata": {},
   "outputs": [
    {
     "name": "stdout",
     "output_type": "stream",
     "text": [
      "rm 'android17'\n",
      "rm 'android18'\n",
      "[FutureTrunks 96ffadd] Trunks defeats the androids and saves his future--date=2017-01-03\n",
      " 2 files changed, 0 insertions(+), 0 deletions(-)\n",
      " delete mode 100644 android17\n",
      " delete mode 100644 android18\n"
     ]
    }
   ],
   "source": [
    "git rm android17 android18\n",
    "git commit -m 'Trunks defeats the androids and saves his future'\\\n",
    "--date=2017-01-03 "
   ]
  },
  {
   "cell_type": "code",
   "execution_count": 38,
   "metadata": {},
   "outputs": [
    {
     "name": "stdout",
     "output_type": "stream",
     "text": [
      "* \u001b[33mcommit 96ffadd8b1ebd2c0970a6d9f7629d4f1385db0cc\u001b[m\u001b[33m (\u001b[m\u001b[1;36mHEAD -> \u001b[m\u001b[1;32mFutureTrunks\u001b[m\u001b[33m)\u001b[m\n",
      "\u001b[31m|\u001b[m Author: Jason Ross <jasonross1024@gmail.com>\n",
      "\u001b[31m|\u001b[m Date:   Mon Sep 21 12:13:20 2020 -0700\n",
      "\u001b[31m|\u001b[m \n",
      "\u001b[31m|\u001b[m     Trunks defeats the androids and saves his future--date=2017-01-03\n",
      "\u001b[31m|\u001b[m \n",
      "* \u001b[33mcommit 4b2faf2b1ba26024afa9e152b5878180fe39a073\u001b[m\n",
      "\u001b[31m|\u001b[m Author: Jason Ross <jasonross1024@gmail.com>\n",
      "\u001b[31m|\u001b[m Date:   Mon Jan 2 11:13:20 2017 -0800\n",
      "\u001b[31m|\u001b[m \n",
      "\u001b[31m|\u001b[m     Trunks arrives back in his own timeline. However, he discovers that the future is still as he left it.\n",
      "\u001b[31m|\u001b[m \n",
      "* \u001b[33mcommit 2eda8254eb77e66f3759912042dfd81d7808054c\u001b[m\u001b[33m (\u001b[m\u001b[1;33mtag: Jump-Back\u001b[m\u001b[33m)\u001b[m\n",
      "\u001b[31m|\u001b[m Author: Jason Ross <jasonross1024@gmail.com>\n",
      "\u001b[31m|\u001b[m Date:   Sun Jan 1 11:13:15 2017 -0800\n",
      "\u001b[31m|\u001b[m \n",
      "\u001b[31m|\u001b[m     The time machine\n",
      "\u001b[31m|\u001b[m     \n",
      "\u001b[31m|\u001b[m     Bulma reveals that she has developed a time machine. Can Trunks use it to\n",
      "\u001b[31m|\u001b[m     change history, save Goku, and prevent this tragedy from ever happening?\n",
      "\u001b[31m|\u001b[m \n",
      "* \u001b[33mcommit bb812a86193120764005f6c0b73a2bd4936c4155\u001b[m\n",
      "\u001b[31m|\u001b[m Author: Jason Ross <jasonross1024@gmail.com>\n",
      "\u001b[31m|\u001b[m Date:   Wed Jan 1 11:13:15 2014 -0800\n",
      "\u001b[31m|\u001b[m \n",
      "\u001b[31m|\u001b[m     Gohans Sacrifice\n",
      "\u001b[31m|\u001b[m     \n",
      "\u001b[31m|\u001b[m     Gohan sacrifices himself to save Trunks. Driven by anger and grief, Trunks\n",
      "\u001b[31m|\u001b[m     finally finds the strength to transform into a Super Sayian\n",
      "\u001b[31m|\u001b[m \n",
      "* \u001b[33mcommit 091a040ea7b2c0e824e59064654700094fceec28\u001b[m\n",
      "\u001b[31m|\u001b[m Author: Jason Ross <jasonross1024@gmail.com>\n",
      "\u001b[31m|\u001b[m Date:   Thu Jan 1 11:13:14 2004 -0800\n",
      "\u001b[31m|\u001b[m \n",
      "\u001b[31m|\u001b[m     Defeat!\n",
      "\u001b[31m|\u001b[m     \n",
      "\u001b[31m|\u001b[m     The Z fighters are defeated one by one, leaving only Trunks, Gohan, and Bulma\n",
      "\u001b[31m|\u001b[m   \n",
      "\u001b[31m|\u001b[m * \u001b[33mcommit aa02f0b506ff0d3fbc385304eb5e9fb21a97d2a2\u001b[m\u001b[33m (\u001b[m\u001b[1;32mStandard\u001b[m\u001b[33m)\u001b[m\n",
      "\u001b[31m|\u001b[m \u001b[32m|\u001b[m Author: Jason Ross <jasonross1024@gmail.com>\n",
      "\u001b[31m|\u001b[m \u001b[32m|\u001b[m Date:   Wed Dec 31 11:13:20 2003 -0800\n",
      "\u001b[31m|\u001b[m \u001b[32m|\u001b[m \n",
      "\u001b[31m|\u001b[m \u001b[32m|\u001b[m     Trunks bids his friends farewell and returns to his timeline\n",
      "\u001b[31m|\u001b[m \u001b[32m|\u001b[m \n",
      "\u001b[31m|\u001b[m * \u001b[33mcommit 7ca798d7f8cef07a65f45899daabbeb9b7f8d6f3\u001b[m\u001b[33m (\u001b[m\u001b[1;33mtag: Trunks-Returns\u001b[m\u001b[33m)\u001b[m\n",
      "\u001b[31m|\u001b[m \u001b[32m|\u001b[m Author: Jason Ross <jasonross1024@gmail.com>\n",
      "\u001b[31m|\u001b[m \u001b[32m|\u001b[m Date:   Mon Dec 1 11:13:19 2003 -0800\n",
      "\u001b[31m|\u001b[m \u001b[32m|\u001b[m \n",
      "\u001b[31m|\u001b[m \u001b[32m|\u001b[m     Cell is defeated\n",
      "\u001b[31m|\u001b[m \u001b[32m|\u001b[m \n",
      "\u001b[31m|\u001b[m * \u001b[33mcommit 2a78a3e276cfd573e0e7f847d707c2f6b36f05f4\u001b[m\n",
      "\u001b[31m|\u001b[m \u001b[32m|\u001b[m Author: Jason Ross <jasonross1024@gmail.com>\n",
      "\u001b[31m|\u001b[m \u001b[32m|\u001b[m Date:   Sat Mar 1 11:13:19 2003 -0800\n",
      "\u001b[31m|\u001b[m \u001b[32m|\u001b[m \n",
      "\u001b[31m|\u001b[m \u001b[32m|\u001b[m     Cell arrives in a time machine and begins to wreak havoc\n",
      "\u001b[31m|\u001b[m \u001b[32m|\u001b[m \n",
      "* \u001b[32m|\u001b[m \u001b[33mcommit 570997803f218b03831639092b5ccfa4ac903e0a\u001b[m\n",
      "\u001b[32m|\u001b[m \u001b[32m|\u001b[m Author: Jason Ross <jasonross1024@gmail.com>\n",
      "\u001b[32m|\u001b[m \u001b[32m|\u001b[m Date:   Wed Jan 1 11:13:14 2003 -0800\n",
      "\u001b[32m|\u001b[m \u001b[32m|\u001b[m \n",
      "\u001b[32m|\u001b[m \u001b[32m|\u001b[m     Androids 17 and 18 emerge from Dr. Gero's secret lab\n",
      "\u001b[32m|\u001b[m \u001b[32m|\u001b[m \n",
      "\u001b[32m|\u001b[m * \u001b[33mcommit b8a8d3bf1aaa2c818351b3491f8b72c202ef40c4\u001b[m\n",
      "\u001b[32m|\u001b[m \u001b[32m|\u001b[m Author: Jason Ross <jasonross1024@gmail.com>\n",
      "\u001b[32m|\u001b[m \u001b[32m|\u001b[m Date:   Wed Jan 1 11:13:14 2003 -0800\n",
      "\u001b[32m|\u001b[m \u001b[32m|\u001b[m \n",
      "\u001b[32m|\u001b[m \u001b[32m|\u001b[m     Androids 17 and 18 emerge from Dr. Gero's secret lab\n",
      "\u001b[32m|\u001b[m \u001b[32m|\u001b[m \n",
      "\u001b[32m|\u001b[m * \u001b[33mcommit 4b50edbfbe2b56a6768067ebcd1716ae5dbfecd4\u001b[m\n",
      "\u001b[32m|\u001b[m \u001b[32m|\u001b[m Author: Jason Ross <jasonross1024@gmail.com>\n",
      "\u001b[32m|\u001b[m \u001b[32m|\u001b[m Date:   Mon Sep 21 12:13:18 2020 -0700\n",
      "\u001b[32m|\u001b[m \u001b[32m|\u001b[m \n",
      "\u001b[32m|\u001b[m \u001b[32m|\u001b[m     Trunks gives Goku the heart medicine and Goku survives\n",
      "\u001b[32m|\u001b[m \u001b[32m|\u001b[m \n",
      "* \u001b[32m|\u001b[m \u001b[33mcommit 8c9dc73cb0623b36ef88be9d461036746df9bc1f\u001b[m\n",
      "\u001b[32m|\u001b[m \u001b[32m|\u001b[m Author: Jason Ross <jasonross1024@gmail.com>\n",
      "\u001b[32m|\u001b[m \u001b[32m|\u001b[m Date:   Fri Nov 1 11:13:14 2002 -0800\n",
      "\u001b[32m|\u001b[m \u001b[32m|\u001b[m \n",
      "\u001b[32m|\u001b[m \u001b[32m|\u001b[m     Goku succumbs to the heart virus\n",
      "\u001b[32m|\u001b[m \u001b[32m|\u001b[m \n",
      "\u001b[32m|\u001b[m * \u001b[33mcommit 3d8b91bc92b10d6b6b224ced142eae645d3bb159\u001b[m\n",
      "\u001b[32m|\u001b[m \u001b[32m|\u001b[m Author: Jason Ross <jasonross1024@gmail.com>\n",
      "\u001b[32m|\u001b[m \u001b[32m|\u001b[m Date:   Tue Oct 1 12:13:13 2002 -0700\n",
      "\u001b[32m|\u001b[m \u001b[32m|\u001b[m \n",
      "\u001b[32m|\u001b[m \u001b[32m|\u001b[m     Goku contracts a deadly heart virus\n",
      "\u001b[32m|\u001b[m \u001b[32m|\u001b[m \n",
      "* \u001b[32m|\u001b[m \u001b[33mcommit b7fedcb2c828eeb04c745ec2835ba5222e1ec869\u001b[m\n",
      "\u001b[32m|\u001b[m \u001b[32m|\u001b[m Author: Jason Ross <jasonross1024@gmail.com>\n",
      "\u001b[32m|\u001b[m \u001b[32m|\u001b[m Date:   Tue Oct 1 12:13:13 2002 -0700\n",
      "\u001b[32m|\u001b[m \u001b[32m|\u001b[m \n",
      "\u001b[32m|\u001b[m \u001b[32m|\u001b[m     Goku contracts a deadly heart virus\n",
      "\u001b[32m|\u001b[m \u001b[32m|\u001b[m \n",
      "\u001b[32m|\u001b[m * \u001b[33mcommit 2d3945554f0023dfe2ae7a0f7c2de3a8e3f09838\u001b[m\n",
      "\u001b[32m|\u001b[m \u001b[32m|\u001b[m Author: Jason Ross <jasonross1024@gmail.com>\n",
      "\u001b[32m|\u001b[m \u001b[32m|\u001b[m Date:   Tue Jan 1 11:13:13 2002 -0800\n",
      "\u001b[32m|\u001b[m \u001b[32m|\u001b[m \n",
      "\u001b[32m|\u001b[m \u001b[32m|\u001b[m     Trunks is born\n",
      "\u001b[32m|\u001b[m \u001b[32m|\u001b[m \n",
      "\u001b[32m|\u001b[m * \u001b[33mcommit f0f70d736d3316b99661c96d697823579f2de8f7\u001b[m\n",
      "\u001b[32m|\u001b[m \u001b[32m|\u001b[m Author: Jason Ross <jasonross1024@gmail.com>\n",
      "\u001b[32m|\u001b[m \u001b[32m|\u001b[m Date:   Mon Sep 21 12:13:18 2020 -0700\n",
      "\u001b[32m|\u001b[m \u001b[32m|\u001b[m \n",
      "\u001b[32m|\u001b[m \u001b[32m|\u001b[m     Trunks meets Goku and his father Vegeta\n",
      "\u001b[32m|\u001b[m \u001b[32m|\u001b[m \n",
      "* \u001b[32m|\u001b[m \u001b[33mcommit 9ae98debbbd94da58966200860a7da51f8b3e2b3\u001b[m\n",
      "\u001b[32m|\u001b[m \u001b[32m|\u001b[m Author: Jason Ross <jasonross1024@gmail.com>\n",
      "\u001b[32m|\u001b[m \u001b[32m|\u001b[m Date:   Tue Jan 1 11:13:13 2002 -0800\n",
      "\u001b[32m|\u001b[m \u001b[32m|\u001b[m \n",
      "\u001b[32m|\u001b[m \u001b[32m|\u001b[m     Trunks is born\n",
      "\u001b[32m|\u001b[m \u001b[32m|\u001b[m \n",
      "* \u001b[32m|\u001b[m \u001b[33mcommit 49f09530b6a8575cc63fb8781a1964c195267b7d\u001b[m\n",
      "\u001b[32m|\u001b[m \u001b[32m|\u001b[m Author: Jason Ross <jasonross1024@gmail.com>\n",
      "\u001b[32m|\u001b[m \u001b[32m|\u001b[m Date:   Sat Jan 1 09:50:00 2000 -0800\n",
      "\u001b[32m|\u001b[m \u001b[32m|\u001b[m \n",
      "\u001b[32m|\u001b[m \u001b[32m|\u001b[m     Goku defeats Frieza and his father once and for all\n",
      "\u001b[32m|\u001b[m \u001b[32m|\u001b[m \n",
      "* \u001b[32m|\u001b[m \u001b[33mcommit cf386cb3b34412e393e92385ec56cb13eb89bb1c\u001b[m\n",
      "\u001b[32m|\u001b[m \u001b[32m|\u001b[m Author: Jason Ross <jasonross1024@gmail.com>\n",
      "\u001b[32m|\u001b[m \u001b[32m|\u001b[m Date:   Sat Jan 1 09:45:00 2000 -0800\n",
      "\u001b[32m|\u001b[m \u001b[32m|\u001b[m \n",
      "\u001b[32m|\u001b[m \u001b[32m|\u001b[m     Goku dispatches Frieza's minions with ease\n",
      "\u001b[32m|\u001b[m \u001b[32m|\u001b[m \n",
      "\u001b[32m|\u001b[m * \u001b[33mcommit dfc7646290cd5acebc90262775339b71f4046bfb\u001b[m\n",
      "\u001b[32m|\u001b[m \u001b[32m|\u001b[m Author: Jason Ross <jasonross1024@gmail.com>\n",
      "\u001b[32m|\u001b[m \u001b[32m|\u001b[m Date:   Sat Jan 1 09:40:00 2000 -0800\n",
      "\u001b[32m|\u001b[m \u001b[32m|\u001b[m \n",
      "\u001b[32m|\u001b[m \u001b[32m|\u001b[m     Goku arrives using instant transmission\n",
      "\u001b[32m|\u001b[m \u001b[32m|\u001b[m \n",
      "\u001b[32m|\u001b[m * \u001b[33mcommit 669671c02216686b88f2771c93b9831667831a7f\u001b[m\n",
      "\u001b[32m|\u001b[m \u001b[32m|\u001b[m Author: Jason Ross <jasonross1024@gmail.com>\n",
      "\u001b[32m|\u001b[m \u001b[32m|\u001b[m Date:   Sat Jan 1 09:50:00 2000 -0800\n",
      "\u001b[32m|\u001b[m \u001b[32m|\u001b[m \n",
      "\u001b[32m|\u001b[m \u001b[32m|\u001b[m     Trunks defeats Frieza and his father, dramatically\n",
      "\u001b[32m|\u001b[m \u001b[32m|\u001b[m \n",
      "\u001b[32m|\u001b[m * \u001b[33mcommit 4ed609787910df3d7e0e052611a61453b6051f2f\u001b[m\n",
      "\u001b[32m|\u001b[m \u001b[32m|\u001b[m Author: Jason Ross <jasonross1024@gmail.com>\n",
      "\u001b[32m|\u001b[m \u001b[32m|\u001b[m Date:   Sat Jan 1 09:45:00 2000 -0800\n",
      "\u001b[32m|\u001b[m \u001b[32m|\u001b[m \n",
      "\u001b[32m|\u001b[m \u001b[32m|\u001b[m     Trunks defeats Friezas minions\n",
      "\u001b[32m|\u001b[m \u001b[32m|\u001b[m     \n",
      "\u001b[32m|\u001b[m \u001b[32m|\u001b[m     Trunks defeats Friezas minions\n",
      "\u001b[32m|\u001b[m \u001b[32m|\u001b[m \n",
      "* \u001b[32m|\u001b[m \u001b[33mcommit ccb64cbafc5e3c01d3f86b7f5fc05123a3f66d3d\u001b[m\n",
      "\u001b[32m|\u001b[m \u001b[32m|\u001b[m Author: Jason Ross <jasonross1024@gmail.com>\n",
      "\u001b[32m|\u001b[m \u001b[32m|\u001b[m Date:   Sat Jan 1 09:40:00 2000 -0800\n",
      "\u001b[32m|\u001b[m \u001b[32m|\u001b[m \n",
      "\u001b[32m|\u001b[m \u001b[32m|\u001b[m     Goku arrives using instant transmission\n",
      "\u001b[32m|\u001b[m \u001b[32m|\u001b[m \n",
      "\u001b[32m|\u001b[m * \u001b[33mcommit 928549cff945ef085be33d5b6564bd3c80735f8d\u001b[m\n",
      "\u001b[32m|\u001b[m \u001b[32m|\u001b[m Author: Jason Ross <jasonross1024@gmail.com>\n",
      "\u001b[32m|\u001b[m \u001b[32m|\u001b[m Date:   Sat Jan 1 09:35:00 2000 -0800\n",
      "\u001b[32m|\u001b[m \u001b[32m|\u001b[m \n",
      "\u001b[32m|\u001b[m \u001b[32m|\u001b[m     Frieza's minions emerge and the battle begins\n",
      "\u001b[32m|\u001b[m \u001b[32m|\u001b[m \n",
      "* \u001b[32m|\u001b[m \u001b[33mcommit d70e5d1dbd4b118074ce1792a19be10856ccca02\u001b[m\n",
      "\u001b[32m|\u001b[m \u001b[32m|\u001b[m Author: Jason Ross <jasonross1024@gmail.com>\n",
      "\u001b[32m|\u001b[m \u001b[32m|\u001b[m Date:   Sat Jan 1 09:35:00 2000 -0800\n",
      "\u001b[32m|\u001b[m \u001b[32m|\u001b[m \n",
      "\u001b[32m|\u001b[m \u001b[32m|\u001b[m     Frieza's minions emerge and the battle begins\n",
      "\u001b[32m|\u001b[m \u001b[32m|\u001b[m \n",
      "\u001b[32m|\u001b[m * \u001b[33mcommit 5d3b6d8843ebe0d358daf16b2a2a971da764d08c\u001b[m\n",
      "\u001b[32m|\u001b[m\u001b[32m/\u001b[m  Author: Jason Ross <jasonross1024@gmail.com>\n",
      "\u001b[32m|\u001b[m   Date:   Sat Jan 1 09:33:00 2000 -0800\n",
      "\u001b[32m|\u001b[m   \n",
      "\u001b[32m|\u001b[m       Future Trunks arrives in a time machine to the astonishment of the Z fighters\n",
      "\u001b[32m|\u001b[m \n",
      "* \u001b[33mcommit 253da192370b9b62f1e34b472c52b402b3a6a42f\u001b[m\n",
      "\u001b[32m|\u001b[m Author: Jason Ross <jasonross1024@gmail.com>\n",
      "\u001b[32m|\u001b[m Date:   Sat Jan 1 09:30:00 2000 -0800\n",
      "\u001b[32m|\u001b[m \n",
      "\u001b[32m|\u001b[m     The evil arrives. IT'S FRIEZA (and king cold)\n",
      "\u001b[32m|\u001b[m \n",
      "* \u001b[33mcommit 58dc956f86dd31d52c86a9669f9eb4a5f06fd4ed\u001b[m\u001b[33m (\u001b[m\u001b[1;33mtag: Battle-Begins\u001b[m\u001b[33m)\u001b[m\n",
      "  Author: Jason Ross <jasonross1024@gmail.com>\n",
      "  Date:   Sat Jan 1 09:00:00 2000 -0800\n",
      "  \n",
      "      The Z fighters prepare for battle with the unknown evil force\n"
     ]
    }
   ],
   "source": [
    "git log --graph --reflog --decorate --author-date-order "
   ]
  },
  {
   "cell_type": "code",
   "execution_count": null,
   "metadata": {},
   "outputs": [],
   "source": []
  }
 ],
 "metadata": {
  "kernelspec": {
   "display_name": "Bash [conda env:pelican]",
   "language": "bash",
   "name": "conda-env-pelican-bash"
  },
  "language_info": {
   "codemirror_mode": "shell",
   "file_extension": ".sh",
   "mimetype": "text/x-sh",
   "name": "bash"
  },
  "pelican": {
   "authors": "Jason Ross",
   "categories": [
    "Version Control"
   ],
   "category": "Version Control",
   "date": "2019-02-02",
   "slug": "gokublog",
   "summary": "The trunks travels back in time to do a git-rebase on his timeline, but discovers that he is now in a detached head state",
   "tags": "music python numpy",
   "title": "How I learned about git rebase by watching Dragon Ball Z"
  }
 },
 "nbformat": 4,
 "nbformat_minor": 4
}
