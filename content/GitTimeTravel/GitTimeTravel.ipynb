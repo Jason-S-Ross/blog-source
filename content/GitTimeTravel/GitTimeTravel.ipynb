{
 "cells": [
  {
   "cell_type": "markdown",
   "metadata": {},
   "source": [
    "# About Rebasing\n",
    "\n",
    "Rebasing is used to rearange commit history in a git repository. \n",
    "We typically think of rebasing as the operation of moving the origin of a branch to a different commit, but it's extremely flexible. \n",
    "One other usage of rebasing is to \"clean up\" or rearrange history along a single branch. \n",
    "Using `git rebase` we can remove commits from our history, edit old commits, or insert new commits into our timeline. \n",
    "However, there's some confusing information about what exactly is going on when we rebase. \n",
    "It's common to see rebase described as re-writing history, but that's not really what's happening under the hood. \n",
    "Rebasing actually leaves all the old git commits alone (remember that git commits are immutable), and creates a whole new history in parallel."
   ]
  },
  {
   "cell_type": "markdown",
   "metadata": {},
   "source": [
    "# Time Travel\n",
    "\n",
    "Git rebase works a bit like time travel in fiction (depending on the story)\n",
    "Now, there's all kinds of ways time travel can work in fiction. \n",
    "Unfortunately, it doesn't work like _Bill and Ted's Excellent Adventure_ (wouldn't it be nice if bug fixes magically appeared as long as you promised to do them later),\n",
    "but fortunately, it doesn't work like _The Terminator_ series either (fixed a bug? Too bad, you will always have that bug because it's fate).\n",
    "The story that demonstrates `git rebase` best is actually from Dragon Ball Z."
   ]
  },
  {
   "cell_type": "markdown",
   "metadata": {},
   "source": [
    "# The Original Timeline\n",
    "\n",
    "Trunks didn't know he was about to learn about directed acyclic graphs when he went back in time to save Goku.\n",
    "\n",
    "![Our hero](../images/Trunks_DBZ_Ep_131_001.jpg)"
   ]
  },
  {
   "cell_type": "markdown",
   "metadata": {},
   "source": [
    "Let's create a git repository with some sensible defaults and get going. We'll be following \"Future\" Trunks through history."
   ]
  },
  {
   "cell_type": "code",
   "execution_count": 1,
   "metadata": {},
   "outputs": [
    {
     "name": "stdout",
     "output_type": "stream",
     "text": [
      "Initialized empty Git repository in /home/jason/Projects/blog/content/Goku/.git/\n",
      "Switched to a new branch 'FutureTrunks'\n"
     ]
    }
   ],
   "source": [
    "rm -vdrf  !(\"Goku.ipynb\"|\"resources_raw\"|\"init.sh\") > /dev/null\n",
    "rm -rdf .git .gitignore > /dev/null\n",
    "git init\n",
    "git config --local user.name \"Jason Ross\"\n",
    "git config --local user.email \"jasonross1024@gmail.com\"\n",
    "git checkout -b \"FutureTrunks\"\n",
    "echo \".ipynb_checkpoints/\" >> .gitignore\n",
    "echo \"*.ipynb\" >> .gitignore\n",
    "git add .gitignore\n"
   ]
  },
  {
   "cell_type": "markdown",
   "metadata": {},
   "source": [
    "We find our heros (minus Goku) assembled to confront an evil force that is approaching from space.\n",
    "\n",
    "![The Z Fighters assemble](../images/Z-_Fighters_MY.jpg)\n",
    "\n",
    "\n",
    "![A spaceship appears](../images/EveryoneLookingAtFrieza'sSpaceship.jpg)"
   ]
  },
  {
   "cell_type": "code",
   "execution_count": 2,
   "metadata": {},
   "outputs": [],
   "source": [
    "touch vegeta krillin gohan piccolo bulma\n",
    "git add vegeta krillin gohan piccolo bulma\n",
    "git commit --quiet -m \\\n",
    "\"The Z fighters prepare for battle with the unknown evil force\" \\\n",
    "--date 2000-01-01T09:00:00"
   ]
  },
  {
   "cell_type": "markdown",
   "metadata": {},
   "source": [
    "Our heros wait with baited breath as a ramp descends from the alien spacecraft. It's Frieza! How can this be?!\n",
    "\n",
    "![Frieza and King Cold arrive](../images/FriezaKingColdNV.jpg)"
   ]
  },
  {
   "cell_type": "code",
   "execution_count": 3,
   "metadata": {},
   "outputs": [],
   "source": [
    "touch frieza king-cold \n",
    "git tag \"Battle-Begins\"\n",
    "git add frieza king-cold\n",
    "git commit --quiet -m \"The evil arrives. IT'S FRIEZA (and king cold)\" --date 2000-01-01T09:30"
   ]
  },
  {
   "cell_type": "markdown",
   "metadata": {},
   "source": [
    "While Frieza could easily destroy the entire planet instantly, he cruelly decides to watch his minions fight our heros for his amusement instead.\n",
    "\n",
    "![Frieza's minions emerge](../images/ColdJeece&Commannder&Kanazian.jpg)"
   ]
  },
  {
   "cell_type": "code",
   "execution_count": 4,
   "metadata": {},
   "outputs": [],
   "source": [
    "touch minions\n",
    "git add minions\n",
    "git commit --quiet -m \"Frieza's minions emerge and the battle begins\" \\\n",
    "--date 2000-01-01T09:35"
   ]
  },
  {
   "cell_type": "markdown",
   "metadata": {},
   "source": [
    "With a bang, a man appears from nothing. It's Goku! The earth is saved!\n",
    "\n",
    "![Goku usually has that look on his face](../images/Uiokw.jpg)"
   ]
  },
  {
   "cell_type": "code",
   "execution_count": 5,
   "metadata": {},
   "outputs": [],
   "source": [
    "touch goku\n",
    "git add goku\n",
    "git commit --quiet -m \"Goku arrives using instant transmission\" \\\n",
    "--date 2000-01-01T09:40"
   ]
  },
  {
   "cell_type": "markdown",
   "metadata": {},
   "source": [
    "Goku easily dispatches the enemy forces. Frieza and is father are no more.\n",
    "\n",
    "![](resources/Welcome_Back_Goku_-_King_Cold_killed.jpg)"
   ]
  },
  {
   "cell_type": "code",
   "execution_count": 6,
   "metadata": {},
   "outputs": [],
   "source": [
    "git rm minions > /dev/null\n",
    "git commit --quiet -m \"Goku dispatches Frieza's minions with ease\" \\\n",
    "--date 2000-01-01T09:45\n",
    "\n",
    "git rm frieza king-cold > /dev/null\n",
    "git commit --quiet -m \"Goku defeats Frieza and his father once and for all\" \\\n",
    "--date 2000-01-01T09:50"
   ]
  },
  {
   "cell_type": "markdown",
   "metadata": {},
   "source": [
    "Bulma has a baby. It's the protagonist of our story, Trunks,\n",
    "\n",
    "![Baby Trunks](../images/TrunksBabyIsBorn.jpg)"
   ]
  },
  {
   "cell_type": "code",
   "execution_count": 7,
   "metadata": {},
   "outputs": [],
   "source": [
    "touch trunks\n",
    "git add trunks\n",
    "git commit --quiet -m \"Trunks is born\" --date 2002-01-01"
   ]
  },
  {
   "cell_type": "markdown",
   "metadata": {},
   "source": [
    "But, to our shock and dismay, Goku falls ill with a deadly heart virus! He struggles for life, but ultimately succumbs. The savior of earth is no more. \n",
    "\n",
    "![](../images/GokuFutureInBedDies.jpg)"
   ]
  },
  {
   "cell_type": "code",
   "execution_count": 8,
   "metadata": {},
   "outputs": [],
   "source": [
    "touch heart-virus\n",
    "git add heart-virus\n",
    "git commit --quiet -m \"Goku contracts a deadly heart virus\" --date 2002-10-01\n",
    "\n",
    "git rm goku heart-virus > /dev/null\n",
    "git commit --quiet -m \"Goku succumbs to the heart virus\" --date 2002-11-01"
   ]
  },
  {
   "cell_type": "markdown",
   "metadata": {},
   "source": [
    "Worse yet, our remaining heros find themselves facing new and terrifying foes. These androids are stronger than any of our heros and can fight tirelessly. \n",
    "\n",
    "![Android 17](../images/Vlcsnap-2012-05-26-22h44m24s125.jpg) ![Android 18](../images/Android_18_-_History_of_Trunks_-_000.jpg)"
   ]
  },
  {
   "cell_type": "code",
   "execution_count": 9,
   "metadata": {},
   "outputs": [],
   "source": [
    "touch android17 android18\n",
    "git add android17 android18\n",
    "git commit --quiet -m \"Androids 17 and 18 emerge from Dr. Gero's secret lab\" \\\n",
    "--date 2003-01-01"
   ]
  },
  {
   "cell_type": "markdown",
   "metadata": {},
   "source": [
    "Although our heros fight valiantly, the infinite energy reserves of the androids are too much for them and they are defeated one by one.\n",
    "\n",
    "![Tien under attack](../images/TienFutureVsAndroid18NV.jpg)\n",
    "![Yamcha receives a kick](../images/YamchaFutureA.jpg)\n",
    "![Krillin in a tight spot](../images/KrillinFutureA.jpg)"
   ]
  },
  {
   "cell_type": "code",
   "execution_count": 10,
   "metadata": {},
   "outputs": [],
   "source": [
    "git rm piccolo krillin vegeta > /dev/null\n",
    "git commit --quiet -m 'Defeat!\n",
    "\n",
    "The Z fighters are defeated one by one, leaving only Trunks, Gohan, and Bulma' \\\n",
    "--date 2004-01-01"
   ]
  },
  {
   "cell_type": "markdown",
   "metadata": {},
   "source": [
    "Trunks is too young to know these heros who tried to save the world from certain destruction, but they live on in the memories of his mother Bulma and Goku's son, Gohan. Trunks grows up in a world in chaos, fighting for survival at every turn and watching his friends be killed by these souless androids. Finally, even Gohan is defeated. \n",
    "\n",
    "![Gohan cannot withstand the combined assault](../images/GohanFutureAndroids17-18Match.jpg)\n",
    "\n",
    "Trunks finds power within himself from his grief and anger, and becomes a legendary Super Sayian!\n",
    "\n",
    "![Trunks powers up](../images/Trunks_ssj2.jpg)"
   ]
  },
  {
   "cell_type": "code",
   "execution_count": 11,
   "metadata": {},
   "outputs": [],
   "source": [
    "git rm gohan > /dev/null\n",
    "git commit --quiet -m 'Gohans Sacrifice\n",
    "\n",
    "Gohan sacrifices himself to save Trunks. Driven by anger and grief, Trunks \n",
    "finally finds the strength to transform into a Super Sayian' \\\n",
    "--date 2014-01-01"
   ]
  },
  {
   "cell_type": "markdown",
   "metadata": {},
   "source": [
    "Although Gohan is gone, Trunks' mother Bulma has an ace up her sleeve - a time machine! Can our hero can use it to change history and save Goku from the deadly heart virus? Will the future he returns to be one where the androids never decimated the earth?\n",
    "\n",
    "Let's do a `git rebase` and find out!!!"
   ]
  },
  {
   "cell_type": "markdown",
   "metadata": {},
   "source": [
    "# The Modified Timeline\n",
    "\n",
    "Now that we've created the original timeline, let's follow along from Trunks' perspective as he does a `git rebase` to rewrite history. "
   ]
  },
  {
   "cell_type": "code",
   "execution_count": 12,
   "metadata": {},
   "outputs": [],
   "source": [
    "touch time-machine medicine\n",
    "git add time-machine medicine\n",
    "git commit --quiet -m 'The time machine\n",
    "\n",
    "Bulma reveals that she has developed a time machine. Can Trunks use it to \n",
    "change history, save Goku, and prevent this tragedy from ever happening?' \\\n",
    "--date 2017-01-01 > /dev/null\n",
    "\n",
    "git tag \"Jump-Back\""
   ]
  },
  {
   "cell_type": "markdown",
   "metadata": {},
   "source": [
    "We start by doing a git rebase onto the tag \"Battle-Begins\". We need to do an interactive rebase to rework the history of the branch we're currently on."
   ]
  },
  {
   "cell_type": "markdown",
   "metadata": {},
   "source": [
    "> I'm using a Jupyter Notebook to get terminal output and scripts to show in the same place. The side effect is that I can't use a text editor to do an interactve rebase normally. Instead, I just use `sed` to mark all commits for edit and work my way through history manually. This is what the `git-rebase-todo` file looks like."
   ]
  },
  {
   "cell_type": "code",
   "execution_count": 13,
   "metadata": {},
   "outputs": [
    {
     "name": "stdout",
     "output_type": "stream",
     "text": [
      "Stopped at 67d89ea...  The evil arrives. IT'S FRIEZA (and king cold)\n",
      "You can amend the commit now, with\n",
      "\n",
      "  git commit --amend \n",
      "\n",
      "Once you are satisfied with your changes, run\n",
      "\n",
      "  git rebase --continue\n"
     ]
    }
   ],
   "source": [
    "# Tell git to use sed as the sequence editor just for this post\n",
    "GIT_SEQUENCE_EDITOR=\"sed -i -re 's/^pick /e /'\" git rebase -i Battle-Begins"
   ]
  },
  {
   "cell_type": "markdown",
   "metadata": {},
   "source": [
    "> Let's just peek at the rebase todo list - you could normally edit this in a text editor"
   ]
  },
  {
   "cell_type": "code",
   "execution_count": 14,
   "metadata": {},
   "outputs": [
    {
     "name": "stdout",
     "output_type": "stream",
     "text": [
      "edit 7741deb1be97cc9b3b927f246ebed8430f3c0e14 Frieza's minions emerge and the battle begins\n",
      "edit 3c6855990ec4ba242cdef8efc46d373359414109 Goku arrives using instant transmission\n",
      "edit 4d96a24733f12df75c95036cd32e5fe6c0116f26 Goku dispatches Frieza's minions with ease\n",
      "edit 8e6cbfca8a71c90531c216cded6260ddde6c9aae Goku defeats Frieza and his father once and for all\n",
      "edit b9903fcdc36a2a98b002477f941a5d22b7085459 Trunks is born\n",
      "edit bdde69159884cf3900827f69f047143fa8ab45ac Goku contracts a deadly heart virus\n",
      "edit f3b1ca83573a4bede115a06b6aec3f4d1f8a9fb0 Goku succumbs to the heart virus\n",
      "edit d1338548e6a66907468fae89d9e5b21f57b4b8e5 Androids 17 and 18 emerge from Dr. Gero's secret lab\n",
      "edit c728df4e1edce9f15c3d61b52c6544ba44e54e43 Defeat!\n",
      "edit 0988e2f88da2f1fa6eb17a579f609b776a9fe7df Gohans Sacrifice\n",
      "edit 7c81c1ff5308e6e19bd84ae6da514a2cd71dea0e The time machine\n"
     ]
    }
   ],
   "source": [
    "REBASEFILE=.git/rebase-merge/git-rebase-todo\n",
    "cat $REBASEFILE |  head -n 11 "
   ]
  },
  {
   "cell_type": "code",
   "execution_count": 15,
   "metadata": {},
   "outputs": [
    {
     "name": "stdout",
     "output_type": "stream",
     "text": [
      "[detached HEAD 4b5b807] Future Trunks arrives in a time machine to the astonishment of the Z fighters\n",
      " Date: Sat Jan 1 09:33:00 2000 -0800\n",
      " 3 files changed, 0 insertions(+), 0 deletions(-)\n",
      " create mode 100644 future-trunks\n",
      " create mode 100644 medicine\n",
      " create mode 100644 time-machine\n"
     ]
    }
   ],
   "source": [
    "git checkout Jump-Back -- trunks medicine time-machine\n",
    "git mv trunks future-trunks\n",
    "git add future-trunks medicine time-machine\n",
    "git commit \\\n",
    "-m \"Future Trunks arrives in a time machine to the astonishment of the Z fighters\" \\\n",
    "--date 2000-01-01T09:33\n"
   ]
  },
  {
   "cell_type": "markdown",
   "metadata": {},
   "source": [
    "Trunks does a quick `git log` to see where he ended up. Uh-oh. Looks like there are some bad guys around."
   ]
  },
  {
   "cell_type": "code",
   "execution_count": 16,
   "metadata": {},
   "outputs": [
    {
     "name": "stdout",
     "output_type": "stream",
     "text": [
      "\u001b[33m4b5b80719cef28ba733ead92f5df8339a6189fa0\u001b[m\u001b[33m (\u001b[m\u001b[1;36mHEAD\u001b[m\u001b[33m)\u001b[m Future Trunks arrives in a time machine to the astonishment of the Z fighters\n",
      "\u001b[33m67d89eab30087c9e6585517e017e233c55834383\u001b[m The evil arrives. IT'S FRIEZA (and king cold)\n",
      "\u001b[33m568b607099699c5cdee2a5540097f9771269ebe7\u001b[m\u001b[33m (\u001b[m\u001b[1;33mtag: Battle-Begins\u001b[m\u001b[33m)\u001b[m The Z fighters prepare for battle with the unknown evil force\n",
      "\n",
      "\n",
      "bulma   future-trunks  Goku.ipynb  king-cold  medicine  time-machine\n",
      "frieza  gohan          init.sh     krillin    piccolo   vegeta\n"
     ]
    }
   ],
   "source": [
    "git log --pretty=oneline\n",
    "echo\n",
    "echo\n",
    "ls"
   ]
  },
  {
   "cell_type": "markdown",
   "metadata": {},
   "source": [
    "The story continues as it did before. Let's do a `git rebase --continue` to advance time a bit."
   ]
  },
  {
   "cell_type": "code",
   "execution_count": 17,
   "metadata": {},
   "outputs": [
    {
     "name": "stdout",
     "output_type": "stream",
     "text": [
      "Stopped at 7741deb...  Frieza's minions emerge and the battle begins\n",
      "You can amend the commit now, with\n",
      "\n",
      "  git commit --amend \n",
      "\n",
      "Once you are satisfied with your changes, run\n",
      "\n",
      "  git rebase --continue\n"
     ]
    }
   ],
   "source": [
    "git rebase --continue"
   ]
  },
  {
   "cell_type": "markdown",
   "metadata": {},
   "source": [
    "\n"
   ]
  },
  {
   "cell_type": "markdown",
   "metadata": {},
   "source": [
    "Just as before, some minions emerge, but this time, Trunks deals with them.\n",
    "Then, to the astonishment of the Z fighters, the mysterious time traveler defeats the evil Frieza and King Cold.\n",
    "\n",
    "![Frieza Defeated](../images/TrunksFutureFriezaSliced.jpg)\n",
    "![Frieza Diced to Pieces](../images/Trunkskillstheruler.jpg)\n",
    "![King Cold Defeated](../images/Kingcold2.jpg)\n",
    "![King Cold Exploded](../images/Welcome_Back_Goku_-_King_Cold_killed.jpg)"
   ]
  },
  {
   "cell_type": "code",
   "execution_count": 18,
   "metadata": {},
   "outputs": [
    {
     "name": "stdout",
     "output_type": "stream",
     "text": [
      "edit 3c6855990ec4ba242cdef8efc46d373359414109 Goku arrives using instant transmission\n",
      "edit 4d96a24733f12df75c95036cd32e5fe6c0116f26 Goku dispatches Frieza's minions with ease\n",
      "edit 8e6cbfca8a71c90531c216cded6260ddde6c9aae Goku defeats Frieza and his father once and for all\n",
      "edit b9903fcdc36a2a98b002477f941a5d22b7085459 Trunks is born\n",
      "edit bdde69159884cf3900827f69f047143fa8ab45ac Goku contracts a deadly heart virus\n"
     ]
    }
   ],
   "source": [
    "head -n 5 $REBASEFILE"
   ]
  },
  {
   "cell_type": "markdown",
   "metadata": {},
   "source": [
    "> Let's think about how adjust our timeline.\n",
    "> Trunks is about to defeat Frieza's minions, followed by Frieza and King Cold.\n",
    "> In the old timeline, Goku defeats those enemies, so we will need to reword those commits.\n",
    "> Goku shouldn't arrive until after the enemies are defeated, so we will need to reorder that commit.\n",
    "> We can do this by editing our todo list. \n",
    "> Again, I'm using a bunch of shell commands, but normally you'd just open it in a text editor..."
   ]
  },
  {
   "cell_type": "code",
   "execution_count": 19,
   "metadata": {},
   "outputs": [
    {
     "name": "stdout",
     "output_type": "stream",
     "text": [
      "reword 4d96a24733f12df75c95036cd32e5fe6c0116f26 Goku dispatches Frieza's minions with ease\n",
      "reword 8e6cbfca8a71c90531c216cded6260ddde6c9aae Goku defeats Frieza and his father once and for all\n",
      "edit 3c6855990ec4ba242cdef8efc46d373359414109 Goku arrives using instant transmission\n",
      "edit b9903fcdc36a2a98b002477f941a5d22b7085459 Trunks is born\n",
      "edit bdde69159884cf3900827f69f047143fa8ab45ac Goku contracts a deadly heart virus\n",
      "drop f3b1ca83573a4bede115a06b6aec3f4d1f8a9fb0 Goku succumbs to the heart virus\n",
      "edit d1338548e6a66907468fae89d9e5b21f57b4b8e5 Androids 17 and 18 emerge from Dr. Gero's secret lab\n",
      "drop c728df4e1edce9f15c3d61b52c6544ba44e54e43 Defeat!\n",
      "drop 0988e2f88da2f1fa6eb17a579f609b776a9fe7df Gohans Sacrifice\n",
      "drop 7c81c1ff5308e6e19bd84ae6da514a2cd71dea0e The time machine\n",
      "\n"
     ]
    }
   ],
   "source": [
    "{\n",
    "    head -n 2 $REBASEFILE  | tail -n 1 \\\n",
    "    | sed  -re \"s/^edit /reword /\";\n",
    "    head -n 3 $REBASEFILE  | tail -n 1 \\\n",
    "    | sed  -re \"s/^edit /reword /\";\n",
    "    head -n 1 $REBASEFILE;\n",
    "    tail -n +4 $REBASEFILE | head -n 2;\n",
    "    tail -n +6 $REBASEFILE | sed -re 's/^edit /drop /' | head -n 1;\n",
    "    tail -n +7 $REBASEFILE | head -n 1;\n",
    "    tail -n +8 $REBASEFILE | sed -re 's/^edit /drop /';\n",
    "} > tmp\n",
    "head -n 11 tmp\n",
    "mv tmp $REBASEFILE"
   ]
  },
  {
   "cell_type": "markdown",
   "metadata": {},
   "source": [
    "> After editing our todo list looks good. \n",
    "> We'll once again have to do some fancy footwork with `sed` to do the rewording, which you wouldn't normally do from a shell."
   ]
  },
  {
   "cell_type": "code",
   "execution_count": 20,
   "metadata": {},
   "outputs": [
    {
     "name": "stdout",
     "output_type": "stream",
     "text": [
      "\u001b[K[detached HEAD 69236cd] Trunks defeats Friezas minions\n",
      " 1 file changed, 0 insertions(+), 0 deletions(-)\n",
      " delete mode 100644 minions\n",
      "\u001b[K[detached HEAD dac033f] Trunks defeats Frieza and his father, dramatically\n",
      " 2 files changed, 0 insertions(+), 0 deletions(-)\n",
      " delete mode 100644 frieza\n",
      " delete mode 100644 king-cold\n",
      "Stopped at 3c68559...  Goku arrives using instant transmission\n",
      "You can amend the commit now, with\n",
      "\n",
      "  git commit --amend \n",
      "\n",
      "Once you are satisfied with your changes, run\n",
      "\n",
      "  git rebase --continue\n"
     ]
    }
   ],
   "source": [
    "GIT_EDITOR=\"sed -i -re \\\n",
    "'s/(.+minions.+)/Trunks defeats Friezas minions/; \\\n",
    "s/(.+father.+)/Trunks defeats Frieza and his father, dramatically/'\" git rebase --continue\n"
   ]
  },
  {
   "cell_type": "markdown",
   "metadata": {},
   "source": [
    "Goku has arrived again, but this time, the enemies have been defeated before he arrives.\n",
    "\n",
    "Goku and Trunks meet, and Trunks gives Goku the heart medicine.\n",
    "\n",
    "![Trunks meets Goku](../images/FutureTrunks_And_Goku_Mystery_Revealed.jpg)"
   ]
  },
  {
   "cell_type": "code",
   "execution_count": 21,
   "metadata": {},
   "outputs": [
    {
     "name": "stdout",
     "output_type": "stream",
     "text": [
      "[detached HEAD 32196ef] Future Trunks meets Goku\n",
      " Date: Sat Jan 1 09:41:00 2000 -0800\n",
      " 1 file changed, 1 insertion(+)\n"
     ]
    }
   ],
   "source": [
    "echo \"Met Goku\" >> future-trunks\n",
    "git add future-trunks\n",
    "git commit -m \"Future Trunks meets Goku\" --date 2000-01-01T09:41:00"
   ]
  },
  {
   "cell_type": "markdown",
   "metadata": {},
   "source": [
    "Future Trunks is able to share the heart medicine with Goku and saves his life.\n",
    "\n",
    "![Goku is happy to recieve the heart medicine](../images/Dfgsd.jpg)"
   ]
  },
  {
   "cell_type": "code",
   "execution_count": 22,
   "metadata": {},
   "outputs": [
    {
     "name": "stdout",
     "output_type": "stream",
     "text": [
      "[detached HEAD 28bc536] Future Trunks gives Goku the heart medicine so Goku will be able to save them from the androids.\n",
      " Date: Sun Sep 1 11:09:21 2002 -0700\n",
      " 1 file changed, 1 insertion(+)\n"
     ]
    }
   ],
   "source": [
    "echo \"Has heart medicine\" >> goku\n",
    "git add goku\n",
    "git commit -m \"Future Trunks gives Goku the heart medicine so Goku will be able to save them from the androids.\" --date 2002-09-01"
   ]
  },
  {
   "cell_type": "code",
   "execution_count": 23,
   "metadata": {},
   "outputs": [
    {
     "name": "stdout",
     "output_type": "stream",
     "text": [
      "Stopped at b9903fc...  Trunks is born\n",
      "You can amend the commit now, with\n",
      "\n",
      "  git commit --amend \n",
      "\n",
      "Once you are satisfied with your changes, run\n",
      "\n",
      "  git rebase --continue\n"
     ]
    }
   ],
   "source": [
    "git rebase --continue"
   ]
  },
  {
   "cell_type": "code",
   "execution_count": 24,
   "metadata": {},
   "outputs": [
    {
     "name": "stdout",
     "output_type": "stream",
     "text": [
      "Stopped at bdde691...  Goku contracts a deadly heart virus\n",
      "You can amend the commit now, with\n",
      "\n",
      "  git commit --amend \n",
      "\n",
      "Once you are satisfied with your changes, run\n",
      "\n",
      "  git rebase --continue\n"
     ]
    }
   ],
   "source": [
    "git rebase --continue"
   ]
  },
  {
   "cell_type": "code",
   "execution_count": 25,
   "metadata": {},
   "outputs": [
    {
     "name": "stdout",
     "output_type": "stream",
     "text": [
      "rm 'heart-virus'\n",
      "rm 'medicine'\n",
      "[detached HEAD ff3d3ed] Goku takes the heart medicine and survives the deadly virus\n",
      " 2 files changed, 0 insertions(+), 0 deletions(-)\n",
      " delete mode 100644 heart-virus\n",
      " delete mode 100644 medicine\n"
     ]
    }
   ],
   "source": [
    "git rm medicine heart-virus\n",
    "git commit -m \"Goku takes the heart medicine and survives the deadly virus\""
   ]
  },
  {
   "cell_type": "markdown",
   "metadata": {},
   "source": [
    "> Peeking at the rebase todo list, we see that we're set to drop the commit where Goku dies. It's safe to continue."
   ]
  },
  {
   "cell_type": "code",
   "execution_count": 26,
   "metadata": {},
   "outputs": [
    {
     "name": "stdout",
     "output_type": "stream",
     "text": [
      "drop f3b1ca83573a4bede115a06b6aec3f4d1f8a9fb0 Goku succumbs to the heart virus\n",
      "edit d1338548e6a66907468fae89d9e5b21f57b4b8e5 Androids 17 and 18 emerge from Dr. Gero's secret lab\n",
      "drop c728df4e1edce9f15c3d61b52c6544ba44e54e43 Defeat!\n",
      "drop 0988e2f88da2f1fa6eb17a579f609b776a9fe7df Gohans Sacrifice\n",
      "drop 7c81c1ff5308e6e19bd84ae6da514a2cd71dea0e The time machine\n",
      "\n",
      "# Rebase 568b607..7c81c1f onto 568b607 (12 commands)\n",
      "#\n",
      "# Commands:\n",
      "# p, pick = use commit\n",
      "# r, reword = use commit, but edit the commit message\n",
      "# e, edit = use commit, but stop for amending\n",
      "# s, squash = use commit, but meld into previous commit\n",
      "# f, fixup = like \"squash\", but discard this commit's log message\n",
      "# x, exec = run command (the rest of the line) using shell\n",
      "# d, drop = remove commit\n",
      "#\n",
      "# These lines can be re-ordered; they are executed from top to bottom.\n",
      "#\n",
      "# If you remove a line here THAT COMMIT WILL BE LOST.\n",
      "#\n",
      "# However, if you remove everything, the rebase will be aborted.\n",
      "#\n",
      "# Note that empty commits are commented out\n"
     ]
    }
   ],
   "source": [
    "cat $REBASEFILE"
   ]
  },
  {
   "cell_type": "markdown",
   "metadata": {},
   "source": [
    "The androids emerge in this timeline, but our heros are prepared. With Goku and Trunks, how could they lose?\n",
    "\n",
    "![The androids emerge](../images/Dr.jpg)"
   ]
  },
  {
   "cell_type": "code",
   "execution_count": 27,
   "metadata": {},
   "outputs": [
    {
     "name": "stdout",
     "output_type": "stream",
     "text": [
      "Stopped at d133854...  Androids 17 and 18 emerge from Dr. Gero's secret lab\n",
      "You can amend the commit now, with\n",
      "\n",
      "  git commit --amend \n",
      "\n",
      "Once you are satisfied with your changes, run\n",
      "\n",
      "  git rebase --continue\n"
     ]
    }
   ],
   "source": [
    "git rebase --continue"
   ]
  },
  {
   "cell_type": "markdown",
   "metadata": {},
   "source": [
    "> One more `rebase --continue` and we will be up to date."
   ]
  },
  {
   "cell_type": "code",
   "execution_count": 28,
   "metadata": {},
   "outputs": [
    {
     "name": "stdout",
     "output_type": "stream",
     "text": [
      "Successfully rebased and updated refs/heads/FutureTrunks.\n"
     ]
    }
   ],
   "source": [
    "git rebase --continue"
   ]
  },
  {
   "cell_type": "markdown",
   "metadata": {},
   "source": [
    "Trunks' changes to the past have caused a new threat to emerge - the evil Cell! \n",
    "\n",
    "![Cell](../images/Cell_DBZ_Ep_177_001.jpg)"
   ]
  },
  {
   "cell_type": "code",
   "execution_count": 29,
   "metadata": {},
   "outputs": [
    {
     "name": "stdout",
     "output_type": "stream",
     "text": [
      "[FutureTrunks 4a1aa0b] Cell arrives in a time machine and begins to wreak havoc\n",
      " Date: Sat Mar 1 10:09:30 2003 -0800\n",
      " 2 files changed, 0 insertions(+), 0 deletions(-)\n",
      " create mode 100644 cell\n",
      " create mode 100644 cell-time-machine\n"
     ]
    }
   ],
   "source": [
    "touch cell cell-time-machine\n",
    "git add cell cell-time-machine\n",
    "git commit -m \"Cell arrives in a time machine and begins to wreak havoc\" --date=2003-03-01"
   ]
  },
  {
   "cell_type": "markdown",
   "metadata": {},
   "source": [
    "With their combined efforts, our heros are able to defeat this new threat.\n",
    "\n",
    "![Cell defeated](../images/IHATEMYTOUNGE.jpg)"
   ]
  },
  {
   "cell_type": "code",
   "execution_count": 30,
   "metadata": {},
   "outputs": [
    {
     "name": "stdout",
     "output_type": "stream",
     "text": [
      "rm 'cell'\n",
      "rm 'goku'\n",
      "[FutureTrunks dd962f3] Cell is defeated\n",
      " Date: Mon Dec 1 10:09:31 2003 -0800\n",
      " 2 files changed, 1 deletion(-)\n",
      " delete mode 100644 cell\n",
      " delete mode 100644 goku\n"
     ]
    }
   ],
   "source": [
    "git rm cell goku\n",
    "git commit -m \"Cell is defeated\" --date=2003-12-01"
   ]
  },
  {
   "cell_type": "markdown",
   "metadata": {},
   "source": [
    "Trunks says goodbye to his new friends and returns to his own history. The rebase is done, but has he really changed history? What will his timeline look like with the androids defeated?\n",
    "\n",
    "\n",
    "![](../images/FutureTrunksPeaceEp193.jpg)"
   ]
  },
  {
   "cell_type": "code",
   "execution_count": 31,
   "metadata": {},
   "outputs": [
    {
     "name": "stdout",
     "output_type": "stream",
     "text": [
      "rm 'trunks'\n",
      "[FutureTrunks efb0f08] Trunks bids his friends farewell and returns to his timeline\n",
      " Date: Wed Dec 31 10:09:32 2003 -0800\n",
      " 1 file changed, 0 insertions(+), 0 deletions(-)\n",
      " delete mode 100644 trunks\n"
     ]
    }
   ],
   "source": [
    "git rm trunks\n",
    "git commit -m \"Trunks bids his friends farewell and returns to his timeline\" --date=2003-12-31\n",
    "git tag \"Trunks-Leaves\"\n",
    "git branch \"MainTimeline\""
   ]
  },
  {
   "cell_type": "markdown",
   "metadata": {},
   "source": [
    "Like Trunks, we want to see what happened to our own timeline. Did any of the changes we made to the past actually change our history?"
   ]
  },
  {
   "cell_type": "code",
   "execution_count": 32,
   "metadata": {},
   "outputs": [
    {
     "name": "stdout",
     "output_type": "stream",
     "text": [
      "HEAD is now at 7c81c1f The time machine\n"
     ]
    }
   ],
   "source": [
    "# do a hard-reset to simulate time travel\n",
    "git reset --hard Jump-Back\n",
    "# checkout future-trunks from the past to simulate trunks moving into the future\n",
    "git checkout Trunks-Leaves -- future-trunks\n",
    "mv future-trunks trunks"
   ]
  },
  {
   "cell_type": "markdown",
   "metadata": {},
   "source": [
    "Let's take a look at the log to see what our new timeline looks like!"
   ]
  },
  {
   "cell_type": "code",
   "execution_count": 41,
   "metadata": {},
   "outputs": [
    {
     "name": "stdout",
     "output_type": "stream",
     "text": [
      "\u001b[33mbe13a3b\u001b[m\u001b[33m (\u001b[m\u001b[1;36mHEAD -> \u001b[m\u001b[1;32mFutureTrunks\u001b[m\u001b[33m)\u001b[m Trunks defeats the androids and saves his future--date=2017-01-03\n",
      "\u001b[33m6e106e3\u001b[m Trunks arrives back in his own timeline. However, he discovers that the future is still as he left it.\n",
      "\u001b[33m7c81c1f\u001b[m\u001b[33m (\u001b[m\u001b[1;33mtag: Jump-Back\u001b[m\u001b[33m)\u001b[m The time machine\n",
      "\u001b[33m0988e2f\u001b[m Gohans Sacrifice\n",
      "\u001b[33mc728df4\u001b[m Defeat!\n",
      "\u001b[33md133854\u001b[m Androids 17 and 18 emerge from Dr. Gero's secret lab\n",
      "\u001b[33mf3b1ca8\u001b[m Goku succumbs to the heart virus\n",
      "\u001b[33mbdde691\u001b[m Goku contracts a deadly heart virus\n",
      "\u001b[33mb9903fc\u001b[m Trunks is born\n",
      "\u001b[33m8e6cbfc\u001b[m Goku defeats Frieza and his father once and for all\n",
      "\u001b[33m4d96a24\u001b[m Goku dispatches Frieza's minions with ease\n",
      "\u001b[33m3c68559\u001b[m Goku arrives using instant transmission\n",
      "\u001b[33m7741deb\u001b[m Frieza's minions emerge and the battle begins\n",
      "\u001b[33m67d89ea\u001b[m The evil arrives. IT'S FRIEZA (and king cold)\n",
      "\u001b[33m568b607\u001b[m\u001b[33m (\u001b[m\u001b[1;33mtag: Battle-Begins\u001b[m\u001b[33m)\u001b[m The Z fighters prepare for battle with the unknown evil force\n"
     ]
    }
   ],
   "source": [
    "git log --pretty=oneline --abbrev-commit"
   ]
  },
  {
   "cell_type": "markdown",
   "metadata": {},
   "source": [
    "Looks like nothing changed in the original timeline! We didn't really change history at all. "
   ]
  },
  {
   "cell_type": "code",
   "execution_count": 34,
   "metadata": {},
   "outputs": [
    {
     "name": "stdout",
     "output_type": "stream",
     "text": [
      "[FutureTrunks 6e106e3] Trunks arrives back in his own timeline. However, he discovers that the future is still as he left it.\n",
      " Date: Mon Jan 2 10:09:41 2017 -0800\n",
      " 1 file changed, 1 insertion(+)\n",
      " create mode 100644 future-trunks\n"
     ]
    }
   ],
   "source": [
    "git commit -m \"Trunks arrives back in his own timeline. However, he discovers that the future is still as he left it.\" \\\n",
    "--date 2017-01-02"
   ]
  },
  {
   "cell_type": "markdown",
   "metadata": {},
   "source": [
    "Although Trunks had hoped to have saved his own timeline, he finds things exactly as he left them. However, Trunks has grown emotionally and physically from his time and training with his father Vegeta and with Goku. Trunks is able to save his own timeline from the Androids.\n",
    "\n",
    "![Trunks defeating Android 17](../images/Vlcsnap-2017-02-15-18h42m54s309.jpg)"
   ]
  },
  {
   "cell_type": "code",
   "execution_count": 35,
   "metadata": {},
   "outputs": [
    {
     "name": "stdout",
     "output_type": "stream",
     "text": [
      "rm 'android17'\n",
      "rm 'android18'\n",
      "[FutureTrunks be13a3b] Trunks defeats the androids and saves his future--date=2017-01-03\n",
      " 2 files changed, 0 insertions(+), 0 deletions(-)\n",
      " delete mode 100644 android17\n",
      " delete mode 100644 android18\n"
     ]
    }
   ],
   "source": [
    "git rm android17 android18\n",
    "git commit -m 'Trunks defeats the androids and saves his future'\\\n",
    "--date=2017-01-03 "
   ]
  },
  {
   "cell_type": "markdown",
   "metadata": {},
   "source": [
    "# What Happened?"
   ]
  },
  {
   "cell_type": "markdown",
   "metadata": {},
   "source": [
    "When Trunks got in the time machine, he thought he could change history. However, history in Dragon Ball Z, like git commit objects, is immutable. When he arrived in the past, he created a fork in the timeline. Changes made to the fork didn't affect his own timeline. In the same way, when we did a `git rebase`, we didn't actually change the timeline we came from; we just created a new one. The other timeline still exists, and we can go back using the reflog (at least until the old timeline gets garbage collected). \n",
    "\n",
    "The real danger of \"rewriting history\" with git if you push a commit to a remote with incompatible history. Suppose we had pushed Goku's death to a remote repository - we'd be \"locked in\" at that point and would have to find some other way to save the future. But as long as we haven't pushed a commit, we're OK to `rebase` and `amend` and `rebase` to our heart's content (as long as we don't leave detached branches around too long - check your `gc.pruneExpire` setting).\n"
   ]
  },
  {
   "cell_type": "markdown",
   "metadata": {},
   "source": [
    "Let's inspect the reflog and take a look at what really happened."
   ]
  },
  {
   "cell_type": "code",
   "execution_count": 40,
   "metadata": {},
   "outputs": [
    {
     "name": "stdout",
     "output_type": "stream",
     "text": [
      "* \u001b[33mbe13a3b\u001b[m\u001b[33m (\u001b[m\u001b[1;36mHEAD -> \u001b[m\u001b[1;32mFutureTrunks\u001b[m\u001b[33m)\u001b[m Trunks defeats the androids and saves his future--date=2017-01-03\n",
      "* \u001b[33m6e106e3\u001b[m Trunks arrives back in his own timeline. However, he discovers that the future is still as he left it.\n",
      "* \u001b[33m7c81c1f\u001b[m\u001b[33m (\u001b[m\u001b[1;33mtag: Jump-Back\u001b[m\u001b[33m)\u001b[m The time machine\n",
      "* \u001b[33m0988e2f\u001b[m Gohans Sacrifice\n",
      "* \u001b[33mc728df4\u001b[m Defeat!\n",
      "\u001b[31m|\u001b[m * \u001b[33mefb0f08\u001b[m\u001b[33m (\u001b[m\u001b[1;33mtag: Trunks-Leaves\u001b[m\u001b[33m, \u001b[m\u001b[1;32mMainTimeline\u001b[m\u001b[33m)\u001b[m Trunks bids his friends farewell and returns to his timeline\n",
      "\u001b[31m|\u001b[m * \u001b[33mdd962f3\u001b[m Cell is defeated\n",
      "\u001b[31m|\u001b[m * \u001b[33m4a1aa0b\u001b[m Cell arrives in a time machine and begins to wreak havoc\n",
      "* \u001b[32m|\u001b[m \u001b[33md133854\u001b[m Androids 17 and 18 emerge from Dr. Gero's secret lab\n",
      "\u001b[32m|\u001b[m * \u001b[33m31e5b2e\u001b[m Androids 17 and 18 emerge from Dr. Gero's secret lab\n",
      "\u001b[32m|\u001b[m * \u001b[33mff3d3ed\u001b[m Goku takes the heart medicine and survives the deadly virus\n",
      "* \u001b[32m|\u001b[m \u001b[33mf3b1ca8\u001b[m Goku succumbs to the heart virus\n",
      "\u001b[32m|\u001b[m * \u001b[33m6d2c6bf\u001b[m Goku contracts a deadly heart virus\n",
      "* \u001b[32m|\u001b[m \u001b[33mbdde691\u001b[m Goku contracts a deadly heart virus\n",
      "\u001b[32m|\u001b[m * \u001b[33m0af57b2\u001b[m Trunks is born\n",
      "\u001b[32m|\u001b[m * \u001b[33m28bc536\u001b[m Future Trunks gives Goku the heart medicine so Goku will be able to save them from the androids.\n",
      "* \u001b[32m|\u001b[m \u001b[33mb9903fc\u001b[m Trunks is born\n",
      "* \u001b[32m|\u001b[m \u001b[33m8e6cbfc\u001b[m Goku defeats Frieza and his father once and for all\n",
      "* \u001b[32m|\u001b[m \u001b[33m4d96a24\u001b[m Goku dispatches Frieza's minions with ease\n",
      "\u001b[32m|\u001b[m * \u001b[33m32196ef\u001b[m Future Trunks meets Goku\n",
      "* \u001b[32m|\u001b[m \u001b[33m3c68559\u001b[m Goku arrives using instant transmission\n",
      "\u001b[32m|\u001b[m * \u001b[33med89f7e\u001b[m Goku arrives using instant transmission\n",
      "\u001b[32m|\u001b[m * \u001b[33mdac033f\u001b[m Trunks defeats Frieza and his father, dramatically\n",
      "\u001b[32m|\u001b[m * \u001b[33m69236cd\u001b[m Trunks defeats Friezas minions\n",
      "* \u001b[32m|\u001b[m \u001b[33m7741deb\u001b[m Frieza's minions emerge and the battle begins\n",
      "\u001b[32m|\u001b[m * \u001b[33m116a7a2\u001b[m Frieza's minions emerge and the battle begins\n",
      "\u001b[32m|\u001b[m * \u001b[33m4b5b807\u001b[m Future Trunks arrives in a time machine to the astonishment of the Z fighters\n",
      "\u001b[32m|\u001b[m\u001b[32m/\u001b[m  \n",
      "* \u001b[33m67d89ea\u001b[m The evil arrives. IT'S FRIEZA (and king cold)\n",
      "* \u001b[33m568b607\u001b[m\u001b[33m (\u001b[m\u001b[1;33mtag: Battle-Begins\u001b[m\u001b[33m)\u001b[m The Z fighters prepare for battle with the unknown evil force\n"
     ]
    }
   ],
   "source": [
    "git log --graph --reflog --pretty=oneline --author-date-order --decorate --abbrev-commit"
   ]
  },
  {
   "cell_type": "markdown",
   "metadata": {},
   "source": [
    "We can see that there are now two branches in history. \n",
    "I used some tags to make it easier to jump back to the time machine, but if I hadn't done so, I still could have gotten the reference to jump back to using the reflog.\n",
    "Note that in a normal scenario, we'd just leave the old timeline behind and proceed as before, but suppose we made a mistake in the middle of a rebase and didn't realize it until after?\n",
    "We'd just do a `git reset` back to our original starting point and do the rebase all over again.\n",
    "Nothing would be lost unless we waited long enough for the garbage collector to prune our dangling branch."
   ]
  }
 ],
 "metadata": {
  "kernelspec": {
   "display_name": "Bash [conda env:pelican]",
   "language": "bash",
   "name": "conda-env-pelican-bash"
  },
  "language_info": {
   "codemirror_mode": "shell",
   "file_extension": ".sh",
   "mimetype": "text/x-sh",
   "name": "bash"
  },
  "pelican": {
   "authors": "Jason Ross",
   "categories": [
    "Version Control"
   ],
   "category": "Version Control",
   "date": "2020-09-21",
   "slug": "git-time-travel",
   "summary": "Trunks travels back in time to do a git-rebase on his timeline, but discovers that he is now in a detached head state",
   "tags": "git bash",
   "title": "How I learned about git rebase by watching Dragon Ball Z"
  }
 },
 "nbformat": 4,
 "nbformat_minor": 4
}
